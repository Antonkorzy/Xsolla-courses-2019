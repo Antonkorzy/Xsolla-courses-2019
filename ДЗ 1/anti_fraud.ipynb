{
  "nbformat": 4,
  "nbformat_minor": 0,
  "metadata": {
    "kernelspec": {
      "display_name": "Python 3",
      "language": "python",
      "name": "python3"
    },
    "language_info": {
      "codemirror_mode": {
        "name": "ipython",
        "version": 3
      },
      "file_extension": ".py",
      "mimetype": "text/x-python",
      "name": "python",
      "nbconvert_exporter": "python",
      "pygments_lexer": "ipython3",
      "version": "3.6.4"
    },
    "colab": {
      "name": "anti-fraud.ipynb",
      "version": "0.3.2",
      "provenance": [],
      "collapsed_sections": [],
      "toc_visible": true
    }
  },
  "cells": [
    {
      "cell_type": "code",
      "metadata": {
        "id": "oFp7F5c4rxj2",
        "colab_type": "code",
        "colab": {}
      },
      "source": [
        "import warnings\n",
        "warnings.filterwarnings('ignore')"
      ],
      "execution_count": 0,
      "outputs": []
    },
    {
      "cell_type": "code",
      "metadata": {
        "id": "uGzSjXeJrxj_",
        "colab_type": "code",
        "colab": {
          "base_uri": "https://localhost:8080/",
          "height": 74
        },
        "outputId": "4bd75188-9bdb-4c28-b93e-6295b6fa9799"
      },
      "source": [
        "import numpy as np\n",
        "import pandas as pd \n",
        "from sklearn.model_selection import StratifiedShuffleSplit,train_test_split,cross_val_score,StratifiedKFold,GridSearchCV\n",
        "from imblearn.over_sampling import SMOTE\n",
        "from imblearn.under_sampling import RandomUnderSampler\n",
        "from imblearn.combine import SMOTEENN\n",
        "from sklearn.linear_model import LogisticRegression\n",
        "from sklearn.ensemble import RandomForestClassifier\n",
        "from sklearn.metrics import classification_report,confusion_matrix,roc_curve,auc\n",
        "import seaborn as sns\n",
        "import matplotlib.pyplot as plt"
      ],
      "execution_count": 2,
      "outputs": [
        {
          "output_type": "stream",
          "text": [
            "/usr/local/lib/python3.6/dist-packages/sklearn/externals/six.py:31: DeprecationWarning: The module is deprecated in version 0.21 and will be removed in version 0.23 since we've dropped support for Python 2.7. Please rely on the official version of six (https://pypi.org/project/six/).\n",
            "  \"(https://pypi.org/project/six/).\", DeprecationWarning)\n"
          ],
          "name": "stderr"
        }
      ]
    },
    {
      "cell_type": "markdown",
      "metadata": {
        "id": "2ZL_dZ4vrxkS",
        "colab_type": "text"
      },
      "source": [
        "# Попробуем решить ML часть задачи разработки anti-fraud системы"
      ]
    },
    {
      "cell_type": "code",
      "metadata": {
        "id": "NAPDY0oYrxkV",
        "colab_type": "code",
        "colab": {
          "base_uri": "https://localhost:8080/",
          "height": 35
        },
        "outputId": "6139ca13-3516-45c6-9d96-914320990ed5"
      },
      "source": [
        "GeneralDataFrame = pd.read_csv('./creditcard.csv')\n",
        "GeneralDataFrame.shape"
      ],
      "execution_count": 3,
      "outputs": [
        {
          "output_type": "execute_result",
          "data": {
            "text/plain": [
              "(284807, 31)"
            ]
          },
          "metadata": {
            "tags": []
          },
          "execution_count": 3
        }
      ]
    },
    {
      "cell_type": "code",
      "metadata": {
        "id": "9RhPdnXArxkd",
        "colab_type": "code",
        "colab": {},
        "outputId": "56140fd8-2bfe-4a5f-85df-0d06b1c9dd94"
      },
      "source": [
        "GeneralDataFrame.head()"
      ],
      "execution_count": 0,
      "outputs": [
        {
          "output_type": "execute_result",
          "data": {
            "text/html": [
              "<div>\n",
              "<style scoped>\n",
              "    .dataframe tbody tr th:only-of-type {\n",
              "        vertical-align: middle;\n",
              "    }\n",
              "\n",
              "    .dataframe tbody tr th {\n",
              "        vertical-align: top;\n",
              "    }\n",
              "\n",
              "    .dataframe thead th {\n",
              "        text-align: right;\n",
              "    }\n",
              "</style>\n",
              "<table border=\"1\" class=\"dataframe\">\n",
              "  <thead>\n",
              "    <tr style=\"text-align: right;\">\n",
              "      <th></th>\n",
              "      <th>Time</th>\n",
              "      <th>V1</th>\n",
              "      <th>V2</th>\n",
              "      <th>V3</th>\n",
              "      <th>V4</th>\n",
              "      <th>V5</th>\n",
              "      <th>V6</th>\n",
              "      <th>V7</th>\n",
              "      <th>V8</th>\n",
              "      <th>V9</th>\n",
              "      <th>...</th>\n",
              "      <th>V21</th>\n",
              "      <th>V22</th>\n",
              "      <th>V23</th>\n",
              "      <th>V24</th>\n",
              "      <th>V25</th>\n",
              "      <th>V26</th>\n",
              "      <th>V27</th>\n",
              "      <th>V28</th>\n",
              "      <th>Amount</th>\n",
              "      <th>Class</th>\n",
              "    </tr>\n",
              "  </thead>\n",
              "  <tbody>\n",
              "    <tr>\n",
              "      <th>0</th>\n",
              "      <td>0.0</td>\n",
              "      <td>-1.359807</td>\n",
              "      <td>-0.072781</td>\n",
              "      <td>2.536347</td>\n",
              "      <td>1.378155</td>\n",
              "      <td>-0.338321</td>\n",
              "      <td>0.462388</td>\n",
              "      <td>0.239599</td>\n",
              "      <td>0.098698</td>\n",
              "      <td>0.363787</td>\n",
              "      <td>...</td>\n",
              "      <td>-0.018307</td>\n",
              "      <td>0.277838</td>\n",
              "      <td>-0.110474</td>\n",
              "      <td>0.066928</td>\n",
              "      <td>0.128539</td>\n",
              "      <td>-0.189115</td>\n",
              "      <td>0.133558</td>\n",
              "      <td>-0.021053</td>\n",
              "      <td>149.62</td>\n",
              "      <td>0</td>\n",
              "    </tr>\n",
              "    <tr>\n",
              "      <th>1</th>\n",
              "      <td>0.0</td>\n",
              "      <td>1.191857</td>\n",
              "      <td>0.266151</td>\n",
              "      <td>0.166480</td>\n",
              "      <td>0.448154</td>\n",
              "      <td>0.060018</td>\n",
              "      <td>-0.082361</td>\n",
              "      <td>-0.078803</td>\n",
              "      <td>0.085102</td>\n",
              "      <td>-0.255425</td>\n",
              "      <td>...</td>\n",
              "      <td>-0.225775</td>\n",
              "      <td>-0.638672</td>\n",
              "      <td>0.101288</td>\n",
              "      <td>-0.339846</td>\n",
              "      <td>0.167170</td>\n",
              "      <td>0.125895</td>\n",
              "      <td>-0.008983</td>\n",
              "      <td>0.014724</td>\n",
              "      <td>2.69</td>\n",
              "      <td>0</td>\n",
              "    </tr>\n",
              "    <tr>\n",
              "      <th>2</th>\n",
              "      <td>1.0</td>\n",
              "      <td>-1.358354</td>\n",
              "      <td>-1.340163</td>\n",
              "      <td>1.773209</td>\n",
              "      <td>0.379780</td>\n",
              "      <td>-0.503198</td>\n",
              "      <td>1.800499</td>\n",
              "      <td>0.791461</td>\n",
              "      <td>0.247676</td>\n",
              "      <td>-1.514654</td>\n",
              "      <td>...</td>\n",
              "      <td>0.247998</td>\n",
              "      <td>0.771679</td>\n",
              "      <td>0.909412</td>\n",
              "      <td>-0.689281</td>\n",
              "      <td>-0.327642</td>\n",
              "      <td>-0.139097</td>\n",
              "      <td>-0.055353</td>\n",
              "      <td>-0.059752</td>\n",
              "      <td>378.66</td>\n",
              "      <td>0</td>\n",
              "    </tr>\n",
              "    <tr>\n",
              "      <th>3</th>\n",
              "      <td>1.0</td>\n",
              "      <td>-0.966272</td>\n",
              "      <td>-0.185226</td>\n",
              "      <td>1.792993</td>\n",
              "      <td>-0.863291</td>\n",
              "      <td>-0.010309</td>\n",
              "      <td>1.247203</td>\n",
              "      <td>0.237609</td>\n",
              "      <td>0.377436</td>\n",
              "      <td>-1.387024</td>\n",
              "      <td>...</td>\n",
              "      <td>-0.108300</td>\n",
              "      <td>0.005274</td>\n",
              "      <td>-0.190321</td>\n",
              "      <td>-1.175575</td>\n",
              "      <td>0.647376</td>\n",
              "      <td>-0.221929</td>\n",
              "      <td>0.062723</td>\n",
              "      <td>0.061458</td>\n",
              "      <td>123.50</td>\n",
              "      <td>0</td>\n",
              "    </tr>\n",
              "    <tr>\n",
              "      <th>4</th>\n",
              "      <td>2.0</td>\n",
              "      <td>-1.158233</td>\n",
              "      <td>0.877737</td>\n",
              "      <td>1.548718</td>\n",
              "      <td>0.403034</td>\n",
              "      <td>-0.407193</td>\n",
              "      <td>0.095921</td>\n",
              "      <td>0.592941</td>\n",
              "      <td>-0.270533</td>\n",
              "      <td>0.817739</td>\n",
              "      <td>...</td>\n",
              "      <td>-0.009431</td>\n",
              "      <td>0.798278</td>\n",
              "      <td>-0.137458</td>\n",
              "      <td>0.141267</td>\n",
              "      <td>-0.206010</td>\n",
              "      <td>0.502292</td>\n",
              "      <td>0.219422</td>\n",
              "      <td>0.215153</td>\n",
              "      <td>69.99</td>\n",
              "      <td>0</td>\n",
              "    </tr>\n",
              "  </tbody>\n",
              "</table>\n",
              "<p>5 rows × 31 columns</p>\n",
              "</div>"
            ],
            "text/plain": [
              "   Time        V1        V2        V3        V4        V5        V6        V7  \\\n",
              "0   0.0 -1.359807 -0.072781  2.536347  1.378155 -0.338321  0.462388  0.239599   \n",
              "1   0.0  1.191857  0.266151  0.166480  0.448154  0.060018 -0.082361 -0.078803   \n",
              "2   1.0 -1.358354 -1.340163  1.773209  0.379780 -0.503198  1.800499  0.791461   \n",
              "3   1.0 -0.966272 -0.185226  1.792993 -0.863291 -0.010309  1.247203  0.237609   \n",
              "4   2.0 -1.158233  0.877737  1.548718  0.403034 -0.407193  0.095921  0.592941   \n",
              "\n",
              "         V8        V9  ...       V21       V22       V23       V24       V25  \\\n",
              "0  0.098698  0.363787  ... -0.018307  0.277838 -0.110474  0.066928  0.128539   \n",
              "1  0.085102 -0.255425  ... -0.225775 -0.638672  0.101288 -0.339846  0.167170   \n",
              "2  0.247676 -1.514654  ...  0.247998  0.771679  0.909412 -0.689281 -0.327642   \n",
              "3  0.377436 -1.387024  ... -0.108300  0.005274 -0.190321 -1.175575  0.647376   \n",
              "4 -0.270533  0.817739  ... -0.009431  0.798278 -0.137458  0.141267 -0.206010   \n",
              "\n",
              "        V26       V27       V28  Amount  Class  \n",
              "0 -0.189115  0.133558 -0.021053  149.62      0  \n",
              "1  0.125895 -0.008983  0.014724    2.69      0  \n",
              "2 -0.139097 -0.055353 -0.059752  378.66      0  \n",
              "3 -0.221929  0.062723  0.061458  123.50      0  \n",
              "4  0.502292  0.219422  0.215153   69.99      0  \n",
              "\n",
              "[5 rows x 31 columns]"
            ]
          },
          "metadata": {
            "tags": []
          },
          "execution_count": 4
        }
      ]
    },
    {
      "cell_type": "code",
      "metadata": {
        "id": "KLStzHAcrxkq",
        "colab_type": "code",
        "colab": {},
        "outputId": "49d85341-992a-48b1-9af0-613b5845cdaf"
      },
      "source": [
        "GeneralDataFrame.describe()"
      ],
      "execution_count": 0,
      "outputs": [
        {
          "output_type": "execute_result",
          "data": {
            "text/html": [
              "<div>\n",
              "<style scoped>\n",
              "    .dataframe tbody tr th:only-of-type {\n",
              "        vertical-align: middle;\n",
              "    }\n",
              "\n",
              "    .dataframe tbody tr th {\n",
              "        vertical-align: top;\n",
              "    }\n",
              "\n",
              "    .dataframe thead th {\n",
              "        text-align: right;\n",
              "    }\n",
              "</style>\n",
              "<table border=\"1\" class=\"dataframe\">\n",
              "  <thead>\n",
              "    <tr style=\"text-align: right;\">\n",
              "      <th></th>\n",
              "      <th>Time</th>\n",
              "      <th>V1</th>\n",
              "      <th>V2</th>\n",
              "      <th>V3</th>\n",
              "      <th>V4</th>\n",
              "      <th>V5</th>\n",
              "      <th>V6</th>\n",
              "      <th>V7</th>\n",
              "      <th>V8</th>\n",
              "      <th>V9</th>\n",
              "      <th>...</th>\n",
              "      <th>V21</th>\n",
              "      <th>V22</th>\n",
              "      <th>V23</th>\n",
              "      <th>V24</th>\n",
              "      <th>V25</th>\n",
              "      <th>V26</th>\n",
              "      <th>V27</th>\n",
              "      <th>V28</th>\n",
              "      <th>Amount</th>\n",
              "      <th>Class</th>\n",
              "    </tr>\n",
              "  </thead>\n",
              "  <tbody>\n",
              "    <tr>\n",
              "      <th>count</th>\n",
              "      <td>284807.000000</td>\n",
              "      <td>2.848070e+05</td>\n",
              "      <td>2.848070e+05</td>\n",
              "      <td>2.848070e+05</td>\n",
              "      <td>2.848070e+05</td>\n",
              "      <td>2.848070e+05</td>\n",
              "      <td>2.848070e+05</td>\n",
              "      <td>2.848070e+05</td>\n",
              "      <td>2.848070e+05</td>\n",
              "      <td>2.848070e+05</td>\n",
              "      <td>...</td>\n",
              "      <td>2.848070e+05</td>\n",
              "      <td>2.848070e+05</td>\n",
              "      <td>2.848070e+05</td>\n",
              "      <td>2.848070e+05</td>\n",
              "      <td>2.848070e+05</td>\n",
              "      <td>2.848070e+05</td>\n",
              "      <td>2.848070e+05</td>\n",
              "      <td>2.848070e+05</td>\n",
              "      <td>284807.000000</td>\n",
              "      <td>284807.000000</td>\n",
              "    </tr>\n",
              "    <tr>\n",
              "      <th>mean</th>\n",
              "      <td>94813.859575</td>\n",
              "      <td>3.919560e-15</td>\n",
              "      <td>5.688174e-16</td>\n",
              "      <td>-8.769071e-15</td>\n",
              "      <td>2.782312e-15</td>\n",
              "      <td>-1.552563e-15</td>\n",
              "      <td>2.010663e-15</td>\n",
              "      <td>-1.694249e-15</td>\n",
              "      <td>-1.927028e-16</td>\n",
              "      <td>-3.137024e-15</td>\n",
              "      <td>...</td>\n",
              "      <td>1.537294e-16</td>\n",
              "      <td>7.959909e-16</td>\n",
              "      <td>5.367590e-16</td>\n",
              "      <td>4.458112e-15</td>\n",
              "      <td>1.453003e-15</td>\n",
              "      <td>1.699104e-15</td>\n",
              "      <td>-3.660161e-16</td>\n",
              "      <td>-1.206049e-16</td>\n",
              "      <td>88.349619</td>\n",
              "      <td>0.001727</td>\n",
              "    </tr>\n",
              "    <tr>\n",
              "      <th>std</th>\n",
              "      <td>47488.145955</td>\n",
              "      <td>1.958696e+00</td>\n",
              "      <td>1.651309e+00</td>\n",
              "      <td>1.516255e+00</td>\n",
              "      <td>1.415869e+00</td>\n",
              "      <td>1.380247e+00</td>\n",
              "      <td>1.332271e+00</td>\n",
              "      <td>1.237094e+00</td>\n",
              "      <td>1.194353e+00</td>\n",
              "      <td>1.098632e+00</td>\n",
              "      <td>...</td>\n",
              "      <td>7.345240e-01</td>\n",
              "      <td>7.257016e-01</td>\n",
              "      <td>6.244603e-01</td>\n",
              "      <td>6.056471e-01</td>\n",
              "      <td>5.212781e-01</td>\n",
              "      <td>4.822270e-01</td>\n",
              "      <td>4.036325e-01</td>\n",
              "      <td>3.300833e-01</td>\n",
              "      <td>250.120109</td>\n",
              "      <td>0.041527</td>\n",
              "    </tr>\n",
              "    <tr>\n",
              "      <th>min</th>\n",
              "      <td>0.000000</td>\n",
              "      <td>-5.640751e+01</td>\n",
              "      <td>-7.271573e+01</td>\n",
              "      <td>-4.832559e+01</td>\n",
              "      <td>-5.683171e+00</td>\n",
              "      <td>-1.137433e+02</td>\n",
              "      <td>-2.616051e+01</td>\n",
              "      <td>-4.355724e+01</td>\n",
              "      <td>-7.321672e+01</td>\n",
              "      <td>-1.343407e+01</td>\n",
              "      <td>...</td>\n",
              "      <td>-3.483038e+01</td>\n",
              "      <td>-1.093314e+01</td>\n",
              "      <td>-4.480774e+01</td>\n",
              "      <td>-2.836627e+00</td>\n",
              "      <td>-1.029540e+01</td>\n",
              "      <td>-2.604551e+00</td>\n",
              "      <td>-2.256568e+01</td>\n",
              "      <td>-1.543008e+01</td>\n",
              "      <td>0.000000</td>\n",
              "      <td>0.000000</td>\n",
              "    </tr>\n",
              "    <tr>\n",
              "      <th>25%</th>\n",
              "      <td>54201.500000</td>\n",
              "      <td>-9.203734e-01</td>\n",
              "      <td>-5.985499e-01</td>\n",
              "      <td>-8.903648e-01</td>\n",
              "      <td>-8.486401e-01</td>\n",
              "      <td>-6.915971e-01</td>\n",
              "      <td>-7.682956e-01</td>\n",
              "      <td>-5.540759e-01</td>\n",
              "      <td>-2.086297e-01</td>\n",
              "      <td>-6.430976e-01</td>\n",
              "      <td>...</td>\n",
              "      <td>-2.283949e-01</td>\n",
              "      <td>-5.423504e-01</td>\n",
              "      <td>-1.618463e-01</td>\n",
              "      <td>-3.545861e-01</td>\n",
              "      <td>-3.171451e-01</td>\n",
              "      <td>-3.269839e-01</td>\n",
              "      <td>-7.083953e-02</td>\n",
              "      <td>-5.295979e-02</td>\n",
              "      <td>5.600000</td>\n",
              "      <td>0.000000</td>\n",
              "    </tr>\n",
              "    <tr>\n",
              "      <th>50%</th>\n",
              "      <td>84692.000000</td>\n",
              "      <td>1.810880e-02</td>\n",
              "      <td>6.548556e-02</td>\n",
              "      <td>1.798463e-01</td>\n",
              "      <td>-1.984653e-02</td>\n",
              "      <td>-5.433583e-02</td>\n",
              "      <td>-2.741871e-01</td>\n",
              "      <td>4.010308e-02</td>\n",
              "      <td>2.235804e-02</td>\n",
              "      <td>-5.142873e-02</td>\n",
              "      <td>...</td>\n",
              "      <td>-2.945017e-02</td>\n",
              "      <td>6.781943e-03</td>\n",
              "      <td>-1.119293e-02</td>\n",
              "      <td>4.097606e-02</td>\n",
              "      <td>1.659350e-02</td>\n",
              "      <td>-5.213911e-02</td>\n",
              "      <td>1.342146e-03</td>\n",
              "      <td>1.124383e-02</td>\n",
              "      <td>22.000000</td>\n",
              "      <td>0.000000</td>\n",
              "    </tr>\n",
              "    <tr>\n",
              "      <th>75%</th>\n",
              "      <td>139320.500000</td>\n",
              "      <td>1.315642e+00</td>\n",
              "      <td>8.037239e-01</td>\n",
              "      <td>1.027196e+00</td>\n",
              "      <td>7.433413e-01</td>\n",
              "      <td>6.119264e-01</td>\n",
              "      <td>3.985649e-01</td>\n",
              "      <td>5.704361e-01</td>\n",
              "      <td>3.273459e-01</td>\n",
              "      <td>5.971390e-01</td>\n",
              "      <td>...</td>\n",
              "      <td>1.863772e-01</td>\n",
              "      <td>5.285536e-01</td>\n",
              "      <td>1.476421e-01</td>\n",
              "      <td>4.395266e-01</td>\n",
              "      <td>3.507156e-01</td>\n",
              "      <td>2.409522e-01</td>\n",
              "      <td>9.104512e-02</td>\n",
              "      <td>7.827995e-02</td>\n",
              "      <td>77.165000</td>\n",
              "      <td>0.000000</td>\n",
              "    </tr>\n",
              "    <tr>\n",
              "      <th>max</th>\n",
              "      <td>172792.000000</td>\n",
              "      <td>2.454930e+00</td>\n",
              "      <td>2.205773e+01</td>\n",
              "      <td>9.382558e+00</td>\n",
              "      <td>1.687534e+01</td>\n",
              "      <td>3.480167e+01</td>\n",
              "      <td>7.330163e+01</td>\n",
              "      <td>1.205895e+02</td>\n",
              "      <td>2.000721e+01</td>\n",
              "      <td>1.559499e+01</td>\n",
              "      <td>...</td>\n",
              "      <td>2.720284e+01</td>\n",
              "      <td>1.050309e+01</td>\n",
              "      <td>2.252841e+01</td>\n",
              "      <td>4.584549e+00</td>\n",
              "      <td>7.519589e+00</td>\n",
              "      <td>3.517346e+00</td>\n",
              "      <td>3.161220e+01</td>\n",
              "      <td>3.384781e+01</td>\n",
              "      <td>25691.160000</td>\n",
              "      <td>1.000000</td>\n",
              "    </tr>\n",
              "  </tbody>\n",
              "</table>\n",
              "<p>8 rows × 31 columns</p>\n",
              "</div>"
            ],
            "text/plain": [
              "                Time            V1            V2            V3            V4  \\\n",
              "count  284807.000000  2.848070e+05  2.848070e+05  2.848070e+05  2.848070e+05   \n",
              "mean    94813.859575  3.919560e-15  5.688174e-16 -8.769071e-15  2.782312e-15   \n",
              "std     47488.145955  1.958696e+00  1.651309e+00  1.516255e+00  1.415869e+00   \n",
              "min         0.000000 -5.640751e+01 -7.271573e+01 -4.832559e+01 -5.683171e+00   \n",
              "25%     54201.500000 -9.203734e-01 -5.985499e-01 -8.903648e-01 -8.486401e-01   \n",
              "50%     84692.000000  1.810880e-02  6.548556e-02  1.798463e-01 -1.984653e-02   \n",
              "75%    139320.500000  1.315642e+00  8.037239e-01  1.027196e+00  7.433413e-01   \n",
              "max    172792.000000  2.454930e+00  2.205773e+01  9.382558e+00  1.687534e+01   \n",
              "\n",
              "                 V5            V6            V7            V8            V9  \\\n",
              "count  2.848070e+05  2.848070e+05  2.848070e+05  2.848070e+05  2.848070e+05   \n",
              "mean  -1.552563e-15  2.010663e-15 -1.694249e-15 -1.927028e-16 -3.137024e-15   \n",
              "std    1.380247e+00  1.332271e+00  1.237094e+00  1.194353e+00  1.098632e+00   \n",
              "min   -1.137433e+02 -2.616051e+01 -4.355724e+01 -7.321672e+01 -1.343407e+01   \n",
              "25%   -6.915971e-01 -7.682956e-01 -5.540759e-01 -2.086297e-01 -6.430976e-01   \n",
              "50%   -5.433583e-02 -2.741871e-01  4.010308e-02  2.235804e-02 -5.142873e-02   \n",
              "75%    6.119264e-01  3.985649e-01  5.704361e-01  3.273459e-01  5.971390e-01   \n",
              "max    3.480167e+01  7.330163e+01  1.205895e+02  2.000721e+01  1.559499e+01   \n",
              "\n",
              "       ...           V21           V22           V23           V24  \\\n",
              "count  ...  2.848070e+05  2.848070e+05  2.848070e+05  2.848070e+05   \n",
              "mean   ...  1.537294e-16  7.959909e-16  5.367590e-16  4.458112e-15   \n",
              "std    ...  7.345240e-01  7.257016e-01  6.244603e-01  6.056471e-01   \n",
              "min    ... -3.483038e+01 -1.093314e+01 -4.480774e+01 -2.836627e+00   \n",
              "25%    ... -2.283949e-01 -5.423504e-01 -1.618463e-01 -3.545861e-01   \n",
              "50%    ... -2.945017e-02  6.781943e-03 -1.119293e-02  4.097606e-02   \n",
              "75%    ...  1.863772e-01  5.285536e-01  1.476421e-01  4.395266e-01   \n",
              "max    ...  2.720284e+01  1.050309e+01  2.252841e+01  4.584549e+00   \n",
              "\n",
              "                V25           V26           V27           V28         Amount  \\\n",
              "count  2.848070e+05  2.848070e+05  2.848070e+05  2.848070e+05  284807.000000   \n",
              "mean   1.453003e-15  1.699104e-15 -3.660161e-16 -1.206049e-16      88.349619   \n",
              "std    5.212781e-01  4.822270e-01  4.036325e-01  3.300833e-01     250.120109   \n",
              "min   -1.029540e+01 -2.604551e+00 -2.256568e+01 -1.543008e+01       0.000000   \n",
              "25%   -3.171451e-01 -3.269839e-01 -7.083953e-02 -5.295979e-02       5.600000   \n",
              "50%    1.659350e-02 -5.213911e-02  1.342146e-03  1.124383e-02      22.000000   \n",
              "75%    3.507156e-01  2.409522e-01  9.104512e-02  7.827995e-02      77.165000   \n",
              "max    7.519589e+00  3.517346e+00  3.161220e+01  3.384781e+01   25691.160000   \n",
              "\n",
              "               Class  \n",
              "count  284807.000000  \n",
              "mean        0.001727  \n",
              "std         0.041527  \n",
              "min         0.000000  \n",
              "25%         0.000000  \n",
              "50%         0.000000  \n",
              "75%         0.000000  \n",
              "max         1.000000  \n",
              "\n",
              "[8 rows x 31 columns]"
            ]
          },
          "metadata": {
            "tags": []
          },
          "execution_count": 5
        }
      ]
    },
    {
      "cell_type": "markdown",
      "metadata": {
        "id": "OheL-DXtrxk1",
        "colab_type": "text"
      },
      "source": [
        "В нашем распоряжении есть набор данных, в котором около 300к записей транзакций по банковским картам. Судя по тому, что мы видим первым взглядом, можно говорить о том что наши данные уже стандартизированы, все поля кроме Amount. Имеем 2 метки классов 0 - NotFraud, 1 - Fraud, целевой класс, который будем пытаться предсказывать - Fraud.\n",
        "Заметим еще то, что данные у нас анонимные, это связано со спецификой решаемой задачи, финансовые данные как и медицинские должны быть защещены путем анонимизации, если вы конечно не чей-то личный врач или банкир."
      ]
    },
    {
      "cell_type": "markdown",
      "metadata": {
        "id": "n98nla3yrxk3",
        "colab_type": "text"
      },
      "source": [
        "Как говорилось ранее в лекции, особенность задачи anti-fraud заключается в том, что скорее всего мы будем работать с несбалансированными по классам выборками. Чаще всего хороших транзакций гораздо больше чем мошеннических, потому что каждый участник процесса формирования и обработки транзакций на своей стороне пытается снизить количество фродовых транзакций, да и в принципе мошенников меньше чем нормальных людей, поэтому работаем с тем что есть."
      ]
    },
    {
      "cell_type": "markdown",
      "metadata": {
        "id": "LXyk4q2xrxk4",
        "colab_type": "text"
      },
      "source": [
        "Посмотрим, можем нам повезло и у нас классы сбалансированы:"
      ]
    },
    {
      "cell_type": "code",
      "metadata": {
        "id": "e_WOpulprxk6",
        "colab_type": "code",
        "colab": {
          "base_uri": "https://localhost:8080/",
          "height": 72
        },
        "outputId": "282d4a84-b961-4819-afeb-7277bc91238d"
      },
      "source": [
        "Names = {0:'Not_Fraud',1:'Fraud'}\n",
        "print(GeneralDataFrame.Class.value_counts().rename(index = Names))"
      ],
      "execution_count": 4,
      "outputs": [
        {
          "output_type": "stream",
          "text": [
            "Not_Fraud    284315\n",
            "Fraud           492\n",
            "Name: Class, dtype: int64\n"
          ],
          "name": "stdout"
        }
      ]
    },
    {
      "cell_type": "markdown",
      "metadata": {
        "id": "CN_MXU4trxlE",
        "colab_type": "text"
      },
      "source": [
        "Увы, конечно же они не будут сбалансированы, ничего удивительного, причем в нашем случае расхождение в количестве ппримеров каждого класса очень сильное, в несколько порядков."
      ]
    },
    {
      "cell_type": "markdown",
      "metadata": {
        "id": "tk6QCaxmrxlG",
        "colab_type": "text"
      },
      "source": [
        "Разделим наш набор данных на предикторы и целевую перменную, которую будем пытаться предсказывать. Избавимся от столбца Time, в данном случае мы не пытаемся решить задачу прогнозирования временных рядов, поэтому информации для нас в этой переменной не так уж и много."
      ]
    },
    {
      "cell_type": "code",
      "metadata": {
        "id": "BJVqVADprxlI",
        "colab_type": "code",
        "colab": {
          "base_uri": "https://localhost:8080/",
          "height": 108
        },
        "outputId": "1413be7d-be38-4939-c390-853ab24ba319"
      },
      "source": [
        "FeatureNames = GeneralDataFrame.iloc[:,1:30].columns\n",
        "Target = GeneralDataFrame.iloc[:1,30:].columns\n",
        "print(FeatureNames)\n",
        "print(Target)\n",
        "\n",
        "DataFeatures = GeneralDataFrame[FeatureNames]\n",
        "DataTarget = GeneralDataFrame[Target]"
      ],
      "execution_count": 5,
      "outputs": [
        {
          "output_type": "stream",
          "text": [
            "Index(['V1', 'V2', 'V3', 'V4', 'V5', 'V6', 'V7', 'V8', 'V9', 'V10', 'V11',\n",
            "       'V12', 'V13', 'V14', 'V15', 'V16', 'V17', 'V18', 'V19', 'V20', 'V21',\n",
            "       'V22', 'V23', 'V24', 'V25', 'V26', 'V27', 'V28', 'Amount'],\n",
            "      dtype='object')\n",
            "Index(['Class'], dtype='object')\n"
          ],
          "name": "stdout"
        }
      ]
    },
    {
      "cell_type": "markdown",
      "metadata": {
        "id": "p6hAcey2rxlP",
        "colab_type": "text"
      },
      "source": [
        "Мы изначально заметили дисбаланс классов, уже сходу понимаем что строить классификатор на таких данных это не очень хорошая идея, потому что мы скорее всего получим ситуацию переобучения модели под конкретный класс (под тот класс примеров которого больше). Но все же чисто в исследовательских целях обучим какой-нибудь простой алгоритм типа логистической регрессии, просто для понимания того, о чего будем отталкиваться в плане точности классификации."
      ]
    },
    {
      "cell_type": "code",
      "metadata": {
        "id": "AfU0vVQorxlX",
        "colab_type": "code",
        "colab": {},
        "outputId": "b227a3a4-9fb3-4a8f-f98f-9b4a68e47018"
      },
      "source": [
        "#разбиваем генеральную выборку на тренировочную - 70% и тестовую - 30%\n",
        "Splitter = StratifiedShuffleSplit(n_splits = 1,test_size = 0.3,random_state = 40)\n",
        "for train_indices,test_indices in Splitter.split(DataFeatures,DataTarget):\n",
        "    XTrain,YTrain = DataFeatures.iloc[train_indices],DataTarget.iloc[train_indices]\n",
        "    XTest,YTest = DataFeatures.iloc[test_indices],DataTarget.iloc[test_indices]\n",
        "\n",
        "print('x_test:' + str(len(XTrain)) + '  y_test:' + str(len(YTrain)))\n",
        "print('x_train:' + str(len(XTest)) + '  y_train:' + str(len(YTest)))"
      ],
      "execution_count": 0,
      "outputs": [
        {
          "output_type": "stream",
          "text": [
            "x_test:199364  y_test:199364\n",
            "x_train:85443  y_train:85443\n"
          ],
          "name": "stdout"
        }
      ]
    },
    {
      "cell_type": "code",
      "metadata": {
        "id": "K5FL6d9Orxlf",
        "colab_type": "code",
        "colab": {},
        "outputId": "721867be-0052-43bd-ed14-d4c680180f3d"
      },
      "source": [
        "#проверим что там у нас с балансами классов\n",
        "def CheckClassesBalance(Data):\n",
        "    Fraud_Train = []\n",
        "    NotFraud_Train = []\n",
        "    \n",
        "    for i in Data:\n",
        "        if i == 1:\n",
        "            Fraud_Train.append(i)\n",
        "        else:\n",
        "            NotFraud_Train.append(i)\n",
        "        \n",
        "    print('Number of training elements fraud class: ' + str(len(Fraud_Train)))\n",
        "    print('Number of training elements not fraud class: ' + str(len(NotFraud_Train)))\n",
        "\n",
        "Y = YTrain['Class']\n",
        "CheckClassesBalance(Y)\n",
        "\n",
        "Y = YTest['Class']\n",
        "CheckClassesBalance(Y)"
      ],
      "execution_count": 0,
      "outputs": [
        {
          "output_type": "stream",
          "text": [
            "Number of training elements fraud class: 344\n",
            "Number of training elements not fraud class: 199020\n",
            "Number of training elements fraud class: 148\n",
            "Number of training elements not fraud class: 85295\n"
          ],
          "name": "stdout"
        }
      ]
    },
    {
      "cell_type": "code",
      "metadata": {
        "id": "3ohT1LWirxlm",
        "colab_type": "code",
        "colab": {
          "base_uri": "https://localhost:8080/",
          "height": 54
        },
        "outputId": "a2001518-9669-4c0b-8b3d-52724b02dea4"
      },
      "source": [
        "#либо еще такой вариант есть, кому как нравится, результат разбиения на выборки будет одинаковый\n",
        "XTrain,XTest,YTrain,YTest = train_test_split(DataFeatures,DataTarget,#stratify = DataTarget,\n",
        "                                             test_size = 0.3,\n",
        "                                             random_state = 40)\n",
        "\n",
        "print('x_test:' + str(len(XTrain)) + '  y_test:' + str(len(YTrain)))\n",
        "print('x_train:' + str(len(XTest)) + '  y_train:' + str(len(YTest)))"
      ],
      "execution_count": 32,
      "outputs": [
        {
          "output_type": "stream",
          "text": [
            "x_test:199364  y_test:199364\n",
            "x_train:85443  y_train:85443\n"
          ],
          "name": "stdout"
        }
      ]
    },
    {
      "cell_type": "code",
      "metadata": {
        "id": "-I43MJKyrxlt",
        "colab_type": "code",
        "colab": {},
        "outputId": "7fc80b9e-5c5a-4866-b97e-e7c9f2a343f3"
      },
      "source": [
        "Y = YTrain['Class']\n",
        "CheckClassesBalance(Y)\n",
        "\n",
        "Y = YTest['Class']\n",
        "CheckClassesBalance(Y)"
      ],
      "execution_count": 0,
      "outputs": [
        {
          "output_type": "stream",
          "text": [
            "Number of training elements fraud class: 344\n",
            "Number of training elements not fraud class: 199020\n",
            "Number of training elements fraud class: 148\n",
            "Number of training elements not fraud class: 85295\n"
          ],
          "name": "stdout"
        }
      ]
    },
    {
      "cell_type": "code",
      "metadata": {
        "id": "qBFR1_cbrxl4",
        "colab_type": "code",
        "colab": {},
        "outputId": "693c0672-78ad-4f2b-92dd-074292752129"
      },
      "source": [
        "pd.unique(YTrain['Class'])"
      ],
      "execution_count": 0,
      "outputs": [
        {
          "output_type": "execute_result",
          "data": {
            "text/plain": [
              "array([0, 1], dtype=int64)"
            ]
          },
          "metadata": {
            "tags": []
          },
          "execution_count": 15
        }
      ]
    },
    {
      "cell_type": "code",
      "metadata": {
        "id": "OrjxEeQLrxmH",
        "colab_type": "code",
        "colab": {
          "base_uri": "https://localhost:8080/",
          "height": 35
        },
        "outputId": "bc952495-d7a0-4753-84c5-f42d6c950ab5"
      },
      "source": [
        "#Формируем веса для переменных\n",
        "from sklearn.utils import compute_class_weight\n",
        "w = compute_class_weight('balanced', np.unique(YTrain), YTrain['Class'])\n",
        "weights = {\n",
        "     np.unique(YTrain)[0] : w[0], # class 0 with weight 0\n",
        "     np.unique(YTrain)[1] : w[1]  # class 1 with weight 1 \n",
        "}\n",
        "print(weights) #веса"
      ],
      "execution_count": 33,
      "outputs": [
        {
          "output_type": "stream",
          "text": [
            "{0: 0.5008894025425858, 1: 281.5875706214689}\n"
          ],
          "name": "stdout"
        }
      ]
    },
    {
      "cell_type": "markdown",
      "metadata": {
        "id": "4lQYRewgrxmd",
        "colab_type": "text"
      },
      "source": [
        "![%D0%A1%D0%BD%D0%B8%D0%BC%D0%BE%D0%BA%20%D1%8D%D0%BA%D1%80%D0%B0%D0%BD%D0%B0%202019-07-26%20%D0%B2%2011.32.59.png](attachment:%D0%A1%D0%BD%D0%B8%D0%BC%D0%BE%D0%BA%20%D1%8D%D0%BA%D1%80%D0%B0%D0%BD%D0%B0%202019-07-26%20%D0%B2%2011.32.59.png)"
      ]
    },
    {
      "cell_type": "markdown",
      "metadata": {
        "id": "HsB4R6mkrxoG",
        "colab_type": "text"
      },
      "source": [
        "# Обучение классификатора на ансамблевом алгоритме случайного леса деревьев решений"
      ]
    },
    {
      "cell_type": "markdown",
      "metadata": {
        "id": "veAzqcuXrxoJ",
        "colab_type": "text"
      },
      "source": [
        "Как и в случае использования алгоритма логистической регрессии для разработки бинарного классификатора карточных транзакций, попробуем обучиться на несбалансированных данных с помощью алгоритма случайного леса на минималках. "
      ]
    },
    {
      "cell_type": "code",
      "metadata": {
        "id": "W4QrUTccrxoM",
        "colab_type": "code",
        "colab": {
          "base_uri": "https://localhost:8080/",
          "height": 35
        },
        "outputId": "03631cfd-6d69-4780-e0a2-a51bfc398662"
      },
      "source": [
        "#провалидируем классификатор с помощью кросс-валидации на 5 фолдах с расчетом среднего значения точности\n",
        "SKF = StratifiedKFold(n_splits = 5,shuffle = True,random_state = 40)\n",
        "RFC = RandomForestClassifier()\n",
        "Results = cross_val_score(RFC,XTrain,YTrain,cv = SKF)\n",
        "print(\"CV accuracy score: {:.2f}%\".format(Results.mean()*100))"
      ],
      "execution_count": 9,
      "outputs": [
        {
          "output_type": "stream",
          "text": [
            "CV accuracy score: 99.94%\n"
          ],
          "name": "stdout"
        }
      ]
    },
    {
      "cell_type": "code",
      "metadata": {
        "id": "zL3fQ5IfrxoT",
        "colab_type": "code",
        "colab": {
          "base_uri": "https://localhost:8080/",
          "height": 199
        },
        "outputId": "53271873-2f79-4177-a333-1ed2049f1534"
      },
      "source": [
        "#обучаем на полной тренировочной выборке\n",
        "Model_RFC_RandSeed = np.random.RandomState(40)\n",
        "\n",
        "Model_RFC = RandomForestClassifier(random_state = Model_RFC_RandSeed, class_weight=weights, \n",
        "                                   n_estimators=50, max_depth=50, min_samples_leaf=2)\n",
        "Model_RFC.fit(XTrain,YTrain)"
      ],
      "execution_count": 36,
      "outputs": [
        {
          "output_type": "execute_result",
          "data": {
            "text/plain": [
              "RandomForestClassifier(bootstrap=True,\n",
              "                       class_weight={0: 0.5008894025425858,\n",
              "                                     1: 281.5875706214689},\n",
              "                       criterion='gini', max_depth=50, max_features='auto',\n",
              "                       max_leaf_nodes=None, min_impurity_decrease=0.0,\n",
              "                       min_impurity_split=None, min_samples_leaf=2,\n",
              "                       min_samples_split=2, min_weight_fraction_leaf=0.0,\n",
              "                       n_estimators=50, n_jobs=None, oob_score=False,\n",
              "                       random_state=<mtrand.RandomState object at 0x7fb49294e0d8>,\n",
              "                       verbose=0, warm_start=False)"
            ]
          },
          "metadata": {
            "tags": []
          },
          "execution_count": 36
        }
      ]
    },
    {
      "cell_type": "code",
      "metadata": {
        "id": "7r9hRIYgrxoZ",
        "colab_type": "code",
        "colab": {
          "base_uri": "https://localhost:8080/",
          "height": 726
        },
        "outputId": "856b1408-2068-4349-9000-fbad6eccdf5f"
      },
      "source": [
        "#проверим работоспособность нашего классификатора на тестовой выборке\n",
        "Pred = Model_RFC.predict(XTest)\n",
        "print(classification_report(YTest,Pred,digits=5))\n",
        "\n",
        "ClassNames = ['NotFraud','Fraud']\n",
        "Matrix = confusion_matrix(YTest,Pred)\n",
        "DFCM = pd.DataFrame(Matrix,index = ClassNames, columns = ClassNames)\n",
        "sns.heatmap(DFCM,annot = True,cbar = None,cmap = \"Blues\",fmt = 'g')\n",
        "plt.title(\"Confusion Matrix\"),plt.tight_layout()\n",
        "plt.ylabel(\"True Class\"), plt.xlabel(\"Predicted Class\")\n",
        "plt.show()\n",
        "\n",
        "PredProbaClass = Model_RFC.predict_proba(XTest)[:,1]\n",
        "fpr,tpr,_ = roc_curve(YTest,PredProbaClass)\n",
        "roc_auc = auc(fpr,tpr)\n",
        "plt.plot(fpr,tpr,label = 'area = %.2f' %roc_auc)\n",
        "plt.plot([0, 1],[0, 1],'k--')\n",
        "plt.xlim([0.0,1.0])\n",
        "plt.ylim([0.0,1.05])\n",
        "plt.legend(loc = 'lower right')\n",
        "plt.show()"
      ],
      "execution_count": 45,
      "outputs": [
        {
          "output_type": "stream",
          "text": [
            "              precision    recall  f1-score   support\n",
            "\n",
            "           0    0.99967   0.99994   0.99981     85305\n",
            "           1    0.95652   0.79710   0.86957       138\n",
            "\n",
            "    accuracy                        0.99961     85443\n",
            "   macro avg    0.97810   0.89852   0.93469     85443\n",
            "weighted avg    0.99960   0.99961   0.99960     85443\n",
            "\n"
          ],
          "name": "stdout"
        },
        {
          "output_type": "display_data",
          "data": {
            "image/png": "[encoded data removed]",
            "text/plain": [
              "<Figure size 432x288 with 1 Axes>"
            ]
          },
          "metadata": {
            "tags": []
          }
        },
        {
          "output_type": "display_data",
          "data": {
            "image/png": "[encoded data removed]",
            "text/plain": [
              "<Figure size 432x288 with 1 Axes>"
            ]
          },
          "metadata": {
            "tags": []
          }
        }
      ]
    },
    {
      "cell_type": "markdown",
      "metadata": {
        "id": "Jg8M6QB3rxoh",
        "colab_type": "text"
      },
      "source": [
        "В логистической регрессии (и её обобщениях – нейросетях) баланс классов сильно влияет на свободный член, но очень слабо – на коэффициенты наклона. Действительно, предсказанное отношение шансов  из бинарной логистической регрессии меняется на константу при изменении баланса классов, и этот эффект уходит в свободный член.\n",
        "\n",
        "\n",
        "В деревьях решений (и их обобщениях – случайном лесе и градиентном бустинге), дисбаланс классов влияет на меры неоднородности (impurity) листьев, но это влияние примерно пропорционально для всех кандидатов в очередную разбивку (split), и потому обычно не особо влияет на выбор разбивок.\n",
        "\n",
        "\n",
        "С другой стороны, на не-вероятностные модели типа SVM дисбаланс классов может серьёзно влиять. SVM строит обучающую гиперплоскость так, что примерно одно и то же число положительных и отрицательных примеров находится на разделяющей полосе или на неправильной её стороне. Поэтому изменение баланса классов может повлиять это число, а значит, и на положение границы.\n",
        "\n",
        "\n",
        "Когда мы используем вероятностные модели для бинарной классификации, всё ОК: во время обучения, модели не сильно зависят от баланса классов, а при тестировании мы можем использовать метрики, нечувствительные к балансу классов. Такие метрики (например, ROC AUC) зависят от предсказанных вероятностей классов, а не от «жёсткой» дискретной классификации.\n",
        "\n",
        "Источник: https://habr.com/ru/post/349078/"
      ]
    },
    {
      "cell_type": "markdown",
      "metadata": {
        "id": "eOeedR3Urxop",
        "colab_type": "text"
      },
      "source": [
        "To-do:\n",
        "Мы разработали классификатор, основанный на алгоритме случайнго леса решающих деревьев, хоть он и не так чувствителен к дисбалансу классов как логистическая регрессия или нейронная сеть (по причинам описанным выше), точность его работы можно попробовать увеличить. Мы использовали случайный лес на минималках, можно попробовать поиграться с гипер-параметрами алгоритма для улучшения его работы.\n",
        "Увеличение значений гипер параметров (количество деревьев,глубина... в документации sklearn можно посмотреть полный перечень https://scikit-learn.org/stable/modules/generated/sklearn.ensemble.RandomForestClassifier.html) ведет к усложнению архитектуры модели, что в свою очередь может привести к переобучению, для этого было бы неплохо провести процесс регуляризации и подбора оптимальных гипер-параметров, данный процесс хорошо и наглядно описан в одном из занятий курса ODS https://habr.com/ru/company/ods/blog/324402/."
      ]
    },
    {
      "cell_type": "code",
      "metadata": {
        "id": "lMDSm95x-Rhb",
        "colab_type": "code",
        "colab": {
          "base_uri": "https://localhost:8080/",
          "height": 108
        },
        "outputId": "cb924700-e330-4365-a043-849cdb01676e"
      },
      "source": [
        "from sklearn.ensemble import IsolationForest\n",
        "#обучаем модель изолированного леса на полной тренировочной выборке\n",
        "Model_IForest_RandSeed = np.random.RandomState(40)\n",
        "\n",
        "Model_IForest = IsolationForest(random_state = Model_IForest_RandSeed,\n",
        "                                   n_estimators=10, bootstrap=True, behaviour='new')\n",
        "Model_IForest.fit(XTrain,YTrain)"
      ],
      "execution_count": 65,
      "outputs": [
        {
          "output_type": "execute_result",
          "data": {
            "text/plain": [
              "IsolationForest(behaviour='new', bootstrap=True, contamination='legacy',\n",
              "                max_features=1.0, max_samples='auto', n_estimators=10,\n",
              "                n_jobs=None,\n",
              "                random_state=<mtrand.RandomState object at 0x7fb4925d3e10>,\n",
              "                verbose=0, warm_start=False)"
            ]
          },
          "metadata": {
            "tags": []
          },
          "execution_count": 65
        }
      ]
    },
    {
      "cell_type": "code",
      "metadata": {
        "id": "g6jZ_e_f-S3O",
        "colab_type": "code",
        "colab": {
          "base_uri": "https://localhost:8080/",
          "height": 199
        },
        "outputId": "8accc5b3-c600-421e-e611-993b010ff0dc"
      },
      "source": [
        "#проверим работоспособность нашего классификатора на тестовой выборке\n",
        "Pred = Model_IForest.predict(XTest)\n",
        "print(classification_report(YTest,Pred,digits=5))\n"
      ],
      "execution_count": 66,
      "outputs": [
        {
          "output_type": "stream",
          "text": [
            "              precision    recall  f1-score   support\n",
            "\n",
            "          -1    0.00000   0.00000   0.00000         0\n",
            "           0    0.00000   0.00000   0.00000     85305\n",
            "           1    0.00043   0.23913   0.00086       138\n",
            "\n",
            "    accuracy                        0.00039     85443\n",
            "   macro avg    0.00014   0.07971   0.00029     85443\n",
            "weighted avg    0.00000   0.00039   0.00000     85443\n",
            "\n"
          ],
          "name": "stdout"
        }
      ]
    }
  ]
}