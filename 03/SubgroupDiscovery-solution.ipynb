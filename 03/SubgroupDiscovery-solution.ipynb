{
 "cells": [
  {
   "cell_type": "markdown",
   "metadata": {},
   "source": [
    "# Subgroup Discovery in Python\n",
    "\n",
    "В данном блокноте мы рассмотрим, как можно использовать Subgroup Discovery.\n",
    "Но прежде чем мы начнём необходмо установить пакет pysubgroup.\n",
    "\n",
    "```console\n",
    "pip install pysubgroup \n",
    "```\n"
   ]
  },
  {
   "cell_type": "code",
   "execution_count": 1,
   "metadata": {},
   "outputs": [],
   "source": [
    "import numpy as np\n",
    "import pandas as pd\n",
    "import pysubgroup as ps"
   ]
  },
  {
   "cell_type": "code",
   "execution_count": 2,
   "metadata": {},
   "outputs": [],
   "source": [
    "# Только для красоты, в реальной жизни Warnings могут помочь найти ошибку в коде\n",
    "import warnings\n",
    "warnings.filterwarnings('ignore')"
   ]
  },
  {
   "cell_type": "markdown",
   "metadata": {},
   "source": [
    "## Загрузка данных\n",
    "\n",
    "Будем использовать данные с [Титаника, Kaggle InClass](https://www.kaggle.com/c/titanic)."
   ]
  },
  {
   "cell_type": "code",
   "execution_count": 3,
   "metadata": {},
   "outputs": [],
   "source": [
    "db = pd.read_csv(\"./SD/data/train.csv\")"
   ]
  },
  {
   "cell_type": "code",
   "execution_count": 4,
   "metadata": {},
   "outputs": [
    {
     "name": "stdout",
     "output_type": "stream",
     "text": [
      "   PassengerId  Survived  Pclass  \\\n",
      "0            1         0       3   \n",
      "1            2         1       1   \n",
      "2            3         1       3   \n",
      "3            4         1       1   \n",
      "4            5         0       3   \n",
      "\n",
      "                                                Name     Sex   Age  SibSp  \\\n",
      "0                            Braund, Mr. Owen Harris    male  22.0      1   \n",
      "1  Cumings, Mrs. John Bradley (Florence Briggs Th...  female  38.0      1   \n",
      "2                             Heikkinen, Miss. Laina  female  26.0      0   \n",
      "3       Futrelle, Mrs. Jacques Heath (Lily May Peel)  female  35.0      1   \n",
      "4                           Allen, Mr. William Henry    male  35.0      0   \n",
      "\n",
      "   Parch            Ticket     Fare Cabin Embarked  \n",
      "0      0         A/5 21171   7.2500   NaN        S  \n",
      "1      0          PC 17599  71.2833   C85        C  \n",
      "2      0  STON/O2. 3101282   7.9250   NaN        S  \n",
      "3      0            113803  53.1000  C123        S  \n",
      "4      0            373450   8.0500   NaN        S  \n",
      "<class 'pandas.core.frame.DataFrame'>\n",
      "RangeIndex: 891 entries, 0 to 890\n",
      "Data columns (total 12 columns):\n",
      "PassengerId    891 non-null int64\n",
      "Survived       891 non-null int64\n",
      "Pclass         891 non-null int64\n",
      "Name           891 non-null object\n",
      "Sex            891 non-null object\n",
      "Age            714 non-null float64\n",
      "SibSp          891 non-null int64\n",
      "Parch          891 non-null int64\n",
      "Ticket         891 non-null object\n",
      "Fare           891 non-null float64\n",
      "Cabin          204 non-null object\n",
      "Embarked       889 non-null object\n",
      "dtypes: float64(2), int64(5), object(5)\n",
      "memory usage: 83.6+ KB\n",
      "None\n",
      "       PassengerId    Survived      Pclass         Age       SibSp  \\\n",
      "count   891.000000  891.000000  891.000000  714.000000  891.000000   \n",
      "mean    446.000000    0.383838    2.308642   29.699118    0.523008   \n",
      "std     257.353842    0.486592    0.836071   14.526497    1.102743   \n",
      "min       1.000000    0.000000    1.000000    0.420000    0.000000   \n",
      "25%     223.500000    0.000000    2.000000   20.125000    0.000000   \n",
      "50%     446.000000    0.000000    3.000000   28.000000    0.000000   \n",
      "75%     668.500000    1.000000    3.000000   38.000000    1.000000   \n",
      "max     891.000000    1.000000    3.000000   80.000000    8.000000   \n",
      "\n",
      "            Parch        Fare  \n",
      "count  891.000000  891.000000  \n",
      "mean     0.381594   32.204208  \n",
      "std      0.806057   49.693429  \n",
      "min      0.000000    0.000000  \n",
      "25%      0.000000    7.910400  \n",
      "50%      0.000000   14.454200  \n",
      "75%      0.000000   31.000000  \n",
      "max      6.000000  512.329200  \n",
      "PassengerId      0\n",
      "Survived         0\n",
      "Pclass           0\n",
      "Name             0\n",
      "Sex              0\n",
      "Age            177\n",
      "SibSp            0\n",
      "Parch            0\n",
      "Ticket           0\n",
      "Fare             0\n",
      "Cabin          687\n",
      "Embarked         2\n",
      "dtype: int64\n"
     ]
    }
   ],
   "source": [
    "print(db.head())\n",
    "print(db.info())\n",
    "print(db.describe())\n",
    "print(db.isna().sum())"
   ]
  },
  {
   "cell_type": "code",
   "execution_count": 5,
   "metadata": {},
   "outputs": [],
   "source": [
    "# Убираем неопределённые значения\n",
    "db.Embarked.fillna(\"S\", inplace=True) # Только 2 таких, обощить их нельзя\n",
    "db[\"IsAgeNA\"] = db.Age.isna() # А тут таких много, вдруг есть закономерность. Сохраним.\n",
    "db.Age.fillna(db.Age.mean(), inplace=True) # Средний возраст, почему бы и нет"
   ]
  },
  {
   "cell_type": "code",
   "execution_count": 6,
   "metadata": {},
   "outputs": [
    {
     "name": "stdout",
     "output_type": "stream",
     "text": [
      "<class 'pandas.core.frame.DataFrame'>\n",
      "RangeIndex: 891 entries, 0 to 890\n",
      "Data columns (total 13 columns):\n",
      "PassengerId    891 non-null category\n",
      "Survived       891 non-null category\n",
      "Pclass         891 non-null category\n",
      "Name           891 non-null object\n",
      "Sex            891 non-null category\n",
      "Age            891 non-null float64\n",
      "SibSp          891 non-null int64\n",
      "Parch          891 non-null int64\n",
      "Ticket         891 non-null object\n",
      "Fare           891 non-null float64\n",
      "Cabin          204 non-null category\n",
      "Embarked       891 non-null category\n",
      "IsAgeNA        891 non-null bool\n",
      "dtypes: bool(1), category(6), float64(2), int64(2), object(2)\n",
      "memory usage: 103.2+ KB\n"
     ]
    }
   ],
   "source": [
    "catVars = [\"PassengerId\",\"Survived\",\"Pclass\",\"Sex\",\"Cabin\",\"Embarked\"]\n",
    "db[catVars] = db[catVars].astype(\"category\")\n",
    "db.info()"
   ]
  },
  {
   "cell_type": "code",
   "execution_count": 7,
   "metadata": {},
   "outputs": [
    {
     "name": "stdout",
     "output_type": "stream",
     "text": [
      "<class 'pandas.core.frame.DataFrame'>\n",
      "RangeIndex: 891 entries, 0 to 890\n",
      "Data columns (total 9 columns):\n",
      "Survived    891 non-null category\n",
      "Pclass      891 non-null category\n",
      "Sex         891 non-null category\n",
      "Age         891 non-null float64\n",
      "SibSp       891 non-null int64\n",
      "Parch       891 non-null int64\n",
      "Fare        891 non-null float64\n",
      "Embarked    891 non-null category\n",
      "IsAgeNA     891 non-null bool\n",
      "dtypes: bool(1), category(4), float64(2), int64(2)\n",
      "memory usage: 32.7 KB\n"
     ]
    }
   ],
   "source": [
    "db = db.drop(columns=[\"PassengerId\",\"Name\",\"Ticket\",\"Cabin\"])\n",
    "db.info()"
   ]
  },
  {
   "cell_type": "markdown",
   "metadata": {},
   "source": [
    "## Бизнес задача \"Кто выживал на Титанике\"\n",
    "\n",
    "Мы хотим понять, кто выживал и кто не выживал на Титанике. Назовём это фундаментальным исследованием социальной картины выживания на титанике.\n",
    "\n",
    "Сначала нам нужно определить через какую (какие) переменную задаётся задача. В данном случае это survived, бинарная переменная."
   ]
  },
  {
   "cell_type": "code",
   "execution_count": 8,
   "metadata": {},
   "outputs": [],
   "source": [
    "target = ps.NominalTarget(target_selector=ps.NominalSelector('Survived', 1))\n",
    "# 1 - выживший, т.е. тут мы ищем подгруппы связанные с выжившими"
   ]
  },
  {
   "cell_type": "markdown",
   "metadata": {},
   "source": [
    "Далее нам нужно определить пространство поиска, т.е. тот набор \"вопросов\", которые будут \"задаваться\" данным для определения подгрупп. Возмем все переменные кроме 'survived'."
   ]
  },
  {
   "cell_type": "code",
   "execution_count": 9,
   "metadata": {},
   "outputs": [],
   "source": [
    "searchSpace = ps.create_selectors(db, ignore=['Survived'])"
   ]
  },
  {
   "cell_type": "markdown",
   "metadata": {},
   "source": [
    "Ну и создаём задачу, которую затем и исполняем"
   ]
  },
  {
   "cell_type": "code",
   "execution_count": 10,
   "metadata": {},
   "outputs": [],
   "source": [
    "task = ps.SubgroupDiscoveryTask(\n",
    "    db,\n",
    "    target=target,\n",
    "    search_space=searchSpace,\n",
    "    result_set_size = 5, # на выход получаем 5 подгрупп\n",
    "    depth = 3, # Каждая подгруппа описывается не более чем 3 предикатами\n",
    "    qf = ps.StandardQF(1) # Функция качества на базе Chi2\n",
    ")\n",
    "\n",
    "result = ps.BeamSearch().execute(task)"
   ]
  },
  {
   "cell_type": "code",
   "execution_count": 11,
   "metadata": {},
   "outputs": [
    {
     "name": "stdout",
     "output_type": "stream",
     "text": [
      "0.12623428448344273:\tSex=female\n",
      "0.10866238138965413:\tSex=female AND IsAgeNA=False\n",
      "0.08814293326077838:\tSex=female AND Parch: [0:1[\n",
      "0.07880148284188689:\tSex=female AND SibSp: [0:1[\n",
      "0.07105850876894648:\tSex=female AND Embarked=S\n"
     ]
    }
   ],
   "source": [
    "for (q,sg) in result:\n",
    "    print(str(q) + \":\\t\" + str(sg.subgroup_description))"
   ]
  },
  {
   "cell_type": "markdown",
   "metadata": {},
   "source": [
    "А если исключить пол?"
   ]
  },
  {
   "cell_type": "code",
   "execution_count": 12,
   "metadata": {},
   "outputs": [
    {
     "name": "stdout",
     "output_type": "stream",
     "text": [
      "0.05958575655545354:\tPclass=1\n",
      "0.05679692548379417:\tPclass=1 AND IsAgeNA=False\n",
      "0.05382670702536022:\tPclass=1 AND Fare>=39.69\n",
      "0.049756827534605315:\tFare>=39.69 AND IsAgeNA=False AND Pclass=1\n",
      "0.0484190955571427:\tFare>=39.69\n"
     ]
    }
   ],
   "source": [
    "searchSpace = ps.create_selectors(db, ignore=['Survived','Sex'])\n",
    "task = ps.SubgroupDiscoveryTask(\n",
    "    db,\n",
    "    target=target,\n",
    "    search_space=searchSpace,\n",
    "    result_set_size = 5, # на выход получаем 5 подгрупп\n",
    "    depth = 3, # Каждая подгруппа описывается не более чем 3 предикатами\n",
    "    qf = ps.StandardQF(1) # Функция качества на базе Chi2\n",
    ")\n",
    "result = ps.BeamSearch().execute(task)\n",
    "\n",
    "for (q,sg) in result:\n",
    "    print(str(q) + \":\\t\" + str(sg.subgroup_description))"
   ]
  },
  {
   "cell_type": "markdown",
   "metadata": {},
   "source": [
    "В целом видим, что выживаемость выше в первом у женщин и в первом классе."
   ]
  },
  {
   "cell_type": "markdown",
   "metadata": {},
   "source": [
    "## Бизнес задача \"Предсказательная модель для Титаника\"\n",
    "\n",
    "В этом разделе мы рассмотрим как методы класса SD могут применятся для улучшения предсказательных моделей.\n",
    "\n",
    "Первым делом строим предсказательную модель."
   ]
  },
  {
   "cell_type": "code",
   "execution_count": 13,
   "metadata": {},
   "outputs": [],
   "source": [
    "from sklearn.linear_model import LogisticRegression"
   ]
  },
  {
   "cell_type": "markdown",
   "metadata": {},
   "source": [
    "Определим функции обучения и предсказания"
   ]
  },
  {
   "cell_type": "code",
   "execution_count": 14,
   "metadata": {},
   "outputs": [],
   "source": [
    "def TrainModel(X, y):\n",
    "    X_ohe = pd.get_dummies(X)\n",
    "    return LogisticRegression(random_state=0,solver=\"lbfgs\").fit(X_ohe,y)\n",
    "def PredictByModel(m, X):\n",
    "    X_ohe = pd.get_dummies(X)\n",
    "    return m.predict(X_ohe)"
   ]
  },
  {
   "cell_type": "markdown",
   "metadata": {},
   "source": [
    "Обучимся и проверим где у нас ошибки?"
   ]
  },
  {
   "cell_type": "code",
   "execution_count": 15,
   "metadata": {},
   "outputs": [
    {
     "data": {
      "text/plain": [
       "count       891\n",
       "unique        2\n",
       "top       False\n",
       "freq        712\n",
       "Name: error, dtype: object"
      ]
     },
     "execution_count": 15,
     "metadata": {},
     "output_type": "execute_result"
    }
   ],
   "source": [
    "X = db.drop(columns = [\"Survived\"])\n",
    "m = TrainModel(X,db.Survived)\n",
    "db_sg=db.copy()\n",
    "db_sg[\"error\"] = PredictByModel(m,X) != db.Survived\n",
    "db_sg.error.describe()"
   ]
  },
  {
   "cell_type": "markdown",
   "metadata": {},
   "source": [
    "Давайте попробуем описать наблюдения, в которых у нас ошибки с помощью методов SD."
   ]
  },
  {
   "cell_type": "code",
   "execution_count": 16,
   "metadata": {},
   "outputs": [],
   "source": [
    "target = ps.NominalTarget(target_selector=ps.NominalSelector('error', True))\n",
    "# Интересует именно ошибки, поэтому True\n",
    "searchSpace = ps.create_selectors(db_sg, ignore=['error']) \n",
    "# Технически есть ещё Survived, но он нам может подсказать, в каком направлении происходит ошибка, поэтому оставляем\n",
    "task = ps.SubgroupDiscoveryTask(\n",
    "    db_sg,\n",
    "    target=target,\n",
    "    search_space=searchSpace,\n",
    "    result_set_size = 5, # на выход получаем 5 подгрупп\n",
    "    depth = 3, # Каждая подгруппа описывается не более чем 3 предикатами\n",
    "    qf = ps.StandardQF(1) # Функция качества на базе Chi2\n",
    ")\n",
    "\n",
    "result = ps.BeamSearch().execute(task)"
   ]
  },
  {
   "cell_type": "code",
   "execution_count": 17,
   "metadata": {},
   "outputs": [
    {
     "name": "stdout",
     "output_type": "stream",
     "text": [
      "0.08092270755944532:\tSurvived=1 AND Sex=male\n",
      "0.06769528430583426:\tSurvived=1 AND Sex=male AND IsAgeNA=False\n",
      "0.06569120560890108:\tSurvived=1 AND Sex=male AND Embarked=S\n",
      "0.06277011290105192:\tSurvived=1 AND Sex=male AND Parch: [0:1[\n",
      "0.05312509053623906:\tSurvived=1 AND Sex=male AND SibSp: [0:1[\n"
     ]
    }
   ],
   "source": [
    "for (q,sg) in result:\n",
    "    print(str(q) + \":\\t\" + str(sg.subgroup_description))"
   ]
  },
  {
   "cell_type": "code",
   "execution_count": 18,
   "metadata": {},
   "outputs": [
    {
     "data": {
      "text/html": [
       "<div>\n",
       "<style scoped>\n",
       "    .dataframe tbody tr th:only-of-type {\n",
       "        vertical-align: middle;\n",
       "    }\n",
       "\n",
       "    .dataframe tbody tr th {\n",
       "        vertical-align: top;\n",
       "    }\n",
       "\n",
       "    .dataframe thead tr th {\n",
       "        text-align: left;\n",
       "    }\n",
       "\n",
       "    .dataframe thead tr:last-of-type th {\n",
       "        text-align: right;\n",
       "    }\n",
       "</style>\n",
       "<table border=\"1\" class=\"dataframe\">\n",
       "  <thead>\n",
       "    <tr>\n",
       "      <th></th>\n",
       "      <th></th>\n",
       "      <th colspan=\"3\" halign=\"left\">error</th>\n",
       "    </tr>\n",
       "    <tr>\n",
       "      <th></th>\n",
       "      <th></th>\n",
       "      <th>size</th>\n",
       "      <th>sum</th>\n",
       "      <th>mean</th>\n",
       "    </tr>\n",
       "    <tr>\n",
       "      <th>Survived</th>\n",
       "      <th>Sex</th>\n",
       "      <th></th>\n",
       "      <th></th>\n",
       "      <th></th>\n",
       "    </tr>\n",
       "  </thead>\n",
       "  <tbody>\n",
       "    <tr>\n",
       "      <th rowspan=\"2\" valign=\"top\">0</th>\n",
       "      <th>female</th>\n",
       "      <td>81</td>\n",
       "      <td>60.0</td>\n",
       "      <td>0.740741</td>\n",
       "    </tr>\n",
       "    <tr>\n",
       "      <th>male</th>\n",
       "      <td>468</td>\n",
       "      <td>15.0</td>\n",
       "      <td>0.032051</td>\n",
       "    </tr>\n",
       "    <tr>\n",
       "      <th rowspan=\"2\" valign=\"top\">1</th>\n",
       "      <th>female</th>\n",
       "      <td>233</td>\n",
       "      <td>10.0</td>\n",
       "      <td>0.042918</td>\n",
       "    </tr>\n",
       "    <tr>\n",
       "      <th>male</th>\n",
       "      <td>109</td>\n",
       "      <td>94.0</td>\n",
       "      <td>0.862385</td>\n",
       "    </tr>\n",
       "  </tbody>\n",
       "</table>\n",
       "</div>"
      ],
      "text/plain": [
       "                error                \n",
       "                 size   sum      mean\n",
       "Survived Sex                         \n",
       "0        female    81  60.0  0.740741\n",
       "         male     468  15.0  0.032051\n",
       "1        female   233  10.0  0.042918\n",
       "         male     109  94.0  0.862385"
      ]
     },
     "execution_count": 18,
     "metadata": {},
     "output_type": "execute_result"
    }
   ],
   "source": [
    "db_sg[[\"Survived\",\"Sex\",\"error\"]].groupby(['Survived',\"Sex\"]).agg([np.size,np.sum,np.mean])"
   ]
  },
  {
   "cell_type": "markdown",
   "metadata": {},
   "source": [
    "### Улучшаем модель\n",
    "\n",
    "Модель плохо работает на мужчинах и женщинах на разных классах. Видимо нужна нелиненость. Пусть будет две модели."
   ]
  },
  {
   "cell_type": "code",
   "execution_count": 19,
   "metadata": {},
   "outputs": [],
   "source": [
    "def TrainModel(X, y):\n",
    "    isMale = (X.Sex==\"male\")\n",
    "    return { \"Male\": LogisticRegression(random_state=0,solver=\"lbfgs\").\n",
    "                fit(pd.get_dummies(X[isMale].drop(columns=[\"Sex\"])),y[isMale]),\n",
    "            \"Female\":  LogisticRegression(random_state=0,solver=\"lbfgs\").\n",
    "                fit(pd.get_dummies(X[np.invert(isMale)].drop(columns=[\"Sex\"])),y[np.invert(isMale)])}\n",
    "def PredictByModel(m, X):\n",
    "    sex = X.Sex\n",
    "    X_ohe = pd.get_dummies(X.drop(columns=[\"Sex\"]))\n",
    "    ans = m[\"Male\"].predict(X_ohe)\n",
    "    ans[sex == \"female\"] = m[\"Female\"].predict(X_ohe[sex==\"female\"])\n",
    "    return ans"
   ]
  },
  {
   "cell_type": "code",
   "execution_count": 20,
   "metadata": {},
   "outputs": [
    {
     "data": {
      "text/plain": [
       "count       891\n",
       "unique        2\n",
       "top       False\n",
       "freq        731\n",
       "Name: error, dtype: object"
      ]
     },
     "execution_count": 20,
     "metadata": {},
     "output_type": "execute_result"
    }
   ],
   "source": [
    "X = db.drop(columns = [\"Survived\"])\n",
    "m = TrainModel(X,db.Survived)\n",
    "db_sg=db.copy()\n",
    "db_sg[\"error\"] = PredictByModel(m,X) != db.Survived\n",
    "db_sg.error.describe()"
   ]
  },
  {
   "cell_type": "markdown",
   "metadata": {},
   "source": [
    "Давайте попробуем описать наблюдения, в которых у нас ошибки с помощью методов SD."
   ]
  },
  {
   "cell_type": "code",
   "execution_count": 21,
   "metadata": {},
   "outputs": [],
   "source": [
    "target = ps.NominalTarget(target_selector=ps.NominalSelector('error', True))\n",
    "# Интересует именно ошибки, поэтому True\n",
    "searchSpace = ps.create_selectors(db_sg, ignore=['error']) \n",
    "# Технически есть ещё Survived, но он нам может подсказать, в каком направлении происходит ошибка, поэтому оставляем\n",
    "task = ps.SubgroupDiscoveryTask(\n",
    "    db_sg,\n",
    "    target=target,\n",
    "    search_space=searchSpace,\n",
    "    result_set_size = 5, # на выход получаем 5 подгрупп\n",
    "    depth = 3, # Каждая подгруппа описывается не более чем 3 предикатами\n",
    "    qf = ps.StandardQF(1) # Функция качества на базе Chi2\n",
    ")\n",
    "\n",
    "result = ps.BeamSearch().execute(task)"
   ]
  },
  {
   "cell_type": "code",
   "execution_count": 22,
   "metadata": {},
   "outputs": [
    {
     "name": "stdout",
     "output_type": "stream",
     "text": [
      "0.08353141087896046:\tSurvived=1 AND Sex=male\n",
      "0.06879872424204636:\tSurvived=1 AND Sex=male AND IsAgeNA=False\n",
      "0.06692942645056375:\tSurvived=1 AND Parch: [0:1[ AND Sex=male\n",
      "0.06641171661747794:\tSurvived=1 AND Embarked=S AND Sex=male\n",
      "0.05575016910594913:\tSurvived=1 AND Embarked=S\n"
     ]
    }
   ],
   "source": [
    "for (q,sg) in result:\n",
    "    print(str(q) + \":\\t\" + str(sg.subgroup_description))"
   ]
  },
  {
   "cell_type": "code",
   "execution_count": 23,
   "metadata": {},
   "outputs": [
    {
     "data": {
      "text/html": [
       "<div>\n",
       "<style scoped>\n",
       "    .dataframe tbody tr th:only-of-type {\n",
       "        vertical-align: middle;\n",
       "    }\n",
       "\n",
       "    .dataframe tbody tr th {\n",
       "        vertical-align: top;\n",
       "    }\n",
       "\n",
       "    .dataframe thead tr th {\n",
       "        text-align: left;\n",
       "    }\n",
       "\n",
       "    .dataframe thead tr:last-of-type th {\n",
       "        text-align: right;\n",
       "    }\n",
       "</style>\n",
       "<table border=\"1\" class=\"dataframe\">\n",
       "  <thead>\n",
       "    <tr>\n",
       "      <th></th>\n",
       "      <th></th>\n",
       "      <th colspan=\"3\" halign=\"left\">error</th>\n",
       "    </tr>\n",
       "    <tr>\n",
       "      <th></th>\n",
       "      <th></th>\n",
       "      <th>size</th>\n",
       "      <th>sum</th>\n",
       "      <th>mean</th>\n",
       "    </tr>\n",
       "    <tr>\n",
       "      <th>Survived</th>\n",
       "      <th>Sex</th>\n",
       "      <th></th>\n",
       "      <th></th>\n",
       "      <th></th>\n",
       "    </tr>\n",
       "  </thead>\n",
       "  <tbody>\n",
       "    <tr>\n",
       "      <th rowspan=\"2\" valign=\"top\">0</th>\n",
       "      <th>female</th>\n",
       "      <td>81</td>\n",
       "      <td>40.0</td>\n",
       "      <td>0.493827</td>\n",
       "    </tr>\n",
       "    <tr>\n",
       "      <th>male</th>\n",
       "      <td>468</td>\n",
       "      <td>10.0</td>\n",
       "      <td>0.021368</td>\n",
       "    </tr>\n",
       "    <tr>\n",
       "      <th rowspan=\"2\" valign=\"top\">1</th>\n",
       "      <th>female</th>\n",
       "      <td>233</td>\n",
       "      <td>16.0</td>\n",
       "      <td>0.068670</td>\n",
       "    </tr>\n",
       "    <tr>\n",
       "      <th>male</th>\n",
       "      <td>109</td>\n",
       "      <td>94.0</td>\n",
       "      <td>0.862385</td>\n",
       "    </tr>\n",
       "  </tbody>\n",
       "</table>\n",
       "</div>"
      ],
      "text/plain": [
       "                error                \n",
       "                 size   sum      mean\n",
       "Survived Sex                         \n",
       "0        female    81  40.0  0.493827\n",
       "         male     468  10.0  0.021368\n",
       "1        female   233  16.0  0.068670\n",
       "         male     109  94.0  0.862385"
      ]
     },
     "execution_count": 23,
     "metadata": {},
     "output_type": "execute_result"
    }
   ],
   "source": [
    "db_sg[[\"Survived\",\"Sex\",\"error\"]].groupby(['Survived',\"Sex\"]).agg([np.size,np.sum,np.mean])"
   ]
  },
  {
   "cell_type": "markdown",
   "metadata": {},
   "source": [
    "Ситуация улучшилась, но всё ещё проблемы с полом. С нужно для мужчин думать о новых переменных.\n",
    "Давайте посмотрим на другие переменные, т.е. теперь мы не хотим выделять подгруппы по полу.\n",
    "Убираем по очереди переменные 'Sex','Pclass','Embarked','Survived' из рассмотрения."
   ]
  },
  {
   "cell_type": "code",
   "execution_count": 24,
   "metadata": {},
   "outputs": [],
   "source": [
    "target = ps.NominalTarget(target_selector=ps.NominalSelector('error', True))\n",
    "# Интересует именно ошибки, поэтому True\n",
    "searchSpace = ps.create_selectors(db_sg, ignore=['error','Sex','Pclass','Embarked','Survived']) \n",
    "# Технически есть ещё Survived, но он нам может подсказать, в каком направлении происходит ошибка, поэтому оставляем\n",
    "task = ps.SubgroupDiscoveryTask(\n",
    "    db_sg,\n",
    "    target=target,\n",
    "    search_space=searchSpace,\n",
    "    result_set_size = 5, # на выход получаем 5 подгрупп\n",
    "    depth = 3, # Каждая подгруппа описывается не более чем 3 предикатами\n",
    "    qf = ps.StandardQF(1) # Функция качества на базе Chi2\n",
    ")\n",
    "\n",
    "result = ps.BeamSearch().execute(task)"
   ]
  },
  {
   "cell_type": "code",
   "execution_count": 25,
   "metadata": {},
   "outputs": [
    {
     "name": "stdout",
     "output_type": "stream",
     "text": [
      "0.01504507602524812:\tFare: [10.50:21.68[ AND SibSp: [1:2[\n",
      "0.01287220628784415:\tSibSp: [1:2[\n",
      "0.012326784492889995:\tFare: [10.50:21.68[\n",
      "0.011622648734508068:\tFare: [10.50:21.68[ AND Parch: [1:2[\n",
      "0.011378279616214525:\tSibSp: [1:2[ AND IsAgeNA=False\n"
     ]
    }
   ],
   "source": [
    "for (q,sg) in result:\n",
    "    print(str(q) + \":\\t\" + str(sg.subgroup_description))"
   ]
  },
  {
   "cell_type": "markdown",
   "metadata": {},
   "source": [
    "## Бизнес задача \"Клиенты и воздействие\"\n",
    "\n",
    "Компания делает рассылку и нужно понять как работало воздействие."
   ]
  },
  {
   "cell_type": "code",
   "execution_count": 26,
   "metadata": {},
   "outputs": [],
   "source": [
    "db = pd.read_csv(\"http://www.minethatdata.com/Kevin_Hillstrom_MineThatData_E-MailAnalytics_DataMiningChallenge_2008.03.20.csv\")\n",
    "db[['history_segment','zip_code','channel','segment']]= \\\n",
    "    db[['history_segment','zip_code','channel','segment']].astype('category')\n",
    "work_db=db.loc[(db.segment == \"Womens E-Mail\") | (db.segment == \"No E-Mail\")]\n"
   ]
  },
  {
   "cell_type": "code",
   "execution_count": 27,
   "metadata": {},
   "outputs": [],
   "source": [
    "db_sg = work_db.drop(columns=[\"segment\",\"visit\",\"conversion\",\"spend\"])\n",
    "y = work_db.visit\n",
    "trt = work_db.segment==\"Womens E-Mail\"\n",
    "Z = y*trt + (1-y)*(1-trt)\n",
    "db_sg[\"Z\"]=Z"
   ]
  },
  {
   "cell_type": "code",
   "execution_count": 28,
   "metadata": {},
   "outputs": [
    {
     "name": "stdout",
     "output_type": "stream",
     "text": [
      "36.2050279685305:\twomens=1\n",
      "36.2050279685305:\twomens=0\n",
      "36.2050279685305:\tmens=1 AND womens=0\n",
      "22.2275079185997:\tmens=0 AND womens=1\n",
      "22.2275079185997:\tmens=0\n"
     ]
    }
   ],
   "source": [
    "target = ps.NominalTarget(target_selector=ps.NominalSelector('Z', 0))\n",
    "# Интересует именно ошибки, поэтому True\n",
    "searchSpace = ps.create_selectors(db_sg, ignore=['Z',]) \n",
    "# Технически есть ещё Survived, но он нам может подсказать, в каком направлении происходит ошибка, поэтому оставляем\n",
    "task = ps.SubgroupDiscoveryTask(\n",
    "    db_sg,\n",
    "    target=target,\n",
    "    search_space=searchSpace,\n",
    "    result_set_size = 5, # на выход получаем 5 подгрупп\n",
    "    depth = 3, # Каждая подгруппа описывается не более чем 3 предикатами\n",
    "    qf = ps.ChiSquaredQF() # Функция качества на базе Chi2\n",
    ")\n",
    "\n",
    "result = ps.BeamSearch().execute(task)\n",
    "\n",
    "for (q,sg) in result:\n",
    "    print(str(q) + \":\\t\" + str(sg.subgroup_description))"
   ]
  },
  {
   "cell_type": "code",
   "execution_count": 29,
   "metadata": {},
   "outputs": [
    {
     "name": "stdout",
     "output_type": "stream",
     "text": [
      "0.5009486332654065\n",
      "0.5219122572787108\n"
     ]
    },
    {
     "data": {
      "text/html": [
       "<div>\n",
       "<style scoped>\n",
       "    .dataframe tbody tr th:only-of-type {\n",
       "        vertical-align: middle;\n",
       "    }\n",
       "\n",
       "    .dataframe tbody tr th {\n",
       "        vertical-align: top;\n",
       "    }\n",
       "\n",
       "    .dataframe thead tr th {\n",
       "        text-align: left;\n",
       "    }\n",
       "\n",
       "    .dataframe thead tr:last-of-type th {\n",
       "        text-align: right;\n",
       "    }\n",
       "</style>\n",
       "<table border=\"1\" class=\"dataframe\">\n",
       "  <thead>\n",
       "    <tr>\n",
       "      <th></th>\n",
       "      <th></th>\n",
       "      <th colspan=\"2\" halign=\"left\">Z</th>\n",
       "    </tr>\n",
       "    <tr>\n",
       "      <th></th>\n",
       "      <th></th>\n",
       "      <th>mean</th>\n",
       "      <th>size</th>\n",
       "    </tr>\n",
       "    <tr>\n",
       "      <th>womens</th>\n",
       "      <th>mens</th>\n",
       "      <th></th>\n",
       "      <th></th>\n",
       "    </tr>\n",
       "  </thead>\n",
       "  <tbody>\n",
       "    <tr>\n",
       "      <th>0</th>\n",
       "      <th>1</th>\n",
       "      <td>0.505867</td>\n",
       "      <td>19260</td>\n",
       "    </tr>\n",
       "    <tr>\n",
       "      <th rowspan=\"2\" valign=\"top\">1</th>\n",
       "      <th>0</th>\n",
       "      <td>0.534540</td>\n",
       "      <td>19166</td>\n",
       "    </tr>\n",
       "    <tr>\n",
       "      <th>1</th>\n",
       "      <td>0.537614</td>\n",
       "      <td>4267</td>\n",
       "    </tr>\n",
       "  </tbody>\n",
       "</table>\n",
       "</div>"
      ],
      "text/plain": [
       "                    Z       \n",
       "                 mean   size\n",
       "womens mens                 \n",
       "0      1     0.505867  19260\n",
       "1      0     0.534540  19166\n",
       "       1     0.537614   4267"
      ]
     },
     "execution_count": 29,
     "metadata": {},
     "output_type": "execute_result"
    }
   ],
   "source": [
    "print(trt.mean())\n",
    "print(db_sg.Z.mean())\n",
    "db_sg[[\"womens\",\"mens\",\"Z\"]].groupby([\"womens\",\"mens\"]).agg([np.mean,np.size])"
   ]
  },
  {
   "cell_type": "markdown",
   "metadata": {},
   "source": [
    "Получаем, что акция релевантна только тем, кто уже покупал женский товары. Это неудивительно, мы ведь рекламу женского товара отправили. Ограничим нашу выборку данных, только на таких людей."
   ]
  },
  {
   "cell_type": "code",
   "execution_count": 30,
   "metadata": {},
   "outputs": [
    {
     "name": "stdout",
     "output_type": "stream",
     "text": [
      "8.351420568413513:\tzip_code=Rural AND history_segment=3) $200 - $350 AND newbie=0\n",
      "7.231174602632186:\trecency: [2:4[ AND newbie=0 AND history_segment=1) $0 - $100\n",
      "6.132738850877295:\thistory_segment=3) $200 - $350 AND mens=0 AND channel=Web\n",
      "6.122369012591387:\tzip_code=Rural AND history_segment=3) $200 - $350 AND womens=1\n",
      "6.122369012591387:\tzip_code=Rural AND history_segment=3) $200 - $350\n"
     ]
    }
   ],
   "source": [
    "db_w=db_sg[db_sg.womens==1]\n",
    "target = ps.NominalTarget(target_selector=ps.NominalSelector('Z', 0))\n",
    "# Интересует именно ошибки, поэтому True\n",
    "searchSpace = ps.create_selectors(db_w, ignore=['Z',]) \n",
    "# Технически есть ещё Survived, но он нам может подсказать, в каком направлении происходит ошибка, поэтому оставляем\n",
    "task = ps.SubgroupDiscoveryTask(\n",
    "    db_w,\n",
    "    target=target,\n",
    "    search_space=searchSpace,\n",
    "    result_set_size = 5, # на выход получаем 5 подгрупп\n",
    "    depth = 3, # Каждая подгруппа описывается не более чем 3 предикатами\n",
    "    qf = ps.ChiSquaredQF() # Функция качества на базе Chi2\n",
    ")\n",
    "\n",
    "result = ps.BeamSearch().execute(task)\n",
    "\n",
    "for (q,sg) in result:\n",
    "    print(str(q) + \":\\t\" + str(sg.subgroup_description))"
   ]
  },
  {
   "cell_type": "markdown",
   "metadata": {},
   "source": [
    "## Повышаем достоверность\n",
    "\n",
    "В данном разделе мы рассмотрим как можно повысить достоверность получаемых результатов.\n",
    "\n",
    "Основной подход: независимая выборка.\n",
    "\n",
    "Возьмем одну из подгрупп из предыдущего результата."
   ]
  },
  {
   "cell_type": "code",
   "execution_count": 31,
   "metadata": {},
   "outputs": [],
   "source": [
    "sg0 = result[0][1]"
   ]
  },
  {
   "cell_type": "markdown",
   "metadata": {},
   "source": [
    "Провереть какие объекты из произвольной выбрки данных можно следующим образом:"
   ]
  },
  {
   "cell_type": "code",
   "execution_count": 32,
   "metadata": {},
   "outputs": [
    {
     "data": {
      "text/plain": [
       "443"
      ]
     },
     "execution_count": 32,
     "metadata": {},
     "output_type": "execute_result"
    }
   ],
   "source": [
    "sg0.covers(db_w).sum()"
   ]
  },
  {
   "cell_type": "markdown",
   "metadata": {},
   "source": [
    "А посчитать статистику на этой выборке данных, можно путем создания объекта с функций качества и применением одного из её методов."
   ]
  },
  {
   "cell_type": "code",
   "execution_count": 33,
   "metadata": {},
   "outputs": [
    {
     "data": {
      "text/plain": [
       "8.351420568413513"
      ]
     },
     "execution_count": 33,
     "metadata": {},
     "output_type": "execute_result"
    }
   ],
   "source": [
    "ps.ChiSquaredQF().evaluate_from_dataset(db_w, result[0][1])"
   ]
  },
  {
   "cell_type": "markdown",
   "metadata": {},
   "source": [
    "Тогда для повышания достоверности необходимо:\n",
    "* Разделить выборку на \"обучающую\" и тестовую выборки в соотношении 50/50\n",
    "* Найти подгруппы на обучающей\n",
    "* Проверить качество каждой найденной подгруппы на тестовой выборке\n",
    "\n",
    "Реализуем этот процесс на выборке данных db_w"
   ]
  },
  {
   "cell_type": "code",
   "execution_count": 34,
   "metadata": {},
   "outputs": [],
   "source": [
    "train_inds = np.random.choice(db_w.index, size = round(db_w.shape[0] * 0.5), replace = False)\n",
    "\n",
    "db_w_train=db_w.loc[train_inds,:]\n",
    "db_w_test=db_w.drop(index=train_inds)"
   ]
  },
  {
   "cell_type": "code",
   "execution_count": 35,
   "metadata": {},
   "outputs": [],
   "source": [
    "target = ps.NominalTarget(target_selector=ps.NominalSelector('Z', 0))\n",
    "# Интересует именно ошибки, поэтому True\n",
    "searchSpace = ps.create_selectors(db_w_train, ignore=['Z',]) \n",
    "# Технически есть ещё Survived, но он нам может подсказать, в каком направлении происходит ошибка, поэтому оставляем\n",
    "task = ps.SubgroupDiscoveryTask(\n",
    "    db_w_train,\n",
    "    target=target,\n",
    "    search_space=searchSpace,\n",
    "    result_set_size = 5, # на выход получаем 5 подгрупп\n",
    "    depth = 3, # Каждая подгруппа описывается не более чем 3 предикатами\n",
    "    qf = ps.ChiSquaredQF() # Функция качества на базе Chi2\n",
    ")\n",
    "\n",
    "result = ps.BeamSearch().execute(task)"
   ]
  },
  {
   "cell_type": "code",
   "execution_count": 36,
   "metadata": {},
   "outputs": [
    {
     "name": "stdout",
     "output_type": "stream",
     "text": [
      "TRAIN: 6.5566711678499034:\tzip_code=Rural AND history_segment=6) $750 - $1,000 AND mens=0\n",
      "TEST: 0.15865259722250058\n",
      "TRAIN: 5.80603683381694:\tzip_code=Rural AND history_segment=6) $750 - $1,000 AND history>=428.89\n",
      "TEST: 0.5269933724306268\n",
      "TRAIN: 5.80603683381694:\tzip_code=Rural AND history_segment=6) $750 - $1,000 AND newbie=1\n",
      "TEST: 0.5269933724306268\n",
      "TRAIN: 5.80603683381694:\tzip_code=Rural AND history_segment=6) $750 - $1,000\n",
      "TEST: 0.5269933724306268\n",
      "TRAIN: 5.80603683381694:\tzip_code=Rural AND history_segment=6) $750 - $1,000 AND womens=1\n",
      "TEST: 0.5269933724306268\n"
     ]
    }
   ],
   "source": [
    "qf = ps.ChiSquaredQF()\n",
    "for (q,sg) in result:\n",
    "    print(\"TRAIN: \" + str(q) + \":\\t\" + str(sg.subgroup_description))\n",
    "    print(\"TEST: \" + str(qf.evaluate_from_dataset(db_w_test, sg)))"
   ]
  }
 ],
 "metadata": {
  "kernelspec": {
   "display_name": "Python 3",
   "language": "python",
   "name": "python3"
  },
  "language_info": {
   "codemirror_mode": {
    "name": "ipython",
    "version": 3
   },
   "file_extension": ".py",
   "mimetype": "text/x-python",
   "name": "python",
   "nbconvert_exporter": "python",
   "pygments_lexer": "ipython3",
   "version": "3.6.4"
  }
 },
 "nbformat": 4,
 "nbformat_minor": 2
}
