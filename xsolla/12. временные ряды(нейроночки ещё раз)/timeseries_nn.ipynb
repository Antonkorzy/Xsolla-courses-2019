{
 "cells": [
  {
   "cell_type": "code",
   "execution_count": 1,
   "metadata": {},
   "outputs": [],
   "source": [
    "import pandas as pd\n",
    "import numpy as np\n",
    "import math\n",
    "import datetime\n",
    "import json\n",
    "import requests\n",
    "import re\n",
    "import itertools\n",
    "import re\n",
    "import ast\n",
    "from sklearn.utils import shuffle\n",
    "from sklearn.feature_extraction.text import CountVectorizer\n",
    "import collections as co\n",
    "\n",
    "import time\n",
    "from datetime import timedelta\n",
    "import os\n",
    "os.environ['KMP_DUPLICATE_LIB_OK']='True'"
   ]
  },
  {
   "cell_type": "code",
   "execution_count": 2,
   "metadata": {},
   "outputs": [
    {
     "name": "stdout",
     "output_type": "stream",
     "text": [
      "Populating the interactive namespace from numpy and matplotlib\n"
     ]
    },
    {
     "name": "stderr",
     "output_type": "stream",
     "text": [
      "//anaconda3/lib/python3.7/site-packages/IPython/core/magics/pylab.py:160: UserWarning: pylab import has clobbered these variables: ['shuffle']\n",
      "`%matplotlib` prevents importing * from pylab and numpy\n",
      "  \"\\n`%matplotlib` prevents importing * from pylab and numpy\"\n"
     ]
    },
    {
     "data": {
      "text/html": [
       "        <script type=\"text/javascript\">\n",
       "        window.PlotlyConfig = {MathJaxConfig: 'local'};\n",
       "        if (window.MathJax) {MathJax.Hub.Config({SVG: {font: \"STIX-Web\"}});}\n",
       "        if (typeof require !== 'undefined') {\n",
       "        require.undef(\"plotly\");\n",
       "        requirejs.config({\n",
       "            paths: {\n",
       "                'plotly': ['https://cdn.plot.ly/plotly-latest.min']\n",
       "            }\n",
       "        });\n",
       "        require(['plotly'], function(Plotly) {\n",
       "            window._Plotly = Plotly;\n",
       "        });\n",
       "        }\n",
       "        </script>\n",
       "        "
      ]
     },
     "metadata": {},
     "output_type": "display_data"
    }
   ],
   "source": [
    "%matplotlib inline\n",
    "\n",
    "\n",
    "#for visualisation\n",
    "%pylab inline\n",
    "import warnings # current version of seaborn generates a bunch of warnings that we'll ignore\n",
    "warnings.filterwarnings(\"ignore\")\n",
    "import seaborn as sns\n",
    "import matplotlib.pyplot as plt\n",
    "import matplotlib.mlab as mlab\n",
    "sns.set(style=\"white\", color_codes=True)\n",
    "\n",
    "from plotly import __version__\n",
    "from plotly.offline import download_plotlyjs, init_notebook_mode, plot, iplot\n",
    "import plotly.graph_objs as go\n",
    "init_notebook_mode(connected=True)\n",
    "\n"
   ]
  },
  {
   "cell_type": "code",
   "execution_count": 3,
   "metadata": {},
   "outputs": [],
   "source": [
    "want_days_back = 30"
   ]
  },
  {
   "cell_type": "code",
   "execution_count": 4,
   "metadata": {},
   "outputs": [],
   "source": [
    "#calc K trend line coef\n",
    "def trendline(data, order=1):\n",
    "    coeffs = np.polyfit(np.arange(data.shape[0]), list(data), order)\n",
    "    slope = coeffs[-2]\n",
    "    return round(float(slope) , 4)"
   ]
  },
  {
   "cell_type": "code",
   "execution_count": 5,
   "metadata": {},
   "outputs": [],
   "source": [
    "from hyperopt import fmin, hp, tpe, STATUS_OK, Trials\n",
    "import lightgbm as lgb\n"
   ]
  },
  {
   "cell_type": "code",
   "execution_count": 8,
   "metadata": {},
   "outputs": [],
   "source": [
    "\n",
    "pay_aggr_df = None\n",
    "pay_aggr_df = pd.read_csv('./data/pay_aggr_df.csv')\n",
    "pay_aggr_df['date'] = pd.to_datetime(pay_aggr_df['date'])\n"
   ]
  },
  {
   "cell_type": "code",
   "execution_count": 9,
   "metadata": {},
   "outputs": [
    {
     "data": {
      "text/html": [
       "<div>\n",
       "<style scoped>\n",
       "    .dataframe tbody tr th:only-of-type {\n",
       "        vertical-align: middle;\n",
       "    }\n",
       "\n",
       "    .dataframe tbody tr th {\n",
       "        vertical-align: top;\n",
       "    }\n",
       "\n",
       "    .dataframe thead th {\n",
       "        text-align: right;\n",
       "    }\n",
       "</style>\n",
       "<table border=\"1\" class=\"dataframe\">\n",
       "  <thead>\n",
       "    <tr style=\"text-align: right;\">\n",
       "      <th></th>\n",
       "      <th>date</th>\n",
       "      <th>id_place</th>\n",
       "      <th>id_good</th>\n",
       "      <th>count</th>\n",
       "      <th>category_id</th>\n",
       "      <th>weekday</th>\n",
       "    </tr>\n",
       "  </thead>\n",
       "  <tbody>\n",
       "    <tr>\n",
       "      <th>0</th>\n",
       "      <td>2018-12-10</td>\n",
       "      <td>100</td>\n",
       "      <td>347</td>\n",
       "      <td>3.46</td>\n",
       "      <td>0</td>\n",
       "      <td>0</td>\n",
       "    </tr>\n",
       "    <tr>\n",
       "      <th>1</th>\n",
       "      <td>2018-12-10</td>\n",
       "      <td>101</td>\n",
       "      <td>347</td>\n",
       "      <td>2.00</td>\n",
       "      <td>0</td>\n",
       "      <td>0</td>\n",
       "    </tr>\n",
       "    <tr>\n",
       "      <th>2</th>\n",
       "      <td>2018-12-10</td>\n",
       "      <td>102</td>\n",
       "      <td>347</td>\n",
       "      <td>2.00</td>\n",
       "      <td>0</td>\n",
       "      <td>0</td>\n",
       "    </tr>\n",
       "    <tr>\n",
       "      <th>3</th>\n",
       "      <td>2018-12-10</td>\n",
       "      <td>103</td>\n",
       "      <td>347</td>\n",
       "      <td>1.58</td>\n",
       "      <td>0</td>\n",
       "      <td>0</td>\n",
       "    </tr>\n",
       "    <tr>\n",
       "      <th>4</th>\n",
       "      <td>2018-12-10</td>\n",
       "      <td>104</td>\n",
       "      <td>347</td>\n",
       "      <td>2.00</td>\n",
       "      <td>0</td>\n",
       "      <td>0</td>\n",
       "    </tr>\n",
       "  </tbody>\n",
       "</table>\n",
       "</div>"
      ],
      "text/plain": [
       "        date  id_place  id_good  count  category_id  weekday\n",
       "0 2018-12-10       100      347   3.46            0        0\n",
       "1 2018-12-10       101      347   2.00            0        0\n",
       "2 2018-12-10       102      347   2.00            0        0\n",
       "3 2018-12-10       103      347   1.58            0        0\n",
       "4 2018-12-10       104      347   2.00            0        0"
      ]
     },
     "execution_count": 9,
     "metadata": {},
     "output_type": "execute_result"
    }
   ],
   "source": [
    "pay_aggr_df.head()"
   ]
  },
  {
   "cell_type": "code",
   "execution_count": 10,
   "metadata": {},
   "outputs": [],
   "source": [
    "merge_prev_df = pay_aggr_df[['date'  , 'id_place' ,'id_good' ,'category_id','count']][:]\n"
   ]
  },
  {
   "cell_type": "code",
   "execution_count": 11,
   "metadata": {},
   "outputs": [],
   "source": [
    "pay_aggr_df = pay_aggr_df[['date'  , 'id_place','id_good' ,'category_id', 'count' , 'weekday']][:]\n",
    "pay_aggr_df = pay_aggr_df.sort_values(by = ['id_place','category_id','id_good','date'])[:]"
   ]
  },
  {
   "cell_type": "code",
   "execution_count": 12,
   "metadata": {},
   "outputs": [],
   "source": [
    "#add prev days info \n",
    "def add_prev_days(pay_aggr_df = None ,want_days_back = None , merge_prev_df = None):\n",
    "\n",
    "\n",
    "    prev_columns = []\n",
    "    pct_change_columns = []\n",
    "    pct_rename = {}\n",
    "\n",
    "    \n",
    "\n",
    "    #get prev dates info\n",
    "    for d in range(want_days_back):\n",
    "        #df_outcome['prev_date_' + str(i+1)] = df_outcome.groupby(['payer_id' , 'receiver_id' , 'currency_id']).transaction_date.shift(i+1)\n",
    "        pay_aggr_df['count_prev_' + str(d+1)] = pay_aggr_df.groupby(['id_place' , 'category_id', 'id_good' ])['count'].shift(d+1)\n",
    "        #df_outcome.fillna(-1. , inplace = True)\n",
    "\n",
    "\n",
    "        \n",
    "        time.sleep(3)\n",
    "\n",
    "        \n",
    "        prev_columns.append('count_prev_'+str(d+1))\n",
    "        pct_change_columns.append('pct_change_'+str(d+1))\n",
    "        pct_rename['count_prev_'+str(d+1)] = 'pct_change_'+str(d+1)\n",
    "        \n",
    "        \n",
    "        print(d)\n",
    "    pay_aggr_df.fillna(0 , inplace = True)\n",
    "\n",
    "    return pay_aggr_df , prev_columns , pct_change_columns , pct_rename\n"
   ]
  },
  {
   "cell_type": "code",
   "execution_count": 13,
   "metadata": {},
   "outputs": [],
   "source": [
    "#add stats info\n",
    "def add_stats_info(pay_aggr_df = None , want_days_back = None , prev_columns = None):\n",
    "\n",
    "    add_stats_columns = []\n",
    "\n",
    "\n",
    "    if want_days_back >= 7:\n",
    "        add_feat_step = 'w'\n",
    "        prev_cols = prev_columns[:7]\n",
    "\n",
    "        pay_aggr_df[add_feat_step + '_miss'] = (pay_aggr_df[prev_cols] == 0).sum(axis = 1)\n",
    "        pay_aggr_df[add_feat_step + '_cnt'] = pay_aggr_df[prev_cols].sum(axis = 1)\n",
    "        pay_aggr_df[add_feat_step + '_mean'] = pay_aggr_df[prev_cols].mean(axis = 1)\n",
    "        pay_aggr_df[add_feat_step + '_min'] = pay_aggr_df[prev_cols].min(axis = 1)\n",
    "        pay_aggr_df[add_feat_step + '_max'] = pay_aggr_df[prev_cols].max(axis = 1)\n",
    "        add_stats_columns.extend([add_feat_step + '_miss' , add_feat_step + '_cnt' , add_feat_step + '_mean'\n",
    "                                 ,add_feat_step + '_min' , add_feat_step + '_max'])\n",
    "\n",
    "\n",
    "    if want_days_back >= 30:\n",
    "        add_feat_step = 'm'\n",
    "        prev_cols = prev_columns[:30]\n",
    "\n",
    "        pay_aggr_df[add_feat_step + '_miss'] = (pay_aggr_df[prev_cols] == 0).sum(axis = 1)\n",
    "        pay_aggr_df[add_feat_step + '_cnt'] = pay_aggr_df[prev_cols].sum(axis = 1)\n",
    "        pay_aggr_df[add_feat_step + '_mean'] = pay_aggr_df[prev_cols].mean(axis = 1)\n",
    "        pay_aggr_df[add_feat_step + '_min'] = pay_aggr_df[prev_cols].min(axis = 1)\n",
    "        pay_aggr_df[add_feat_step + '_max'] = pay_aggr_df[prev_cols].max(axis = 1)   \n",
    "\n",
    "        pay_aggr_df[add_feat_step + '_25perc'] = np.percentile(pay_aggr_df[prev_cols] , 25 , axis = 1)\n",
    "        pay_aggr_df[add_feat_step + '_75perc'] = np.percentile(pay_aggr_df[prev_cols] , 25 , axis = 1)\n",
    "        pay_aggr_df[add_feat_step + '_std'] = np.std(pay_aggr_df[prev_cols]  , axis = 1)\n",
    "        add_stats_columns.extend([add_feat_step + '_miss' , add_feat_step + '_cnt' , add_feat_step + '_mean'\n",
    "                                 ,add_feat_step + '_min' , add_feat_step + '_max'\n",
    "                                 ,add_feat_step + '_25perc',add_feat_step + '_75perc',add_feat_step + '_std'])\n",
    "\n",
    "\n",
    "    if want_days_back >= 90:\n",
    "        add_feat_step = 'q'\n",
    "        prev_cols = prev_columns[:90]\n",
    "\n",
    "        pay_aggr_df[add_feat_step + '_miss'] = (pay_aggr_df[prev_cols] == 0).sum(axis = 1)\n",
    "        pay_aggr_df[add_feat_step + '_cnt'] = pay_aggr_df[prev_cols].sum(axis = 1)\n",
    "        pay_aggr_df[add_feat_step + '_mean'] = pay_aggr_df[prev_cols].mean(axis = 1)\n",
    "        pay_aggr_df[add_feat_step + '_min'] = pay_aggr_df[prev_cols].min(axis = 1)\n",
    "        pay_aggr_df[add_feat_step + '_max'] = pay_aggr_df[prev_cols].max(axis = 1)   \n",
    "\n",
    "        pay_aggr_df[add_feat_step + '_25perc'] = np.percentile(pay_aggr_df[prev_cols] , 25 , axis = 1)\n",
    "        pay_aggr_df[add_feat_step + '_75perc'] = np.percentile(pay_aggr_df[prev_cols] , 25 , axis = 1)\n",
    "        pay_aggr_df[add_feat_step + '_std'] = np.std(pay_aggr_df[prev_cols]  , axis = 1)\n",
    "        add_stats_columns.extend([add_feat_step + '_miss' , add_feat_step + '_cnt' , add_feat_step + '_mean'\n",
    "                                 ,add_feat_step + '_min' , add_feat_step + '_max'\n",
    "                                 ,add_feat_step + '_25perc',add_feat_step + '_75perc',add_feat_step + '_std'])\n",
    "        \n",
    "    return pay_aggr_df , add_stats_columns\n",
    "\n"
   ]
  },
  {
   "cell_type": "code",
   "execution_count": 14,
   "metadata": {},
   "outputs": [],
   "source": [
    "#add not main features\n",
    "def add_aditional(pay_aggr_df = None , prev_columns = None , pct_change_columns = None , pct_rename = None):\n",
    "    prev_cols = prev_columns\n",
    "    \n",
    "    pay_aggr_df = pd.merge(pay_aggr_df\n",
    "                           ,pay_aggr_df[prev_cols].pct_change(periods=1,axis=1, fill_method='ffill').rename(columns=pct_rename)[pct_change_columns[1:]]\n",
    "                          ,left_index = True\n",
    "                           ,right_index = True\n",
    "                          )\n",
    "    return pay_aggr_df\n",
    "\n"
   ]
  },
  {
   "cell_type": "code",
   "execution_count": 15,
   "metadata": {},
   "outputs": [],
   "source": [
    "#clear nulls \n",
    "def clear_nulls(pay_aggr_df=None):\n",
    "    pay_aggr_df.replace([np.inf, -np.inf], np.nan , inplace = True)\n",
    "    pay_aggr_df.fillna(0 , inplace = True)\n",
    "    return pay_aggr_df\n",
    "\n",
    "\n"
   ]
  },
  {
   "cell_type": "code",
   "execution_count": 16,
   "metadata": {},
   "outputs": [],
   "source": [
    "#make dummies\n",
    "def make_dummies(pay_aggr_df = None):\n",
    "    dfDummies = pd.get_dummies(pay_aggr_df['id_place'], prefix = 'id_place')\n",
    "    pay_aggr_df = pd.concat([pay_aggr_df, dfDummies], axis=1)\n",
    "    dfDummies = pd.get_dummies(pay_aggr_df['id_good'], prefix = 'id_good')\n",
    "    pay_aggr_df = pd.concat([pay_aggr_df, dfDummies], axis=1)\n",
    "    dfDummies = pd.get_dummies(pay_aggr_df['category_id'], prefix = 'category_id')\n",
    "    pay_aggr_df = pd.concat([pay_aggr_df, dfDummies], axis=1)\n",
    "    dfDummies = pd.get_dummies(pay_aggr_df['weekday'], prefix = 'weekday')\n",
    "    pay_aggr_df = pd.concat([pay_aggr_df, dfDummies], axis=1)\n",
    "    \n",
    "    return pay_aggr_df\n",
    "\n"
   ]
  },
  {
   "cell_type": "code",
   "execution_count": 17,
   "metadata": {},
   "outputs": [
    {
     "name": "stdout",
     "output_type": "stream",
     "text": [
      "add_prev_days\n",
      "0\n",
      "1\n",
      "2\n",
      "3\n",
      "4\n",
      "5\n",
      "6\n",
      "7\n",
      "8\n",
      "9\n",
      "10\n",
      "11\n",
      "12\n",
      "13\n",
      "14\n",
      "15\n",
      "16\n",
      "17\n",
      "18\n",
      "19\n",
      "20\n",
      "21\n",
      "22\n",
      "23\n",
      "24\n",
      "25\n",
      "26\n",
      "27\n",
      "28\n",
      "29\n",
      "add_stats_info\n",
      "add_aditional\n",
      "clear_nulls\n",
      "make_dummies\n"
     ]
    }
   ],
   "source": [
    "print('add_prev_days')\n",
    "pay_aggr_df , prev_columns , pct_change_columns , pct_rename = add_prev_days(pay_aggr_df = pay_aggr_df , want_days_back = want_days_back , merge_prev_df = merge_prev_df)\n",
    "time.sleep(0.1)\n",
    "print('add_stats_info')\n",
    "pay_aggr_df , add_stats_columns = add_stats_info(pay_aggr_df = pay_aggr_df , want_days_back = want_days_back , prev_columns = prev_columns)\n",
    "print('add_aditional')\n",
    "pay_aggr_df = add_aditional(pay_aggr_df = pay_aggr_df , prev_columns = prev_columns , pct_change_columns = pct_change_columns , pct_rename = pct_rename)\n",
    "print('clear_nulls')\n",
    "pay_aggr_df = clear_nulls(pay_aggr_df=pay_aggr_df)\n",
    "print('make_dummies')\n",
    "pay_aggr_df = make_dummies(pay_aggr_df = pay_aggr_df)\n"
   ]
  },
  {
   "cell_type": "code",
   "execution_count": 18,
   "metadata": {},
   "outputs": [],
   "source": [
    "#drop columns\n",
    "not_interest_columns = ['date' , 'id_place' ,'category_id' ,'id_good' , 'weekday' , 'date_prev'\n",
    "                       ,'item_discount','discount' , 'amount' , 'cost']\n"
   ]
  },
  {
   "cell_type": "code",
   "execution_count": 19,
   "metadata": {},
   "outputs": [],
   "source": [
    "interest_columns = list(set(list(pay_aggr_df.columns)) - set(['count']) - set(not_interest_columns))\n",
    "target_col = 'count'"
   ]
  },
  {
   "cell_type": "code",
   "execution_count": 20,
   "metadata": {},
   "outputs": [],
   "source": [
    "\n",
    "\n",
    "\n",
    "best = {'bagging_fraction': 0.9623173298501537\n",
    "        , 'bagging_freq': 16.0\n",
    "        , 'boosting_type': 0\n",
    "        , 'colsample_bytree': 0.9960457339028292\n",
    "        , 'feature_fraction': 0.9290456045188848\n",
    "        , 'max_depth': 18.0\n",
    "        , 'num_leaves': 56.0\n",
    "        , 'objective': 0}\n",
    "\n",
    "params = best\n",
    "\n",
    "params['boosting_type'] = 'gbdt'\n",
    "params['objective'] = 'regression'\n",
    "params['metric'] = {'l2','mse'}\n",
    "\n",
    "\n",
    "for i in params:\n",
    "    if type(params[i]) != str and type(params[i]) != set:\n",
    "        if int(params[i]) == params[i]:\n",
    "            params[i] = int(params[i])"
   ]
  },
  {
   "cell_type": "code",
   "execution_count": 21,
   "metadata": {},
   "outputs": [],
   "source": [
    "test_date = '2019-06-01'"
   ]
  },
  {
   "cell_type": "code",
   "execution_count": 22,
   "metadata": {},
   "outputs": [
    {
     "name": "stdout",
     "output_type": "stream",
     "text": [
      "mae 0.316 params {'bagging_fraction': 0.8116741171910344, 'bagging_freq': 6, 'boosting_type': 'gbdt', 'colsample_bytree': 0.9082850248257812, 'feature_fraction': 0.8964763358711534, 'max_depth': 40, 'num_leaves': 180, 'objective': 'quantile', 'min_data_in_leaf': 50, 'metric': 'quantile', 'alpha': '0.656', 'lambda_l1': '0.537', 'lambda_l2': '0.123'} n_boost 15\n",
      "100%|██████████| 1/1 [00:55<00:00, 55.72s/it, best loss: 0.31553871359297114]\n",
      "\n",
      "!!!!! and the winner is:\n",
      "{'alpha': 0.6556692507915807, 'lambda_l1': 0.5373171765967065, 'lambda_l2': 0.12292170266213019, 'max_depth': 40.0, 'num_leaves': 180.0}\n"
     ]
    }
   ],
   "source": [
    "#%%time\n",
    "test_date = '2019-06-01'\n",
    "X_train = pay_aggr_df[(pay_aggr_df['date'] < test_date)][interest_columns][:]\n",
    "X_test = pay_aggr_df[(pay_aggr_df['date'] >= test_date)][interest_columns][:]\n",
    "y_train = pay_aggr_df[(pay_aggr_df['date'] < test_date)][target_col][:]\n",
    "y_test = pay_aggr_df[(pay_aggr_df['date'] >= test_date)][target_col][:]\n",
    "\n",
    "#X_train, X_test, y_train, y_test = train_test_split(pay_aggr_df[interest_columns][:], pay_aggr_df[target_col][:]) \n",
    "\n",
    "lgb_train = lgb.Dataset(X_train, y_train)\n",
    "lgb_eval = lgb.Dataset(X_test, y_test)\n",
    "\n",
    "lgb_tt = lgb.Dataset(pay_aggr_df[interest_columns][:], pay_aggr_df[target_col][:])\n",
    "\n",
    "\n",
    "def objective(params):\n",
    "    '''\n",
    "    params = {\n",
    "        'num_leaves': int(params['num_leaves']),\n",
    "        'colsample_bytree': '{:.3f}'.format(params['colsample_bytree']),\n",
    "        'boosting_type': str(params['boosting_type']),\n",
    "        'objective': str(params['objective']),\n",
    "        'max_depth': int(params['max_depth']),\n",
    "        'bagging_freq': int(params['bagging_freq']),\n",
    "        'bagging_fraction': '{:.3f}'.format(params['bagging_fraction']),\n",
    "        'feature_fraction': '{:.3f}'.format(params['feature_fraction']),\n",
    "    }\n",
    "    '''    \n",
    "    \n",
    "    params = {'bagging_fraction': 0.8116741171910344,\n",
    "     'bagging_freq': 6,\n",
    "     'boosting_type': 'gbdt',\n",
    "     'colsample_bytree': 0.9082850248257812,\n",
    "     'feature_fraction': 0.8964763358711534,\n",
    "     'max_depth': int(params['max_depth']),\n",
    "     'num_leaves': int(params['num_leaves']),\n",
    "     'objective': 'quantile',\n",
    "     'min_data_in_leaf': 50,\n",
    "     'metric': 'quantile',\n",
    "    'alpha': '{:.3f}'.format(params['alpha']),\n",
    "    'lambda_l1': '{:.3f}'.format(params['lambda_l1']),\n",
    "    'lambda_l2': '{:.3f}'.format(params['lambda_l2'])\n",
    "             }\n",
    "    \n",
    "    \n",
    "    cv_results = lgb.cv(\n",
    "            params,\n",
    "            lgb_tt,\n",
    "            num_boost_round=500,\n",
    "            nfold=4,\n",
    "            metrics={'mae','mse','l2'},\n",
    "            early_stopping_rounds=10,\n",
    "            # This is what I added\n",
    "            stratified=False\n",
    "            )\n",
    "    \n",
    "    n_boost_best = len(cv_results['l1-mean'])\n",
    "    mae = np.min(cv_results['l1-mean'])\n",
    "    \n",
    "\n",
    "\n",
    "\n",
    "    print(\"mae {:.3f} params {} n_boost {}\".format(mae, params,n_boost_best))\n",
    "    \n",
    "    return{'loss':mae, 'status': STATUS_OK }\n",
    "\n",
    "space ={    \n",
    "        #lgbm\n",
    "        #'boosting_type': hp.choice('boosting_type','gbdt'),\n",
    "        #'objective': hp.choice('objective','regression'),\n",
    "        #'max_depth' : hp.choice('max_depth',5),\n",
    "        #'metric': hp.choice('metric',{'l2', 'l1','mae'}),\n",
    "        #'num_leaves': hp.choice('num_leaves',31),\n",
    "        #'learning_rate': hp.choice('learning_rate',0.05),\n",
    "        #'feature_fraction': hp.choice('feature_fraction',0.9),\n",
    "        #'bagging_fraction': hp.choice('bagging_fraction',0.8),\n",
    "        #'bagging_freq': hp.choice('bagging_freq',5),\n",
    "        #'verbose': hp.choice('verbose',1)\n",
    "\n",
    "    \n",
    "        #xgb\n",
    "        #'max_depth': hp.choice('max_depth', np.arange(10, 30, dtype=int)),\n",
    "        #'min_child_weight': hp.quniform ('min_child', 1, 20, 1),\n",
    "        #'subsample': hp.uniform ('subsample', 0.8, 1),\n",
    "        #'n_estimators' : hp.choice('n_estimators', np.arange(1000, 10000, 100, dtype=int)),\n",
    "        #'learning_rate' : hp.quniform('learning_rate', 0.025, 0.5, 0.025),\n",
    "        #'gamma' : hp.quniform('gamma', 0.5, 1, 0.05),\n",
    "        #'colsample_bytree' : hp.quniform('colsample_bytree', 0.5, 1, 0.05)\n",
    "    }\n",
    "\n",
    "space = {\n",
    "    'num_leaves': hp.quniform('num_leaves', 8, 64, 8),\n",
    "    'colsample_bytree': hp.uniform('colsample_bytree', 0.5, 1.0),\n",
    "    'boosting_type' : hp.choice('boosting_type' , ['gbdt' , 'rf']),\n",
    "    'objective': hp.choice('objective' , ['regression','huber','poisson']),\n",
    "    'max_depth': hp.quniform('max_depth', 6, 18, 2),\n",
    "    'bagging_freq': hp.quniform('bagging_freq', 6, 18, 2),\n",
    "    'bagging_fraction': hp.uniform('bagging_fraction', 0.5, 0.9),\n",
    "    'feature_fraction': hp.uniform('feature_fraction', 0.5, 0.9),                 \n",
    "   }\n",
    "\n",
    "space = {\n",
    "\n",
    "    'alpha': hp.uniform('alpha', 0.5, 0.9),\n",
    "    'max_depth': hp.quniform('max_depth', 10, 400, 10),\n",
    "    'num_leaves': hp.quniform('num_leaves', 10, 800, 10),\n",
    "    'lambda_l1': hp.uniform('lambda_l1', 0.1, 0.9),\n",
    "    'lambda_l2': hp.uniform('lambda_l2', 0.1, 0.9),                 \n",
    "   }\n",
    "\n",
    "\n",
    "\n",
    "best = fmin(fn=objective,\n",
    "            space=space,\n",
    "            algo=tpe.suggest,\n",
    "            max_evals=1)\n",
    "\n",
    "print('\\n!!!!! and the winner is:')\n",
    "print(best)"
   ]
  },
  {
   "cell_type": "code",
   "execution_count": 23,
   "metadata": {},
   "outputs": [
    {
     "data": {
      "text/plain": [
       "{'alpha': 0.6556692507915807,\n",
       " 'lambda_l1': 0.5373171765967065,\n",
       " 'lambda_l2': 0.12292170266213019,\n",
       " 'max_depth': 40.0,\n",
       " 'num_leaves': 180.0}"
      ]
     },
     "execution_count": 23,
     "metadata": {},
     "output_type": "execute_result"
    }
   ],
   "source": [
    "best"
   ]
  },
  {
   "cell_type": "code",
   "execution_count": 24,
   "metadata": {},
   "outputs": [],
   "source": [
    "#new\n",
    "#best['boosting_type'] = ['gbdt' , 'rf'][best['boosting_type']]\n",
    "params = best\n",
    "#params['class_weight'] = 'is_unbalance'\n",
    "#params['objective'] = 'binary'\n",
    "#params['metric'] = 'auc'\n",
    "#params['random_state'] = 4242442\n",
    "\n",
    "params['boosting_type'] = 'gbdt'\n",
    "params['objective'] = 'regression'\n",
    "params['metric'] = {'l2','mse'}\n",
    "\n",
    "\n",
    "for i in params:\n",
    "    if type(params[i]) != str and type(params[i]) != set:\n",
    "        if int(params[i]) == params[i]:\n",
    "            params[i] = int(params[i])"
   ]
  },
  {
   "cell_type": "code",
   "execution_count": 25,
   "metadata": {},
   "outputs": [
    {
     "name": "stdout",
     "output_type": "stream",
     "text": [
      "[1]\tvalid_0's l2: 0.224028\tvalid_0's l2: 0.224028\n",
      "Training until validation scores don't improve for 5 rounds.\n",
      "[2]\tvalid_0's l2: 0.208754\tvalid_0's l2: 0.208754\n",
      "[3]\tvalid_0's l2: 0.196361\tvalid_0's l2: 0.196361\n",
      "[4]\tvalid_0's l2: 0.186316\tvalid_0's l2: 0.186316\n",
      "[5]\tvalid_0's l2: 0.178066\tvalid_0's l2: 0.178066\n",
      "[6]\tvalid_0's l2: 0.171293\tvalid_0's l2: 0.171293\n",
      "[7]\tvalid_0's l2: 0.165823\tvalid_0's l2: 0.165823\n",
      "[8]\tvalid_0's l2: 0.16136\tvalid_0's l2: 0.16136\n",
      "[9]\tvalid_0's l2: 0.157787\tvalid_0's l2: 0.157787\n",
      "[10]\tvalid_0's l2: 0.15479\tvalid_0's l2: 0.15479\n",
      "[11]\tvalid_0's l2: 0.152356\tvalid_0's l2: 0.152356\n",
      "[12]\tvalid_0's l2: 0.150325\tvalid_0's l2: 0.150325\n",
      "[13]\tvalid_0's l2: 0.14868\tvalid_0's l2: 0.14868\n",
      "[14]\tvalid_0's l2: 0.147272\tvalid_0's l2: 0.147272\n",
      "[15]\tvalid_0's l2: 0.146152\tvalid_0's l2: 0.146152\n",
      "[16]\tvalid_0's l2: 0.145168\tvalid_0's l2: 0.145168\n",
      "[17]\tvalid_0's l2: 0.144364\tvalid_0's l2: 0.144364\n",
      "[18]\tvalid_0's l2: 0.143686\tvalid_0's l2: 0.143686\n",
      "[19]\tvalid_0's l2: 0.143103\tvalid_0's l2: 0.143103\n",
      "[20]\tvalid_0's l2: 0.142609\tvalid_0's l2: 0.142609\n",
      "[21]\tvalid_0's l2: 0.142165\tvalid_0's l2: 0.142165\n",
      "[22]\tvalid_0's l2: 0.141816\tvalid_0's l2: 0.141816\n",
      "[23]\tvalid_0's l2: 0.141499\tvalid_0's l2: 0.141499\n",
      "[24]\tvalid_0's l2: 0.141249\tvalid_0's l2: 0.141249\n",
      "[25]\tvalid_0's l2: 0.140987\tvalid_0's l2: 0.140987\n",
      "[26]\tvalid_0's l2: 0.140745\tvalid_0's l2: 0.140745\n",
      "[27]\tvalid_0's l2: 0.140587\tvalid_0's l2: 0.140587\n",
      "[28]\tvalid_0's l2: 0.140416\tvalid_0's l2: 0.140416\n",
      "[29]\tvalid_0's l2: 0.140284\tvalid_0's l2: 0.140284\n",
      "[30]\tvalid_0's l2: 0.140149\tvalid_0's l2: 0.140149\n",
      "[31]\tvalid_0's l2: 0.140005\tvalid_0's l2: 0.140005\n",
      "[32]\tvalid_0's l2: 0.139919\tvalid_0's l2: 0.139919\n",
      "[33]\tvalid_0's l2: 0.139819\tvalid_0's l2: 0.139819\n",
      "[34]\tvalid_0's l2: 0.139733\tvalid_0's l2: 0.139733\n",
      "[35]\tvalid_0's l2: 0.139655\tvalid_0's l2: 0.139655\n",
      "[36]\tvalid_0's l2: 0.139587\tvalid_0's l2: 0.139587\n",
      "[37]\tvalid_0's l2: 0.139506\tvalid_0's l2: 0.139506\n",
      "[38]\tvalid_0's l2: 0.139444\tvalid_0's l2: 0.139444\n",
      "[39]\tvalid_0's l2: 0.139394\tvalid_0's l2: 0.139394\n",
      "[40]\tvalid_0's l2: 0.139358\tvalid_0's l2: 0.139358\n",
      "[41]\tvalid_0's l2: 0.139295\tvalid_0's l2: 0.139295\n",
      "[42]\tvalid_0's l2: 0.139216\tvalid_0's l2: 0.139216\n",
      "[43]\tvalid_0's l2: 0.139154\tvalid_0's l2: 0.139154\n",
      "[44]\tvalid_0's l2: 0.139106\tvalid_0's l2: 0.139106\n",
      "[45]\tvalid_0's l2: 0.139048\tvalid_0's l2: 0.139048\n",
      "[46]\tvalid_0's l2: 0.139005\tvalid_0's l2: 0.139005\n",
      "[47]\tvalid_0's l2: 0.138949\tvalid_0's l2: 0.138949\n",
      "[48]\tvalid_0's l2: 0.138922\tvalid_0's l2: 0.138922\n",
      "[49]\tvalid_0's l2: 0.138888\tvalid_0's l2: 0.138888\n",
      "[50]\tvalid_0's l2: 0.138845\tvalid_0's l2: 0.138845\n",
      "[51]\tvalid_0's l2: 0.138827\tvalid_0's l2: 0.138827\n",
      "[52]\tvalid_0's l2: 0.138803\tvalid_0's l2: 0.138803\n",
      "[53]\tvalid_0's l2: 0.138777\tvalid_0's l2: 0.138777\n",
      "[54]\tvalid_0's l2: 0.138762\tvalid_0's l2: 0.138762\n",
      "[55]\tvalid_0's l2: 0.13875\tvalid_0's l2: 0.13875\n",
      "[56]\tvalid_0's l2: 0.138722\tvalid_0's l2: 0.138722\n",
      "[57]\tvalid_0's l2: 0.138685\tvalid_0's l2: 0.138685\n",
      "[58]\tvalid_0's l2: 0.138658\tvalid_0's l2: 0.138658\n",
      "[59]\tvalid_0's l2: 0.138643\tvalid_0's l2: 0.138643\n",
      "[60]\tvalid_0's l2: 0.138617\tvalid_0's l2: 0.138617\n",
      "[61]\tvalid_0's l2: 0.138598\tvalid_0's l2: 0.138598\n",
      "[62]\tvalid_0's l2: 0.138579\tvalid_0's l2: 0.138579\n",
      "[63]\tvalid_0's l2: 0.138564\tvalid_0's l2: 0.138564\n",
      "[64]\tvalid_0's l2: 0.138549\tvalid_0's l2: 0.138549\n",
      "[65]\tvalid_0's l2: 0.13854\tvalid_0's l2: 0.13854\n",
      "[66]\tvalid_0's l2: 0.138514\tvalid_0's l2: 0.138514\n",
      "[67]\tvalid_0's l2: 0.1385\tvalid_0's l2: 0.1385\n",
      "[68]\tvalid_0's l2: 0.138483\tvalid_0's l2: 0.138483\n",
      "[69]\tvalid_0's l2: 0.138462\tvalid_0's l2: 0.138462\n",
      "[70]\tvalid_0's l2: 0.138451\tvalid_0's l2: 0.138451\n",
      "[71]\tvalid_0's l2: 0.13846\tvalid_0's l2: 0.13846\n",
      "[72]\tvalid_0's l2: 0.138447\tvalid_0's l2: 0.138447\n",
      "[73]\tvalid_0's l2: 0.138458\tvalid_0's l2: 0.138458\n",
      "[74]\tvalid_0's l2: 0.138469\tvalid_0's l2: 0.138469\n",
      "[75]\tvalid_0's l2: 0.138462\tvalid_0's l2: 0.138462\n",
      "[76]\tvalid_0's l2: 0.138444\tvalid_0's l2: 0.138444\n",
      "[77]\tvalid_0's l2: 0.138444\tvalid_0's l2: 0.138444\n",
      "[78]\tvalid_0's l2: 0.138444\tvalid_0's l2: 0.138444\n",
      "[79]\tvalid_0's l2: 0.138434\tvalid_0's l2: 0.138434\n",
      "[80]\tvalid_0's l2: 0.138423\tvalid_0's l2: 0.138423\n",
      "[81]\tvalid_0's l2: 0.138412\tvalid_0's l2: 0.138412\n",
      "[82]\tvalid_0's l2: 0.138413\tvalid_0's l2: 0.138413\n",
      "[83]\tvalid_0's l2: 0.13842\tvalid_0's l2: 0.13842\n",
      "[84]\tvalid_0's l2: 0.138422\tvalid_0's l2: 0.138422\n",
      "[85]\tvalid_0's l2: 0.13841\tvalid_0's l2: 0.13841\n",
      "[86]\tvalid_0's l2: 0.138415\tvalid_0's l2: 0.138415\n",
      "[87]\tvalid_0's l2: 0.138401\tvalid_0's l2: 0.138401\n",
      "[88]\tvalid_0's l2: 0.138399\tvalid_0's l2: 0.138399\n",
      "[89]\tvalid_0's l2: 0.138386\tvalid_0's l2: 0.138386\n",
      "[90]\tvalid_0's l2: 0.138376\tvalid_0's l2: 0.138376\n",
      "[91]\tvalid_0's l2: 0.138374\tvalid_0's l2: 0.138374\n",
      "[92]\tvalid_0's l2: 0.138367\tvalid_0's l2: 0.138367\n",
      "[93]\tvalid_0's l2: 0.138362\tvalid_0's l2: 0.138362\n",
      "[94]\tvalid_0's l2: 0.138354\tvalid_0's l2: 0.138354\n",
      "[95]\tvalid_0's l2: 0.138345\tvalid_0's l2: 0.138345\n",
      "[96]\tvalid_0's l2: 0.138353\tvalid_0's l2: 0.138353\n",
      "[97]\tvalid_0's l2: 0.13835\tvalid_0's l2: 0.13835\n",
      "[98]\tvalid_0's l2: 0.138347\tvalid_0's l2: 0.138347\n",
      "[99]\tvalid_0's l2: 0.138349\tvalid_0's l2: 0.138349\n",
      "[100]\tvalid_0's l2: 0.138338\tvalid_0's l2: 0.138338\n",
      "[101]\tvalid_0's l2: 0.138345\tvalid_0's l2: 0.138345\n",
      "[102]\tvalid_0's l2: 0.138353\tvalid_0's l2: 0.138353\n",
      "[103]\tvalid_0's l2: 0.138368\tvalid_0's l2: 0.138368\n",
      "[104]\tvalid_0's l2: 0.138358\tvalid_0's l2: 0.138358\n",
      "[105]\tvalid_0's l2: 0.138354\tvalid_0's l2: 0.138354\n",
      "Early stopping, best iteration is:\n",
      "[100]\tvalid_0's l2: 0.138338\tvalid_0's l2: 0.138338\n"
     ]
    }
   ],
   "source": [
    "\n",
    "lgb_train = lgb.Dataset(X_train, y_train)\n",
    "lgb_eval = lgb.Dataset(X_test, y_test)\n",
    "\n",
    "n_boost_optimal = 500\n",
    "gbm = lgb.train(params,\n",
    "                lgb_train,\n",
    "                num_boost_round=n_boost_optimal + 20,\n",
    "                valid_sets=lgb_eval,\n",
    "                early_stopping_rounds=5\n",
    "               )"
   ]
  },
  {
   "cell_type": "code",
   "execution_count": 26,
   "metadata": {},
   "outputs": [],
   "source": [
    "model = lgb.train(params, lgb_train, num_boost_round = 200  )"
   ]
  },
  {
   "cell_type": "code",
   "execution_count": 27,
   "metadata": {},
   "outputs": [
    {
     "data": {
      "image/png": "[encoded data removed]",
      "text/plain": [
       "<Figure size 1440x1080 with 1 Axes>"
      ]
     },
     "metadata": {
      "needs_background": "light"
     },
     "output_type": "display_data"
    }
   ],
   "source": [
    "first = 30\n",
    "\n",
    "sns.set_context(\"paper\", font_scale=2)\n",
    "feature_imp = pd.DataFrame(sorted(zip(model.feature_importance(),model.feature_name())), columns=['Value','Feature'])\n",
    "\n",
    "\n",
    "#feature_imp = feature_imp[~(feature_imp.Feature.isin(['dev_max_turnover']))][:]\n",
    "\n",
    "#feature_imp = feature_imp[int_columns][:]\n",
    "\n",
    "feature_imp = feature_imp.tail(first)[:]\n",
    "\n",
    "plt.figure(figsize=(20, 15))\n",
    "sns.barplot(x=\"Value\", y=\"Feature\", data=feature_imp.sort_values(by=\"Value\", ascending=False))\n",
    "plt.title('LightGBM Features (avg over folds)')\n",
    "plt.tight_layout()\n",
    "plt.show()\n",
    "#plt.savefig('lgbm_importances-01.png')"
   ]
  },
  {
   "cell_type": "code",
   "execution_count": 28,
   "metadata": {},
   "outputs": [],
   "source": [
    "cnt_predict = model.predict(X_test[interest_columns][:])"
   ]
  },
  {
   "cell_type": "code",
   "execution_count": 29,
   "metadata": {},
   "outputs": [
    {
     "name": "stdout",
     "output_type": "stream",
     "text": [
      "pred\n",
      "real\n"
     ]
    },
    {
     "data": {
      "text/plain": [
       "<matplotlib.axes._subplots.AxesSubplot at 0x1a1ddabda0>"
      ]
     },
     "execution_count": 29,
     "metadata": {},
     "output_type": "execute_result"
    },
    {
     "data": {
      "image/png": "[encoded data removed]",
      "text/plain": [
       "<Figure size 504x504 with 2 Axes>"
      ]
     },
     "metadata": {},
     "output_type": "display_data"
    }
   ],
   "source": [
    "sns.set(style=\"white\", palette=\"muted\", color_codes=True)\n",
    "rs = np.random.RandomState(10)\n",
    "\n",
    "# Set up the matplotlib figure\n",
    "f, axes = plt.subplots(2, 1, figsize=(7, 7), sharex=True)\n",
    "sns.despine(left=True)\n",
    "\n",
    "# Generate a random univariate dataset\n",
    "d = rs.normal(size=100)\n",
    "\n",
    "# Plot a simple histogram with binsize determined automatically\n",
    "print('pred')\n",
    "sns.distplot(cnt_predict, kde=False, color=\"b\", ax=axes[0])\n",
    "\n",
    "# Plot a simple histogram with binsize determined automatically\n",
    "print('real')\n",
    "sns.distplot(y_test, kde=False, color=\"b\", ax=axes[1])\n"
   ]
  },
  {
   "cell_type": "markdown",
   "metadata": {},
   "source": [
    "# NN model"
   ]
  },
  {
   "cell_type": "code",
   "execution_count": 31,
   "metadata": {},
   "outputs": [],
   "source": [
    "from keras.models import Sequential\n",
    "from keras.layers import Dense , Dropout\n",
    "from keras.regularizers import L1L2\n",
    "from keras.wrappers.scikit_learn import KerasRegressor\n",
    "from keras.optimizers import SGD\n",
    "\n",
    "from keras.models import Sequential\n",
    "from keras.layers import Dense , Dropout , BatchNormalization\n",
    "from keras.regularizers import L1L2\n",
    "from keras.wrappers.scikit_learn import KerasRegressor\n",
    "from keras import regularizers"
   ]
  },
  {
   "cell_type": "code",
   "execution_count": 32,
   "metadata": {},
   "outputs": [],
   "source": [
    "X_train = pay_aggr_df[(pay_aggr_df['date'] < test_date)][interest_columns][:]\n",
    "X_test = pay_aggr_df[(pay_aggr_df['date'] >= test_date)][interest_columns][:]\n",
    "y_train = pay_aggr_df[(pay_aggr_df['date'] < test_date)][target_col][:]\n",
    "y_test = pay_aggr_df[(pay_aggr_df['date'] >= test_date)][target_col][:]\n"
   ]
  },
  {
   "cell_type": "code",
   "execution_count": 33,
   "metadata": {},
   "outputs": [],
   "source": [
    "\n",
    "X_train.fillna(0 , inplace = True)\n",
    "\n",
    "input_dim = X_train.shape[1]"
   ]
  },
  {
   "cell_type": "code",
   "execution_count": 34,
   "metadata": {},
   "outputs": [],
   "source": [
    "from sklearn.preprocessing import MinMaxScaler , StandardScaler\n",
    "scalar = StandardScaler()\n",
    "scalar.fit(X_train)\n",
    "X_train = scalar.transform(X_train)"
   ]
  },
  {
   "cell_type": "code",
   "execution_count": 39,
   "metadata": {},
   "outputs": [
    {
     "name": "stdout",
     "output_type": "stream",
     "text": [
      "Train on 647687 samples, validate on 71966 samples\n",
      "Epoch 1/5\n",
      "647687/647687 [==============================] - 38s 59us/step - loss: 0.3043 - val_loss: 0.3555\n",
      "Epoch 2/5\n",
      "647687/647687 [==============================] - 37s 58us/step - loss: 0.2778 - val_loss: 0.5807\n",
      "Epoch 3/5\n",
      "647687/647687 [==============================] - 37s 57us/step - loss: 0.2738 - val_loss: 0.4029\n",
      "Epoch 4/5\n",
      "647687/647687 [==============================] - 36s 55us/step - loss: 0.2711 - val_loss: 0.3755\n",
      "Epoch 5/5\n",
      "647687/647687 [==============================] - 37s 57us/step - loss: 0.2701 - val_loss: 0.3523\n"
     ]
    },
    {
     "data": {
      "text/plain": [
       "<keras.callbacks.History at 0x1a4b02aa90>"
      ]
     },
     "execution_count": 39,
     "metadata": {},
     "output_type": "execute_result"
    }
   ],
   "source": [
    "model = None\n",
    "model = Sequential()\n",
    "model.add(Dense(256, input_dim=input_dim, activation='linear'))\n",
    "model.add(Dense(128, activation='relu'))\n",
    "model.add(Dropout(0.2))\n",
    "model.add(Dense(64, activation='linear',kernel_initializer='random_uniform'))\n",
    "model.add(Dense(32, activation='tanh'))\n",
    "model.add(Dense(64, activation='relu' ))\n",
    "model.add(Dense(128, activation='linear'))\n",
    "model.add(Dropout(0.2))\n",
    "model.add(Dense(256, activation='relu'))\n",
    "model.add(Dense(1, activation='exponential')) \n",
    "model.compile(loss='mean_absolute_error', optimizer='Nadam')\n",
    "model.fit(X_train, y_train, epochs=5, verbose=1 , batch_size =  2048 , validation_split = 0.1)"
   ]
  },
  {
   "cell_type": "code",
   "execution_count": 40,
   "metadata": {},
   "outputs": [],
   "source": [
    "X_test = scalar.transform(X_test)"
   ]
  },
  {
   "cell_type": "code",
   "execution_count": 41,
   "metadata": {},
   "outputs": [
    {
     "name": "stdout",
     "output_type": "stream",
     "text": [
      "pred\n",
      "real\n"
     ]
    },
    {
     "data": {
      "text/plain": [
       "<matplotlib.axes._subplots.AxesSubplot at 0x1a54f3b0b8>"
      ]
     },
     "execution_count": 41,
     "metadata": {},
     "output_type": "execute_result"
    },
    {
     "data": {
      "image/png": "[encoded data removed]",
      "text/plain": [
       "<Figure size 504x504 with 2 Axes>"
      ]
     },
     "metadata": {},
     "output_type": "display_data"
    }
   ],
   "source": [
    "ynew = model.predict(X_test)\n",
    "ynew = np.hstack(ynew)\n",
    "ynew = np.array(ynew, dtype = 'float')\n",
    "\n",
    "sns.set(style=\"white\", palette=\"muted\", color_codes=True)\n",
    "rs = np.random.RandomState(10)\n",
    "\n",
    "# Set up the matplotlib figure\n",
    "f, axes = plt.subplots(2, 1, figsize=(7, 7), sharex=True)\n",
    "sns.despine(left=True)\n",
    "\n",
    "# Generate a random univariate dataset\n",
    "d = rs.normal(size=100)\n",
    "\n",
    "# Plot a simple histogram with binsize determined automatically\n",
    "print('pred')\n",
    "sns.distplot(ynew, kde=False, color=\"b\", ax=axes[0])\n",
    "\n",
    "# Plot a simple histogram with binsize determined automatically\n",
    "print('real')\n",
    "sns.distplot(y_test, kde=False, color=\"b\", ax=axes[1])\n"
   ]
  },
  {
   "cell_type": "code",
   "execution_count": null,
   "metadata": {},
   "outputs": [],
   "source": []
  },
  {
   "cell_type": "code",
   "execution_count": null,
   "metadata": {},
   "outputs": [],
   "source": []
  },
  {
   "cell_type": "code",
   "execution_count": null,
   "metadata": {},
   "outputs": [],
   "source": []
  },
  {
   "cell_type": "markdown",
   "metadata": {},
   "source": [
    "# predict future"
   ]
  },
  {
   "cell_type": "code",
   "execution_count": 44,
   "metadata": {},
   "outputs": [],
   "source": [
    "test_df = pay_aggr_df[(pay_aggr_df['date'] >= test_date)][:]\n",
    "test_df['pred'] = np.round(2 ** cnt_predict - 1,0)\n",
    "test_df['amount'] = np.round(2 ** test_df['count'] - 1,0)\n",
    "\n",
    "test_df['error'] = test_df['pred'] - test_df['amount'] "
   ]
  },
  {
   "cell_type": "code",
   "execution_count": 45,
   "metadata": {},
   "outputs": [],
   "source": [
    "test_df['pred_nn'] = np.round(2 ** ynew - 1,0)"
   ]
  },
  {
   "cell_type": "code",
   "execution_count": 47,
   "metadata": {},
   "outputs": [
    {
     "data": {
      "text/html": [
       "<div>\n",
       "<style scoped>\n",
       "    .dataframe tbody tr th:only-of-type {\n",
       "        vertical-align: middle;\n",
       "    }\n",
       "\n",
       "    .dataframe tbody tr th {\n",
       "        vertical-align: top;\n",
       "    }\n",
       "\n",
       "    .dataframe thead th {\n",
       "        text-align: right;\n",
       "    }\n",
       "</style>\n",
       "<table border=\"1\" class=\"dataframe\">\n",
       "  <thead>\n",
       "    <tr style=\"text-align: right;\">\n",
       "      <th></th>\n",
       "      <th>id_place</th>\n",
       "      <th>id_good</th>\n",
       "      <th>amount</th>\n",
       "      <th>pred</th>\n",
       "      <th>pred_nn</th>\n",
       "      <th>error</th>\n",
       "    </tr>\n",
       "  </thead>\n",
       "  <tbody>\n",
       "    <tr>\n",
       "      <th>19523</th>\n",
       "      <td>266</td>\n",
       "      <td>604</td>\n",
       "      <td>161.0</td>\n",
       "      <td>182.0</td>\n",
       "      <td>110.0</td>\n",
       "      <td>21.0</td>\n",
       "    </tr>\n",
       "    <tr>\n",
       "      <th>19538</th>\n",
       "      <td>266</td>\n",
       "      <td>677</td>\n",
       "      <td>35.0</td>\n",
       "      <td>50.0</td>\n",
       "      <td>46.0</td>\n",
       "      <td>15.0</td>\n",
       "    </tr>\n",
       "    <tr>\n",
       "      <th>19475</th>\n",
       "      <td>266</td>\n",
       "      <td>379</td>\n",
       "      <td>13.0</td>\n",
       "      <td>27.0</td>\n",
       "      <td>26.0</td>\n",
       "      <td>14.0</td>\n",
       "    </tr>\n",
       "    <tr>\n",
       "      <th>8358</th>\n",
       "      <td>100</td>\n",
       "      <td>822</td>\n",
       "      <td>24.0</td>\n",
       "      <td>38.0</td>\n",
       "      <td>27.0</td>\n",
       "      <td>14.0</td>\n",
       "    </tr>\n",
       "    <tr>\n",
       "      <th>14095</th>\n",
       "      <td>163</td>\n",
       "      <td>374</td>\n",
       "      <td>76.0</td>\n",
       "      <td>90.0</td>\n",
       "      <td>77.0</td>\n",
       "      <td>14.0</td>\n",
       "    </tr>\n",
       "    <tr>\n",
       "      <th>19467</th>\n",
       "      <td>266</td>\n",
       "      <td>347</td>\n",
       "      <td>288.0</td>\n",
       "      <td>301.0</td>\n",
       "      <td>167.0</td>\n",
       "      <td>13.0</td>\n",
       "    </tr>\n",
       "    <tr>\n",
       "      <th>19583</th>\n",
       "      <td>266</td>\n",
       "      <td>844</td>\n",
       "      <td>65.0</td>\n",
       "      <td>77.0</td>\n",
       "      <td>65.0</td>\n",
       "      <td>12.0</td>\n",
       "    </tr>\n",
       "    <tr>\n",
       "      <th>27132</th>\n",
       "      <td>346</td>\n",
       "      <td>374</td>\n",
       "      <td>41.0</td>\n",
       "      <td>53.0</td>\n",
       "      <td>61.0</td>\n",
       "      <td>12.0</td>\n",
       "    </tr>\n",
       "    <tr>\n",
       "      <th>6671</th>\n",
       "      <td>86</td>\n",
       "      <td>392</td>\n",
       "      <td>17.0</td>\n",
       "      <td>29.0</td>\n",
       "      <td>24.0</td>\n",
       "      <td>12.0</td>\n",
       "    </tr>\n",
       "    <tr>\n",
       "      <th>28897</th>\n",
       "      <td>364</td>\n",
       "      <td>348</td>\n",
       "      <td>29.0</td>\n",
       "      <td>41.0</td>\n",
       "      <td>53.0</td>\n",
       "      <td>12.0</td>\n",
       "    </tr>\n",
       "  </tbody>\n",
       "</table>\n",
       "</div>"
      ],
      "text/plain": [
       "       id_place  id_good  amount   pred  pred_nn  error\n",
       "19523       266      604   161.0  182.0    110.0   21.0\n",
       "19538       266      677    35.0   50.0     46.0   15.0\n",
       "19475       266      379    13.0   27.0     26.0   14.0\n",
       "8358        100      822    24.0   38.0     27.0   14.0\n",
       "14095       163      374    76.0   90.0     77.0   14.0\n",
       "19467       266      347   288.0  301.0    167.0   13.0\n",
       "19583       266      844    65.0   77.0     65.0   12.0\n",
       "27132       346      374    41.0   53.0     61.0   12.0\n",
       "6671         86      392    17.0   29.0     24.0   12.0\n",
       "28897       364      348    29.0   41.0     53.0   12.0"
      ]
     },
     "execution_count": 47,
     "metadata": {},
     "output_type": "execute_result"
    }
   ],
   "source": [
    "test_df.groupby(['id_place' ,'id_good'])[['amount' , 'pred' ,'pred_nn' ,'error']].sum().reset_index().sort_values(by = 'error' , ascending = False).head(10)\n"
   ]
  },
  {
   "cell_type": "code",
   "execution_count": 49,
   "metadata": {},
   "outputs": [
    {
     "data": {
      "application/vnd.plotly.v1+json": {
       "config": {
        "linkText": "Export to plot.ly",
        "plotlyServerURL": "https://plot.ly",
        "showLink": false
       },
       "data": [
        {
         "line": {
          "shape": "spline"
         },
         "name": "real revenue",
         "type": "scatter",
         "x": [
          "2019-06-03T00:00:00",
          "2019-06-04T00:00:00",
          "2019-06-05T00:00:00",
          "2019-06-06T00:00:00",
          "2019-06-07T00:00:00",
          "2019-06-10T00:00:00",
          "2019-06-11T00:00:00",
          "2019-06-13T00:00:00",
          "2019-06-14T00:00:00",
          "2019-06-17T00:00:00",
          "2019-06-18T00:00:00",
          "2019-06-19T00:00:00",
          "2019-06-20T00:00:00",
          "2019-06-21T00:00:00",
          "2019-06-24T00:00:00",
          "2019-06-25T00:00:00",
          "2019-06-26T00:00:00",
          "2019-06-27T00:00:00",
          "2019-06-28T00:00:00",
          "2019-07-01T00:00:00",
          "2019-07-02T00:00:00",
          "2019-07-03T00:00:00",
          "2019-07-04T00:00:00",
          "2019-07-05T00:00:00"
         ],
         "y": [
          6,
          1,
          5,
          4,
          3,
          2,
          1,
          3,
          3,
          4,
          4,
          7,
          2,
          5,
          1,
          2,
          5,
          4,
          4,
          2,
          3,
          1,
          2,
          2
         ]
        },
        {
         "line": {
          "shape": "spline"
         },
         "name": "pred revenue",
         "type": "scatter",
         "x": [
          "2019-06-03T00:00:00",
          "2019-06-04T00:00:00",
          "2019-06-05T00:00:00",
          "2019-06-06T00:00:00",
          "2019-06-07T00:00:00",
          "2019-06-10T00:00:00",
          "2019-06-11T00:00:00",
          "2019-06-13T00:00:00",
          "2019-06-14T00:00:00",
          "2019-06-17T00:00:00",
          "2019-06-18T00:00:00",
          "2019-06-19T00:00:00",
          "2019-06-20T00:00:00",
          "2019-06-21T00:00:00",
          "2019-06-24T00:00:00",
          "2019-06-25T00:00:00",
          "2019-06-26T00:00:00",
          "2019-06-27T00:00:00",
          "2019-06-28T00:00:00",
          "2019-07-01T00:00:00",
          "2019-07-02T00:00:00",
          "2019-07-03T00:00:00",
          "2019-07-04T00:00:00",
          "2019-07-05T00:00:00"
         ],
         "y": [
          4,
          6,
          5,
          5,
          5,
          4,
          3,
          3,
          3,
          3,
          4,
          4,
          4,
          4,
          4,
          3,
          3,
          4,
          4,
          4,
          3,
          3,
          2,
          3
         ]
        },
        {
         "line": {
          "shape": "spline"
         },
         "name": "pred revenue",
         "type": "scatter",
         "x": [
          "2019-06-03T00:00:00",
          "2019-06-04T00:00:00",
          "2019-06-05T00:00:00",
          "2019-06-06T00:00:00",
          "2019-06-07T00:00:00",
          "2019-06-10T00:00:00",
          "2019-06-11T00:00:00",
          "2019-06-13T00:00:00",
          "2019-06-14T00:00:00",
          "2019-06-17T00:00:00",
          "2019-06-18T00:00:00",
          "2019-06-19T00:00:00",
          "2019-06-20T00:00:00",
          "2019-06-21T00:00:00",
          "2019-06-24T00:00:00",
          "2019-06-25T00:00:00",
          "2019-06-26T00:00:00",
          "2019-06-27T00:00:00",
          "2019-06-28T00:00:00",
          "2019-07-01T00:00:00",
          "2019-07-02T00:00:00",
          "2019-07-03T00:00:00",
          "2019-07-04T00:00:00",
          "2019-07-05T00:00:00"
         ],
         "y": [
          4,
          4,
          3,
          4,
          3,
          3,
          3,
          3,
          3,
          3,
          3,
          3,
          4,
          3,
          4,
          3,
          3,
          4,
          3,
          3,
          3,
          3,
          3,
          2
         ]
        }
       ],
       "layout": {
        "template": {
         "data": {
          "bar": [
           {
            "error_x": {
             "color": "#2a3f5f"
            },
            "error_y": {
             "color": "#2a3f5f"
            },
            "marker": {
             "line": {
              "color": "#E5ECF6",
              "width": 0.5
             }
            },
            "type": "bar"
           }
          ],
          "barpolar": [
           {
            "marker": {
             "line": {
              "color": "#E5ECF6",
              "width": 0.5
             }
            },
            "type": "barpolar"
           }
          ],
          "carpet": [
           {
            "aaxis": {
             "endlinecolor": "#2a3f5f",
             "gridcolor": "white",
             "linecolor": "white",
             "minorgridcolor": "white",
             "startlinecolor": "#2a3f5f"
            },
            "baxis": {
             "endlinecolor": "#2a3f5f",
             "gridcolor": "white",
             "linecolor": "white",
             "minorgridcolor": "white",
             "startlinecolor": "#2a3f5f"
            },
            "type": "carpet"
           }
          ],
          "choropleth": [
           {
            "colorbar": {
             "outlinewidth": 0,
             "ticks": ""
            },
            "type": "choropleth"
           }
          ],
          "contour": [
           {
            "colorbar": {
             "outlinewidth": 0,
             "ticks": ""
            },
            "colorscale": [
             [
              0,
              "#0d0887"
             ],
             [
              0.1111111111111111,
              "#46039f"
             ],
             [
              0.2222222222222222,
              "#7201a8"
             ],
             [
              0.3333333333333333,
              "#9c179e"
             ],
             [
              0.4444444444444444,
              "#bd3786"
             ],
             [
              0.5555555555555556,
              "#d8576b"
             ],
             [
              0.6666666666666666,
              "#ed7953"
             ],
             [
              0.7777777777777778,
              "#fb9f3a"
             ],
             [
              0.8888888888888888,
              "#fdca26"
             ],
             [
              1,
              "#f0f921"
             ]
            ],
            "type": "contour"
           }
          ],
          "contourcarpet": [
           {
            "colorbar": {
             "outlinewidth": 0,
             "ticks": ""
            },
            "type": "contourcarpet"
           }
          ],
          "heatmap": [
           {
            "colorbar": {
             "outlinewidth": 0,
             "ticks": ""
            },
            "colorscale": [
             [
              0,
              "#0d0887"
             ],
             [
              0.1111111111111111,
              "#46039f"
             ],
             [
              0.2222222222222222,
              "#7201a8"
             ],
             [
              0.3333333333333333,
              "#9c179e"
             ],
             [
              0.4444444444444444,
              "#bd3786"
             ],
             [
              0.5555555555555556,
              "#d8576b"
             ],
             [
              0.6666666666666666,
              "#ed7953"
             ],
             [
              0.7777777777777778,
              "#fb9f3a"
             ],
             [
              0.8888888888888888,
              "#fdca26"
             ],
             [
              1,
              "#f0f921"
             ]
            ],
            "type": "heatmap"
           }
          ],
          "heatmapgl": [
           {
            "colorbar": {
             "outlinewidth": 0,
             "ticks": ""
            },
            "colorscale": [
             [
              0,
              "#0d0887"
             ],
             [
              0.1111111111111111,
              "#46039f"
             ],
             [
              0.2222222222222222,
              "#7201a8"
             ],
             [
              0.3333333333333333,
              "#9c179e"
             ],
             [
              0.4444444444444444,
              "#bd3786"
             ],
             [
              0.5555555555555556,
              "#d8576b"
             ],
             [
              0.6666666666666666,
              "#ed7953"
             ],
             [
              0.7777777777777778,
              "#fb9f3a"
             ],
             [
              0.8888888888888888,
              "#fdca26"
             ],
             [
              1,
              "#f0f921"
             ]
            ],
            "type": "heatmapgl"
           }
          ],
          "histogram": [
           {
            "marker": {
             "colorbar": {
              "outlinewidth": 0,
              "ticks": ""
             }
            },
            "type": "histogram"
           }
          ],
          "histogram2d": [
           {
            "colorbar": {
             "outlinewidth": 0,
             "ticks": ""
            },
            "colorscale": [
             [
              0,
              "#0d0887"
             ],
             [
              0.1111111111111111,
              "#46039f"
             ],
             [
              0.2222222222222222,
              "#7201a8"
             ],
             [
              0.3333333333333333,
              "#9c179e"
             ],
             [
              0.4444444444444444,
              "#bd3786"
             ],
             [
              0.5555555555555556,
              "#d8576b"
             ],
             [
              0.6666666666666666,
              "#ed7953"
             ],
             [
              0.7777777777777778,
              "#fb9f3a"
             ],
             [
              0.8888888888888888,
              "#fdca26"
             ],
             [
              1,
              "#f0f921"
             ]
            ],
            "type": "histogram2d"
           }
          ],
          "histogram2dcontour": [
           {
            "colorbar": {
             "outlinewidth": 0,
             "ticks": ""
            },
            "colorscale": [
             [
              0,
              "#0d0887"
             ],
             [
              0.1111111111111111,
              "#46039f"
             ],
             [
              0.2222222222222222,
              "#7201a8"
             ],
             [
              0.3333333333333333,
              "#9c179e"
             ],
             [
              0.4444444444444444,
              "#bd3786"
             ],
             [
              0.5555555555555556,
              "#d8576b"
             ],
             [
              0.6666666666666666,
              "#ed7953"
             ],
             [
              0.7777777777777778,
              "#fb9f3a"
             ],
             [
              0.8888888888888888,
              "#fdca26"
             ],
             [
              1,
              "#f0f921"
             ]
            ],
            "type": "histogram2dcontour"
           }
          ],
          "mesh3d": [
           {
            "colorbar": {
             "outlinewidth": 0,
             "ticks": ""
            },
            "type": "mesh3d"
           }
          ],
          "parcoords": [
           {
            "line": {
             "colorbar": {
              "outlinewidth": 0,
              "ticks": ""
             }
            },
            "type": "parcoords"
           }
          ],
          "scatter": [
           {
            "marker": {
             "colorbar": {
              "outlinewidth": 0,
              "ticks": ""
             }
            },
            "type": "scatter"
           }
          ],
          "scatter3d": [
           {
            "line": {
             "colorbar": {
              "outlinewidth": 0,
              "ticks": ""
             }
            },
            "marker": {
             "colorbar": {
              "outlinewidth": 0,
              "ticks": ""
             }
            },
            "type": "scatter3d"
           }
          ],
          "scattercarpet": [
           {
            "marker": {
             "colorbar": {
              "outlinewidth": 0,
              "ticks": ""
             }
            },
            "type": "scattercarpet"
           }
          ],
          "scattergeo": [
           {
            "marker": {
             "colorbar": {
              "outlinewidth": 0,
              "ticks": ""
             }
            },
            "type": "scattergeo"
           }
          ],
          "scattergl": [
           {
            "marker": {
             "colorbar": {
              "outlinewidth": 0,
              "ticks": ""
             }
            },
            "type": "scattergl"
           }
          ],
          "scattermapbox": [
           {
            "marker": {
             "colorbar": {
              "outlinewidth": 0,
              "ticks": ""
             }
            },
            "type": "scattermapbox"
           }
          ],
          "scatterpolar": [
           {
            "marker": {
             "colorbar": {
              "outlinewidth": 0,
              "ticks": ""
             }
            },
            "type": "scatterpolar"
           }
          ],
          "scatterpolargl": [
           {
            "marker": {
             "colorbar": {
              "outlinewidth": 0,
              "ticks": ""
             }
            },
            "type": "scatterpolargl"
           }
          ],
          "scatterternary": [
           {
            "marker": {
             "colorbar": {
              "outlinewidth": 0,
              "ticks": ""
             }
            },
            "type": "scatterternary"
           }
          ],
          "surface": [
           {
            "colorbar": {
             "outlinewidth": 0,
             "ticks": ""
            },
            "colorscale": [
             [
              0,
              "#0d0887"
             ],
             [
              0.1111111111111111,
              "#46039f"
             ],
             [
              0.2222222222222222,
              "#7201a8"
             ],
             [
              0.3333333333333333,
              "#9c179e"
             ],
             [
              0.4444444444444444,
              "#bd3786"
             ],
             [
              0.5555555555555556,
              "#d8576b"
             ],
             [
              0.6666666666666666,
              "#ed7953"
             ],
             [
              0.7777777777777778,
              "#fb9f3a"
             ],
             [
              0.8888888888888888,
              "#fdca26"
             ],
             [
              1,
              "#f0f921"
             ]
            ],
            "type": "surface"
           }
          ],
          "table": [
           {
            "cells": {
             "fill": {
              "color": "#EBF0F8"
             },
             "line": {
              "color": "white"
             }
            },
            "header": {
             "fill": {
              "color": "#C8D4E3"
             },
             "line": {
              "color": "white"
             }
            },
            "type": "table"
           }
          ]
         },
         "layout": {
          "annotationdefaults": {
           "arrowcolor": "#2a3f5f",
           "arrowhead": 0,
           "arrowwidth": 1
          },
          "colorscale": {
           "diverging": [
            [
             0,
             "#8e0152"
            ],
            [
             0.1,
             "#c51b7d"
            ],
            [
             0.2,
             "#de77ae"
            ],
            [
             0.3,
             "#f1b6da"
            ],
            [
             0.4,
             "#fde0ef"
            ],
            [
             0.5,
             "#f7f7f7"
            ],
            [
             0.6,
             "#e6f5d0"
            ],
            [
             0.7,
             "#b8e186"
            ],
            [
             0.8,
             "#7fbc41"
            ],
            [
             0.9,
             "#4d9221"
            ],
            [
             1,
             "#276419"
            ]
           ],
           "sequential": [
            [
             0,
             "#0d0887"
            ],
            [
             0.1111111111111111,
             "#46039f"
            ],
            [
             0.2222222222222222,
             "#7201a8"
            ],
            [
             0.3333333333333333,
             "#9c179e"
            ],
            [
             0.4444444444444444,
             "#bd3786"
            ],
            [
             0.5555555555555556,
             "#d8576b"
            ],
            [
             0.6666666666666666,
             "#ed7953"
            ],
            [
             0.7777777777777778,
             "#fb9f3a"
            ],
            [
             0.8888888888888888,
             "#fdca26"
            ],
            [
             1,
             "#f0f921"
            ]
           ],
           "sequentialminus": [
            [
             0,
             "#0d0887"
            ],
            [
             0.1111111111111111,
             "#46039f"
            ],
            [
             0.2222222222222222,
             "#7201a8"
            ],
            [
             0.3333333333333333,
             "#9c179e"
            ],
            [
             0.4444444444444444,
             "#bd3786"
            ],
            [
             0.5555555555555556,
             "#d8576b"
            ],
            [
             0.6666666666666666,
             "#ed7953"
            ],
            [
             0.7777777777777778,
             "#fb9f3a"
            ],
            [
             0.8888888888888888,
             "#fdca26"
            ],
            [
             1,
             "#f0f921"
            ]
           ]
          },
          "colorway": [
           "#636efa",
           "#EF553B",
           "#00cc96",
           "#ab63fa",
           "#FFA15A",
           "#19d3f3",
           "#FF6692",
           "#B6E880",
           "#FF97FF",
           "#FECB52"
          ],
          "font": {
           "color": "#2a3f5f"
          },
          "geo": {
           "bgcolor": "white",
           "lakecolor": "white",
           "landcolor": "#E5ECF6",
           "showlakes": true,
           "showland": true,
           "subunitcolor": "white"
          },
          "hoverlabel": {
           "align": "left"
          },
          "hovermode": "closest",
          "mapbox": {
           "style": "light"
          },
          "paper_bgcolor": "white",
          "plot_bgcolor": "#E5ECF6",
          "polar": {
           "angularaxis": {
            "gridcolor": "white",
            "linecolor": "white",
            "ticks": ""
           },
           "bgcolor": "#E5ECF6",
           "radialaxis": {
            "gridcolor": "white",
            "linecolor": "white",
            "ticks": ""
           }
          },
          "scene": {
           "xaxis": {
            "backgroundcolor": "#E5ECF6",
            "gridcolor": "white",
            "gridwidth": 2,
            "linecolor": "white",
            "showbackground": true,
            "ticks": "",
            "zerolinecolor": "white"
           },
           "yaxis": {
            "backgroundcolor": "#E5ECF6",
            "gridcolor": "white",
            "gridwidth": 2,
            "linecolor": "white",
            "showbackground": true,
            "ticks": "",
            "zerolinecolor": "white"
           },
           "zaxis": {
            "backgroundcolor": "#E5ECF6",
            "gridcolor": "white",
            "gridwidth": 2,
            "linecolor": "white",
            "showbackground": true,
            "ticks": "",
            "zerolinecolor": "white"
           }
          },
          "shapedefaults": {
           "line": {
            "color": "#2a3f5f"
           }
          },
          "ternary": {
           "aaxis": {
            "gridcolor": "white",
            "linecolor": "white",
            "ticks": ""
           },
           "baxis": {
            "gridcolor": "white",
            "linecolor": "white",
            "ticks": ""
           },
           "bgcolor": "#E5ECF6",
           "caxis": {
            "gridcolor": "white",
            "linecolor": "white",
            "ticks": ""
           }
          },
          "title": {
           "x": 0.05
          },
          "xaxis": {
           "automargin": true,
           "gridcolor": "white",
           "linecolor": "white",
           "ticks": "",
           "zerolinecolor": "white",
           "zerolinewidth": 2
          },
          "yaxis": {
           "automargin": true,
           "gridcolor": "white",
           "linecolor": "white",
           "ticks": "",
           "zerolinecolor": "white",
           "zerolinewidth": 2
          }
         }
        }
       }
      },
      "text/html": [
       "<div>\n",
       "        \n",
       "        \n",
       "            <div id=\"269a2e24-12f4-443d-bba0-cf37816f82fb\" class=\"plotly-graph-div\" style=\"height:525px; width:100%;\"></div>\n",
       "            <script type=\"text/javascript\">\n",
       "                require([\"plotly\"], function(Plotly) {\n",
       "                    window.PLOTLYENV=window.PLOTLYENV || {};\n",
       "                    \n",
       "                if (document.getElementById(\"269a2e24-12f4-443d-bba0-cf37816f82fb\")) {\n",
       "                    Plotly.newPlot(\n",
       "                        '269a2e24-12f4-443d-bba0-cf37816f82fb',\n",
       "                        [{\"line\": {\"shape\": \"spline\"}, \"name\": \"real revenue\", \"type\": \"scatter\", \"x\": [\"2019-06-03T00:00:00\", \"2019-06-04T00:00:00\", \"2019-06-05T00:00:00\", \"2019-06-06T00:00:00\", \"2019-06-07T00:00:00\", \"2019-06-10T00:00:00\", \"2019-06-11T00:00:00\", \"2019-06-13T00:00:00\", \"2019-06-14T00:00:00\", \"2019-06-17T00:00:00\", \"2019-06-18T00:00:00\", \"2019-06-19T00:00:00\", \"2019-06-20T00:00:00\", \"2019-06-21T00:00:00\", \"2019-06-24T00:00:00\", \"2019-06-25T00:00:00\", \"2019-06-26T00:00:00\", \"2019-06-27T00:00:00\", \"2019-06-28T00:00:00\", \"2019-07-01T00:00:00\", \"2019-07-02T00:00:00\", \"2019-07-03T00:00:00\", \"2019-07-04T00:00:00\", \"2019-07-05T00:00:00\"], \"y\": [6.0, 1.0, 5.0, 4.0, 3.0, 2.0, 1.0, 3.0, 3.0, 4.0, 4.0, 7.0, 2.0, 5.0, 1.0, 2.0, 5.0, 4.0, 4.0, 2.0, 3.0, 1.0, 2.0, 2.0]}, {\"line\": {\"shape\": \"spline\"}, \"name\": \"pred revenue\", \"type\": \"scatter\", \"x\": [\"2019-06-03T00:00:00\", \"2019-06-04T00:00:00\", \"2019-06-05T00:00:00\", \"2019-06-06T00:00:00\", \"2019-06-07T00:00:00\", \"2019-06-10T00:00:00\", \"2019-06-11T00:00:00\", \"2019-06-13T00:00:00\", \"2019-06-14T00:00:00\", \"2019-06-17T00:00:00\", \"2019-06-18T00:00:00\", \"2019-06-19T00:00:00\", \"2019-06-20T00:00:00\", \"2019-06-21T00:00:00\", \"2019-06-24T00:00:00\", \"2019-06-25T00:00:00\", \"2019-06-26T00:00:00\", \"2019-06-27T00:00:00\", \"2019-06-28T00:00:00\", \"2019-07-01T00:00:00\", \"2019-07-02T00:00:00\", \"2019-07-03T00:00:00\", \"2019-07-04T00:00:00\", \"2019-07-05T00:00:00\"], \"y\": [4.0, 6.0, 5.0, 5.0, 5.0, 4.0, 3.0, 3.0, 3.0, 3.0, 4.0, 4.0, 4.0, 4.0, 4.0, 3.0, 3.0, 4.0, 4.0, 4.0, 3.0, 3.0, 2.0, 3.0]}, {\"line\": {\"shape\": \"spline\"}, \"name\": \"pred revenue\", \"type\": \"scatter\", \"x\": [\"2019-06-03T00:00:00\", \"2019-06-04T00:00:00\", \"2019-06-05T00:00:00\", \"2019-06-06T00:00:00\", \"2019-06-07T00:00:00\", \"2019-06-10T00:00:00\", \"2019-06-11T00:00:00\", \"2019-06-13T00:00:00\", \"2019-06-14T00:00:00\", \"2019-06-17T00:00:00\", \"2019-06-18T00:00:00\", \"2019-06-19T00:00:00\", \"2019-06-20T00:00:00\", \"2019-06-21T00:00:00\", \"2019-06-24T00:00:00\", \"2019-06-25T00:00:00\", \"2019-06-26T00:00:00\", \"2019-06-27T00:00:00\", \"2019-06-28T00:00:00\", \"2019-07-01T00:00:00\", \"2019-07-02T00:00:00\", \"2019-07-03T00:00:00\", \"2019-07-04T00:00:00\", \"2019-07-05T00:00:00\"], \"y\": [4.0, 4.0, 3.0, 4.0, 3.0, 3.0, 3.0, 3.0, 3.0, 3.0, 3.0, 3.0, 4.0, 3.0, 4.0, 3.0, 3.0, 4.0, 3.0, 3.0, 3.0, 3.0, 3.0, 2.0]}],\n",
       "                        {\"template\": {\"data\": {\"bar\": [{\"error_x\": {\"color\": \"#2a3f5f\"}, \"error_y\": {\"color\": \"#2a3f5f\"}, \"marker\": {\"line\": {\"color\": \"#E5ECF6\", \"width\": 0.5}}, \"type\": \"bar\"}], \"barpolar\": [{\"marker\": {\"line\": {\"color\": \"#E5ECF6\", \"width\": 0.5}}, \"type\": \"barpolar\"}], \"carpet\": [{\"aaxis\": {\"endlinecolor\": \"#2a3f5f\", \"gridcolor\": \"white\", \"linecolor\": \"white\", \"minorgridcolor\": \"white\", \"startlinecolor\": \"#2a3f5f\"}, \"baxis\": {\"endlinecolor\": \"#2a3f5f\", \"gridcolor\": \"white\", \"linecolor\": \"white\", \"minorgridcolor\": \"white\", \"startlinecolor\": \"#2a3f5f\"}, \"type\": \"carpet\"}], \"choropleth\": [{\"colorbar\": {\"outlinewidth\": 0, \"ticks\": \"\"}, \"type\": \"choropleth\"}], \"contour\": [{\"colorbar\": {\"outlinewidth\": 0, \"ticks\": \"\"}, \"colorscale\": [[0.0, \"#0d0887\"], [0.1111111111111111, \"#46039f\"], [0.2222222222222222, \"#7201a8\"], [0.3333333333333333, \"#9c179e\"], [0.4444444444444444, \"#bd3786\"], [0.5555555555555556, \"#d8576b\"], [0.6666666666666666, \"#ed7953\"], [0.7777777777777778, \"#fb9f3a\"], [0.8888888888888888, \"#fdca26\"], [1.0, \"#f0f921\"]], \"type\": \"contour\"}], \"contourcarpet\": [{\"colorbar\": {\"outlinewidth\": 0, \"ticks\": \"\"}, \"type\": \"contourcarpet\"}], \"heatmap\": [{\"colorbar\": {\"outlinewidth\": 0, \"ticks\": \"\"}, \"colorscale\": [[0.0, \"#0d0887\"], [0.1111111111111111, \"#46039f\"], [0.2222222222222222, \"#7201a8\"], [0.3333333333333333, \"#9c179e\"], [0.4444444444444444, \"#bd3786\"], [0.5555555555555556, \"#d8576b\"], [0.6666666666666666, \"#ed7953\"], [0.7777777777777778, \"#fb9f3a\"], [0.8888888888888888, \"#fdca26\"], [1.0, \"#f0f921\"]], \"type\": \"heatmap\"}], \"heatmapgl\": [{\"colorbar\": {\"outlinewidth\": 0, \"ticks\": \"\"}, \"colorscale\": [[0.0, \"#0d0887\"], [0.1111111111111111, \"#46039f\"], [0.2222222222222222, \"#7201a8\"], [0.3333333333333333, \"#9c179e\"], [0.4444444444444444, \"#bd3786\"], [0.5555555555555556, \"#d8576b\"], [0.6666666666666666, \"#ed7953\"], [0.7777777777777778, \"#fb9f3a\"], [0.8888888888888888, \"#fdca26\"], [1.0, \"#f0f921\"]], \"type\": \"heatmapgl\"}], \"histogram\": [{\"marker\": {\"colorbar\": {\"outlinewidth\": 0, \"ticks\": \"\"}}, \"type\": \"histogram\"}], \"histogram2d\": [{\"colorbar\": {\"outlinewidth\": 0, \"ticks\": \"\"}, \"colorscale\": [[0.0, \"#0d0887\"], [0.1111111111111111, \"#46039f\"], [0.2222222222222222, \"#7201a8\"], [0.3333333333333333, \"#9c179e\"], [0.4444444444444444, \"#bd3786\"], [0.5555555555555556, \"#d8576b\"], [0.6666666666666666, \"#ed7953\"], [0.7777777777777778, \"#fb9f3a\"], [0.8888888888888888, \"#fdca26\"], [1.0, \"#f0f921\"]], \"type\": \"histogram2d\"}], \"histogram2dcontour\": [{\"colorbar\": {\"outlinewidth\": 0, \"ticks\": \"\"}, \"colorscale\": [[0.0, \"#0d0887\"], [0.1111111111111111, \"#46039f\"], [0.2222222222222222, \"#7201a8\"], [0.3333333333333333, \"#9c179e\"], [0.4444444444444444, \"#bd3786\"], [0.5555555555555556, \"#d8576b\"], [0.6666666666666666, \"#ed7953\"], [0.7777777777777778, \"#fb9f3a\"], [0.8888888888888888, \"#fdca26\"], [1.0, \"#f0f921\"]], \"type\": \"histogram2dcontour\"}], \"mesh3d\": [{\"colorbar\": {\"outlinewidth\": 0, \"ticks\": \"\"}, \"type\": \"mesh3d\"}], \"parcoords\": [{\"line\": {\"colorbar\": {\"outlinewidth\": 0, \"ticks\": \"\"}}, \"type\": \"parcoords\"}], \"scatter\": [{\"marker\": {\"colorbar\": {\"outlinewidth\": 0, \"ticks\": \"\"}}, \"type\": \"scatter\"}], \"scatter3d\": [{\"line\": {\"colorbar\": {\"outlinewidth\": 0, \"ticks\": \"\"}}, \"marker\": {\"colorbar\": {\"outlinewidth\": 0, \"ticks\": \"\"}}, \"type\": \"scatter3d\"}], \"scattercarpet\": [{\"marker\": {\"colorbar\": {\"outlinewidth\": 0, \"ticks\": \"\"}}, \"type\": \"scattercarpet\"}], \"scattergeo\": [{\"marker\": {\"colorbar\": {\"outlinewidth\": 0, \"ticks\": \"\"}}, \"type\": \"scattergeo\"}], \"scattergl\": [{\"marker\": {\"colorbar\": {\"outlinewidth\": 0, \"ticks\": \"\"}}, \"type\": \"scattergl\"}], \"scattermapbox\": [{\"marker\": {\"colorbar\": {\"outlinewidth\": 0, \"ticks\": \"\"}}, \"type\": \"scattermapbox\"}], \"scatterpolar\": [{\"marker\": {\"colorbar\": {\"outlinewidth\": 0, \"ticks\": \"\"}}, \"type\": \"scatterpolar\"}], \"scatterpolargl\": [{\"marker\": {\"colorbar\": {\"outlinewidth\": 0, \"ticks\": \"\"}}, \"type\": \"scatterpolargl\"}], \"scatterternary\": [{\"marker\": {\"colorbar\": {\"outlinewidth\": 0, \"ticks\": \"\"}}, \"type\": \"scatterternary\"}], \"surface\": [{\"colorbar\": {\"outlinewidth\": 0, \"ticks\": \"\"}, \"colorscale\": [[0.0, \"#0d0887\"], [0.1111111111111111, \"#46039f\"], [0.2222222222222222, \"#7201a8\"], [0.3333333333333333, \"#9c179e\"], [0.4444444444444444, \"#bd3786\"], [0.5555555555555556, \"#d8576b\"], [0.6666666666666666, \"#ed7953\"], [0.7777777777777778, \"#fb9f3a\"], [0.8888888888888888, \"#fdca26\"], [1.0, \"#f0f921\"]], \"type\": \"surface\"}], \"table\": [{\"cells\": {\"fill\": {\"color\": \"#EBF0F8\"}, \"line\": {\"color\": \"white\"}}, \"header\": {\"fill\": {\"color\": \"#C8D4E3\"}, \"line\": {\"color\": \"white\"}}, \"type\": \"table\"}]}, \"layout\": {\"annotationdefaults\": {\"arrowcolor\": \"#2a3f5f\", \"arrowhead\": 0, \"arrowwidth\": 1}, \"colorscale\": {\"diverging\": [[0, \"#8e0152\"], [0.1, \"#c51b7d\"], [0.2, \"#de77ae\"], [0.3, \"#f1b6da\"], [0.4, \"#fde0ef\"], [0.5, \"#f7f7f7\"], [0.6, \"#e6f5d0\"], [0.7, \"#b8e186\"], [0.8, \"#7fbc41\"], [0.9, \"#4d9221\"], [1, \"#276419\"]], \"sequential\": [[0.0, \"#0d0887\"], [0.1111111111111111, \"#46039f\"], [0.2222222222222222, \"#7201a8\"], [0.3333333333333333, \"#9c179e\"], [0.4444444444444444, \"#bd3786\"], [0.5555555555555556, \"#d8576b\"], [0.6666666666666666, \"#ed7953\"], [0.7777777777777778, \"#fb9f3a\"], [0.8888888888888888, \"#fdca26\"], [1.0, \"#f0f921\"]], \"sequentialminus\": [[0.0, \"#0d0887\"], [0.1111111111111111, \"#46039f\"], [0.2222222222222222, \"#7201a8\"], [0.3333333333333333, \"#9c179e\"], [0.4444444444444444, \"#bd3786\"], [0.5555555555555556, \"#d8576b\"], [0.6666666666666666, \"#ed7953\"], [0.7777777777777778, \"#fb9f3a\"], [0.8888888888888888, \"#fdca26\"], [1.0, \"#f0f921\"]]}, \"colorway\": [\"#636efa\", \"#EF553B\", \"#00cc96\", \"#ab63fa\", \"#FFA15A\", \"#19d3f3\", \"#FF6692\", \"#B6E880\", \"#FF97FF\", \"#FECB52\"], \"font\": {\"color\": \"#2a3f5f\"}, \"geo\": {\"bgcolor\": \"white\", \"lakecolor\": \"white\", \"landcolor\": \"#E5ECF6\", \"showlakes\": true, \"showland\": true, \"subunitcolor\": \"white\"}, \"hoverlabel\": {\"align\": \"left\"}, \"hovermode\": \"closest\", \"mapbox\": {\"style\": \"light\"}, \"paper_bgcolor\": \"white\", \"plot_bgcolor\": \"#E5ECF6\", \"polar\": {\"angularaxis\": {\"gridcolor\": \"white\", \"linecolor\": \"white\", \"ticks\": \"\"}, \"bgcolor\": \"#E5ECF6\", \"radialaxis\": {\"gridcolor\": \"white\", \"linecolor\": \"white\", \"ticks\": \"\"}}, \"scene\": {\"xaxis\": {\"backgroundcolor\": \"#E5ECF6\", \"gridcolor\": \"white\", \"gridwidth\": 2, \"linecolor\": \"white\", \"showbackground\": true, \"ticks\": \"\", \"zerolinecolor\": \"white\"}, \"yaxis\": {\"backgroundcolor\": \"#E5ECF6\", \"gridcolor\": \"white\", \"gridwidth\": 2, \"linecolor\": \"white\", \"showbackground\": true, \"ticks\": \"\", \"zerolinecolor\": \"white\"}, \"zaxis\": {\"backgroundcolor\": \"#E5ECF6\", \"gridcolor\": \"white\", \"gridwidth\": 2, \"linecolor\": \"white\", \"showbackground\": true, \"ticks\": \"\", \"zerolinecolor\": \"white\"}}, \"shapedefaults\": {\"line\": {\"color\": \"#2a3f5f\"}}, \"ternary\": {\"aaxis\": {\"gridcolor\": \"white\", \"linecolor\": \"white\", \"ticks\": \"\"}, \"baxis\": {\"gridcolor\": \"white\", \"linecolor\": \"white\", \"ticks\": \"\"}, \"bgcolor\": \"#E5ECF6\", \"caxis\": {\"gridcolor\": \"white\", \"linecolor\": \"white\", \"ticks\": \"\"}}, \"title\": {\"x\": 0.05}, \"xaxis\": {\"automargin\": true, \"gridcolor\": \"white\", \"linecolor\": \"white\", \"ticks\": \"\", \"zerolinecolor\": \"white\", \"zerolinewidth\": 2}, \"yaxis\": {\"automargin\": true, \"gridcolor\": \"white\", \"linecolor\": \"white\", \"ticks\": \"\", \"zerolinecolor\": \"white\", \"zerolinewidth\": 2}}}},\n",
       "                        {\"responsive\": true}\n",
       "                    ).then(function(){\n",
       "                            \n",
       "var gd = document.getElementById('269a2e24-12f4-443d-bba0-cf37816f82fb');\n",
       "var x = new MutationObserver(function (mutations, observer) {{\n",
       "        var display = window.getComputedStyle(gd).display;\n",
       "        if (!display || display === 'none') {{\n",
       "            console.log([gd, 'removed!']);\n",
       "            Plotly.purge(gd);\n",
       "            observer.disconnect();\n",
       "        }}\n",
       "}});\n",
       "\n",
       "// Listen for the removal of the full notebook cells\n",
       "var notebookContainer = gd.closest('#notebook-container');\n",
       "if (notebookContainer) {{\n",
       "    x.observe(notebookContainer, {childList: true});\n",
       "}}\n",
       "\n",
       "// Listen for the clearing of the current output cell\n",
       "var outputEl = gd.closest('.output');\n",
       "if (outputEl) {{\n",
       "    x.observe(outputEl, {childList: true});\n",
       "}}\n",
       "\n",
       "                        })\n",
       "                };\n",
       "                });\n",
       "            </script>\n",
       "        </div>"
      ]
     },
     "metadata": {},
     "output_type": "display_data"
    }
   ],
   "source": [
    "id_place = 163\n",
    "id_good = 374\n",
    "\n",
    "df_plot = test_df[(test_df.id_place == id_place)\n",
    "                 &(test_df.id_good == id_good)][:]\n",
    "\n",
    "\n",
    "    \n",
    "\n",
    "iplot([{\"x\": df_plot['date'], \"y\": df_plot['amount'] \n",
    "        , \"name\" :\"real revenue\" , \"line_shape\":'spline'}\n",
    "      ,{\"x\": df_plot['date'], \"y\": df_plot['pred'] \n",
    "        , \"name\" :\"pred revenue\" , \"line_shape\":'spline'}\n",
    "       ,{\"x\": df_plot['date'], \"y\": df_plot['pred_nn'] \n",
    "        , \"name\" :\"pred revenue\" , \"line_shape\":'spline'}\n",
    "      ])"
   ]
  },
  {
   "cell_type": "code",
   "execution_count": 53,
   "metadata": {},
   "outputs": [],
   "source": [
    "max_date = str(pay_aggr_df['date'].max())[:10]\n",
    "\n",
    "date_past_2_weeks = str(datetime.datetime.strptime(max_date, '%Y-%m-%d') - datetime.timedelta(days=14))[:10]\n",
    "\n",
    "\n",
    "df_pred_template = pay_aggr_df[(pay_aggr_df['date'] >= date_past_2_weeks)].groupby([ 'id_good' , 'category_id' , 'id_place'])[['count']].min().reset_index()\n",
    "df_pred_template['count'] = np.nan\n"
   ]
  },
  {
   "cell_type": "code",
   "execution_count": 57,
   "metadata": {},
   "outputs": [
    {
     "name": "stdout",
     "output_type": "stream",
     "text": [
      "0\n",
      "1\n",
      "2\n",
      "3\n",
      "4\n",
      "5\n",
      "6\n",
      "7\n",
      "8\n",
      "9\n",
      "10\n",
      "11\n",
      "12\n",
      "13\n",
      "14\n",
      "15\n",
      "16\n",
      "17\n",
      "18\n",
      "19\n",
      "20\n",
      "21\n",
      "22\n",
      "23\n",
      "24\n",
      "25\n",
      "26\n",
      "27\n",
      "28\n",
      "29\n",
      "0\n",
      "1\n",
      "2\n",
      "3\n",
      "4\n",
      "5\n",
      "6\n",
      "7\n",
      "8\n",
      "9\n",
      "10\n",
      "11\n",
      "12\n",
      "13\n",
      "14\n",
      "15\n",
      "16\n",
      "17\n",
      "18\n",
      "19\n",
      "20\n",
      "21\n",
      "22\n",
      "23\n",
      "24\n",
      "25\n",
      "26\n",
      "27\n",
      "28\n",
      "29\n",
      "0\n",
      "1\n",
      "2\n",
      "3\n",
      "4\n",
      "5\n",
      "6\n",
      "7\n",
      "8\n",
      "9\n",
      "10\n",
      "11\n",
      "12\n",
      "13\n",
      "14\n",
      "15\n",
      "16\n",
      "17\n",
      "18\n",
      "19\n",
      "20\n",
      "21\n",
      "22\n",
      "23\n",
      "24\n",
      "25\n",
      "26\n",
      "27\n",
      "28\n",
      "29\n",
      "0\n",
      "1\n",
      "2\n",
      "3\n",
      "4\n",
      "5\n",
      "6\n",
      "7\n",
      "8\n",
      "9\n",
      "10\n",
      "11\n",
      "12\n",
      "13\n",
      "14\n",
      "15\n",
      "16\n",
      "17\n",
      "18\n",
      "19\n",
      "20\n",
      "21\n",
      "22\n",
      "23\n",
      "24\n",
      "25\n",
      "26\n",
      "27\n",
      "28\n",
      "29\n",
      "0\n",
      "1\n",
      "2\n",
      "3\n",
      "4\n",
      "5\n",
      "6\n",
      "7\n",
      "8\n",
      "9\n",
      "10\n",
      "11\n",
      "12\n",
      "13\n",
      "14\n",
      "15\n",
      "16\n",
      "17\n",
      "18\n",
      "19\n",
      "20\n",
      "21\n",
      "22\n",
      "23\n",
      "24\n",
      "25\n",
      "26\n",
      "27\n",
      "28\n",
      "29\n",
      "0\n",
      "1\n",
      "2\n",
      "3\n",
      "4\n",
      "5\n",
      "6\n",
      "7\n",
      "8\n",
      "9\n",
      "10\n",
      "11\n",
      "12\n",
      "13\n",
      "14\n",
      "15\n",
      "16\n",
      "17\n",
      "18\n",
      "19\n",
      "20\n",
      "21\n",
      "22\n",
      "23\n",
      "24\n",
      "25\n",
      "26\n",
      "27\n",
      "28\n",
      "29\n",
      "0\n",
      "1\n",
      "2\n",
      "3\n",
      "4\n",
      "5\n",
      "6\n",
      "7\n",
      "8\n",
      "9\n",
      "10\n",
      "11\n",
      "12\n",
      "13\n",
      "14\n",
      "15\n",
      "16\n",
      "17\n",
      "18\n",
      "19\n",
      "20\n",
      "21\n",
      "22\n",
      "23\n",
      "24\n",
      "25\n",
      "26\n",
      "27\n",
      "28\n",
      "29\n"
     ]
    }
   ],
   "source": [
    "cnt_next_days = 7\n",
    "\n",
    "for d in range(cnt_next_days):\n",
    "    df_pred_step = df_pred_template[:]\n",
    "    step_date = str(datetime.datetime.strptime(max_date, '%Y-%m-%d') + datetime.timedelta(days=1+d))[:10]\n",
    "    df_pred_step['date'] = step_date\n",
    "    df_pred_step['date'] = pd.to_datetime(df_pred_step['date'])\n",
    "    \n",
    "    frames = [pay_aggr_df[['date' ,'id_good' ,'category_id','id_place','count']], df_pred_step]\n",
    "    pay_aggr_df = pd.concat(frames).reset_index(drop = True)\n",
    "    pay_aggr_df['weekday'] = pay_aggr_df['date'].dt.weekday\n",
    "    pay_aggr_df = make_dummies(pay_aggr_df = pay_aggr_df)\n",
    "    pay_aggr_df = pay_aggr_df.sort_values(by = ['id_place','category_id','id_good','date'])[:]\n",
    "\n",
    "    locs = pay_aggr_df[(pay_aggr_df['count'].isnull())].index\n",
    "    \n",
    "    pay_aggr_df , prev_columns , pct_change_columns , pct_rename = add_prev_days(pay_aggr_df = pay_aggr_df , want_days_back = want_days_back , merge_prev_df = merge_prev_df)\n",
    "    pay_aggr_df , add_stats_columns = add_stats_info(pay_aggr_df = pay_aggr_df , want_days_back = want_days_back , prev_columns = prev_columns)\n",
    "    pay_aggr_df = add_aditional(pay_aggr_df = pay_aggr_df , prev_columns = prev_columns , pct_change_columns = pct_change_columns , pct_rename = pct_rename)\n",
    "    pay_aggr_df = clear_nulls(pay_aggr_df=pay_aggr_df)\n",
    "\n",
    "    cnt_predict = model.predict(pay_aggr_df.loc[locs][interest_columns])\n",
    "    \n",
    "    time.sleep(3)\n",
    "    \n",
    "    if len(locs) > 0:\n",
    "        pay_aggr_df.loc[locs , 'count'] = cnt_predict\n",
    "        \n",
    "    pay_aggr_df = pay_aggr_df[['date' ,'id_good' ,'category_id','id_place','count']][:]\n",
    "    "
   ]
  },
  {
   "cell_type": "code",
   "execution_count": 58,
   "metadata": {},
   "outputs": [],
   "source": [
    "pay_aggr_df.loc[: , 'count'] = 2 ** pay_aggr_df['count'] - 1\n",
    "pay_aggr_df['count'] = pay_aggr_df['count'].round(0)\n",
    "\n",
    "pay_aggr_df['count'] = pay_aggr_df['count'].astype(int)"
   ]
  },
  {
   "cell_type": "code",
   "execution_count": 64,
   "metadata": {},
   "outputs": [
    {
     "data": {
      "application/vnd.plotly.v1+json": {
       "config": {
        "linkText": "Export to plot.ly",
        "plotlyServerURL": "https://plot.ly",
        "showLink": false
       },
       "data": [
        {
         "line": {
          "shape": "spline"
         },
         "name": "pred revenue",
         "type": "scatter",
         "x": [
          "2019-06-11T00:00:00",
          "2019-06-13T00:00:00",
          "2019-06-14T00:00:00",
          "2019-06-17T00:00:00",
          "2019-06-18T00:00:00",
          "2019-06-19T00:00:00",
          "2019-06-20T00:00:00",
          "2019-06-21T00:00:00",
          "2019-06-24T00:00:00",
          "2019-06-25T00:00:00",
          "2019-06-26T00:00:00",
          "2019-06-27T00:00:00",
          "2019-06-28T00:00:00",
          "2019-07-01T00:00:00",
          "2019-07-02T00:00:00",
          "2019-07-03T00:00:00",
          "2019-07-04T00:00:00",
          "2019-07-05T00:00:00",
          "2019-07-08T00:00:00",
          "2019-07-08T00:00:00",
          "2019-07-09T00:00:00",
          "2019-07-10T00:00:00",
          "2019-07-11T00:00:00",
          "2019-07-12T00:00:00",
          "2019-07-13T00:00:00",
          "2019-07-14T00:00:00"
         ],
         "y": [
          1,
          3,
          3,
          4,
          4,
          7,
          2,
          5,
          1,
          2,
          5,
          4,
          4,
          2,
          3,
          1,
          2,
          2,
          3,
          2,
          3,
          3,
          3,
          3,
          1,
          1
         ]
        },
        {
         "line": {
          "shape": "spline"
         },
         "name": "real revenue",
         "type": "scatter",
         "x": [
          "2019-06-11T00:00:00",
          "2019-06-13T00:00:00",
          "2019-06-14T00:00:00",
          "2019-06-17T00:00:00",
          "2019-06-18T00:00:00",
          "2019-06-19T00:00:00",
          "2019-06-20T00:00:00",
          "2019-06-21T00:00:00",
          "2019-06-24T00:00:00",
          "2019-06-25T00:00:00",
          "2019-06-26T00:00:00",
          "2019-06-27T00:00:00",
          "2019-06-28T00:00:00",
          "2019-07-01T00:00:00",
          "2019-07-02T00:00:00",
          "2019-07-03T00:00:00",
          "2019-07-04T00:00:00",
          "2019-07-05T00:00:00"
         ],
         "y": [
          1,
          3,
          3,
          4,
          4,
          7,
          2,
          5,
          1,
          2,
          5,
          4,
          4,
          2,
          3,
          1,
          2,
          2
         ]
        }
       ],
       "layout": {
        "template": {
         "data": {
          "bar": [
           {
            "error_x": {
             "color": "#2a3f5f"
            },
            "error_y": {
             "color": "#2a3f5f"
            },
            "marker": {
             "line": {
              "color": "#E5ECF6",
              "width": 0.5
             }
            },
            "type": "bar"
           }
          ],
          "barpolar": [
           {
            "marker": {
             "line": {
              "color": "#E5ECF6",
              "width": 0.5
             }
            },
            "type": "barpolar"
           }
          ],
          "carpet": [
           {
            "aaxis": {
             "endlinecolor": "#2a3f5f",
             "gridcolor": "white",
             "linecolor": "white",
             "minorgridcolor": "white",
             "startlinecolor": "#2a3f5f"
            },
            "baxis": {
             "endlinecolor": "#2a3f5f",
             "gridcolor": "white",
             "linecolor": "white",
             "minorgridcolor": "white",
             "startlinecolor": "#2a3f5f"
            },
            "type": "carpet"
           }
          ],
          "choropleth": [
           {
            "colorbar": {
             "outlinewidth": 0,
             "ticks": ""
            },
            "type": "choropleth"
           }
          ],
          "contour": [
           {
            "colorbar": {
             "outlinewidth": 0,
             "ticks": ""
            },
            "colorscale": [
             [
              0,
              "#0d0887"
             ],
             [
              0.1111111111111111,
              "#46039f"
             ],
             [
              0.2222222222222222,
              "#7201a8"
             ],
             [
              0.3333333333333333,
              "#9c179e"
             ],
             [
              0.4444444444444444,
              "#bd3786"
             ],
             [
              0.5555555555555556,
              "#d8576b"
             ],
             [
              0.6666666666666666,
              "#ed7953"
             ],
             [
              0.7777777777777778,
              "#fb9f3a"
             ],
             [
              0.8888888888888888,
              "#fdca26"
             ],
             [
              1,
              "#f0f921"
             ]
            ],
            "type": "contour"
           }
          ],
          "contourcarpet": [
           {
            "colorbar": {
             "outlinewidth": 0,
             "ticks": ""
            },
            "type": "contourcarpet"
           }
          ],
          "heatmap": [
           {
            "colorbar": {
             "outlinewidth": 0,
             "ticks": ""
            },
            "colorscale": [
             [
              0,
              "#0d0887"
             ],
             [
              0.1111111111111111,
              "#46039f"
             ],
             [
              0.2222222222222222,
              "#7201a8"
             ],
             [
              0.3333333333333333,
              "#9c179e"
             ],
             [
              0.4444444444444444,
              "#bd3786"
             ],
             [
              0.5555555555555556,
              "#d8576b"
             ],
             [
              0.6666666666666666,
              "#ed7953"
             ],
             [
              0.7777777777777778,
              "#fb9f3a"
             ],
             [
              0.8888888888888888,
              "#fdca26"
             ],
             [
              1,
              "#f0f921"
             ]
            ],
            "type": "heatmap"
           }
          ],
          "heatmapgl": [
           {
            "colorbar": {
             "outlinewidth": 0,
             "ticks": ""
            },
            "colorscale": [
             [
              0,
              "#0d0887"
             ],
             [
              0.1111111111111111,
              "#46039f"
             ],
             [
              0.2222222222222222,
              "#7201a8"
             ],
             [
              0.3333333333333333,
              "#9c179e"
             ],
             [
              0.4444444444444444,
              "#bd3786"
             ],
             [
              0.5555555555555556,
              "#d8576b"
             ],
             [
              0.6666666666666666,
              "#ed7953"
             ],
             [
              0.7777777777777778,
              "#fb9f3a"
             ],
             [
              0.8888888888888888,
              "#fdca26"
             ],
             [
              1,
              "#f0f921"
             ]
            ],
            "type": "heatmapgl"
           }
          ],
          "histogram": [
           {
            "marker": {
             "colorbar": {
              "outlinewidth": 0,
              "ticks": ""
             }
            },
            "type": "histogram"
           }
          ],
          "histogram2d": [
           {
            "colorbar": {
             "outlinewidth": 0,
             "ticks": ""
            },
            "colorscale": [
             [
              0,
              "#0d0887"
             ],
             [
              0.1111111111111111,
              "#46039f"
             ],
             [
              0.2222222222222222,
              "#7201a8"
             ],
             [
              0.3333333333333333,
              "#9c179e"
             ],
             [
              0.4444444444444444,
              "#bd3786"
             ],
             [
              0.5555555555555556,
              "#d8576b"
             ],
             [
              0.6666666666666666,
              "#ed7953"
             ],
             [
              0.7777777777777778,
              "#fb9f3a"
             ],
             [
              0.8888888888888888,
              "#fdca26"
             ],
             [
              1,
              "#f0f921"
             ]
            ],
            "type": "histogram2d"
           }
          ],
          "histogram2dcontour": [
           {
            "colorbar": {
             "outlinewidth": 0,
             "ticks": ""
            },
            "colorscale": [
             [
              0,
              "#0d0887"
             ],
             [
              0.1111111111111111,
              "#46039f"
             ],
             [
              0.2222222222222222,
              "#7201a8"
             ],
             [
              0.3333333333333333,
              "#9c179e"
             ],
             [
              0.4444444444444444,
              "#bd3786"
             ],
             [
              0.5555555555555556,
              "#d8576b"
             ],
             [
              0.6666666666666666,
              "#ed7953"
             ],
             [
              0.7777777777777778,
              "#fb9f3a"
             ],
             [
              0.8888888888888888,
              "#fdca26"
             ],
             [
              1,
              "#f0f921"
             ]
            ],
            "type": "histogram2dcontour"
           }
          ],
          "mesh3d": [
           {
            "colorbar": {
             "outlinewidth": 0,
             "ticks": ""
            },
            "type": "mesh3d"
           }
          ],
          "parcoords": [
           {
            "line": {
             "colorbar": {
              "outlinewidth": 0,
              "ticks": ""
             }
            },
            "type": "parcoords"
           }
          ],
          "scatter": [
           {
            "marker": {
             "colorbar": {
              "outlinewidth": 0,
              "ticks": ""
             }
            },
            "type": "scatter"
           }
          ],
          "scatter3d": [
           {
            "line": {
             "colorbar": {
              "outlinewidth": 0,
              "ticks": ""
             }
            },
            "marker": {
             "colorbar": {
              "outlinewidth": 0,
              "ticks": ""
             }
            },
            "type": "scatter3d"
           }
          ],
          "scattercarpet": [
           {
            "marker": {
             "colorbar": {
              "outlinewidth": 0,
              "ticks": ""
             }
            },
            "type": "scattercarpet"
           }
          ],
          "scattergeo": [
           {
            "marker": {
             "colorbar": {
              "outlinewidth": 0,
              "ticks": ""
             }
            },
            "type": "scattergeo"
           }
          ],
          "scattergl": [
           {
            "marker": {
             "colorbar": {
              "outlinewidth": 0,
              "ticks": ""
             }
            },
            "type": "scattergl"
           }
          ],
          "scattermapbox": [
           {
            "marker": {
             "colorbar": {
              "outlinewidth": 0,
              "ticks": ""
             }
            },
            "type": "scattermapbox"
           }
          ],
          "scatterpolar": [
           {
            "marker": {
             "colorbar": {
              "outlinewidth": 0,
              "ticks": ""
             }
            },
            "type": "scatterpolar"
           }
          ],
          "scatterpolargl": [
           {
            "marker": {
             "colorbar": {
              "outlinewidth": 0,
              "ticks": ""
             }
            },
            "type": "scatterpolargl"
           }
          ],
          "scatterternary": [
           {
            "marker": {
             "colorbar": {
              "outlinewidth": 0,
              "ticks": ""
             }
            },
            "type": "scatterternary"
           }
          ],
          "surface": [
           {
            "colorbar": {
             "outlinewidth": 0,
             "ticks": ""
            },
            "colorscale": [
             [
              0,
              "#0d0887"
             ],
             [
              0.1111111111111111,
              "#46039f"
             ],
             [
              0.2222222222222222,
              "#7201a8"
             ],
             [
              0.3333333333333333,
              "#9c179e"
             ],
             [
              0.4444444444444444,
              "#bd3786"
             ],
             [
              0.5555555555555556,
              "#d8576b"
             ],
             [
              0.6666666666666666,
              "#ed7953"
             ],
             [
              0.7777777777777778,
              "#fb9f3a"
             ],
             [
              0.8888888888888888,
              "#fdca26"
             ],
             [
              1,
              "#f0f921"
             ]
            ],
            "type": "surface"
           }
          ],
          "table": [
           {
            "cells": {
             "fill": {
              "color": "#EBF0F8"
             },
             "line": {
              "color": "white"
             }
            },
            "header": {
             "fill": {
              "color": "#C8D4E3"
             },
             "line": {
              "color": "white"
             }
            },
            "type": "table"
           }
          ]
         },
         "layout": {
          "annotationdefaults": {
           "arrowcolor": "#2a3f5f",
           "arrowhead": 0,
           "arrowwidth": 1
          },
          "colorscale": {
           "diverging": [
            [
             0,
             "#8e0152"
            ],
            [
             0.1,
             "#c51b7d"
            ],
            [
             0.2,
             "#de77ae"
            ],
            [
             0.3,
             "#f1b6da"
            ],
            [
             0.4,
             "#fde0ef"
            ],
            [
             0.5,
             "#f7f7f7"
            ],
            [
             0.6,
             "#e6f5d0"
            ],
            [
             0.7,
             "#b8e186"
            ],
            [
             0.8,
             "#7fbc41"
            ],
            [
             0.9,
             "#4d9221"
            ],
            [
             1,
             "#276419"
            ]
           ],
           "sequential": [
            [
             0,
             "#0d0887"
            ],
            [
             0.1111111111111111,
             "#46039f"
            ],
            [
             0.2222222222222222,
             "#7201a8"
            ],
            [
             0.3333333333333333,
             "#9c179e"
            ],
            [
             0.4444444444444444,
             "#bd3786"
            ],
            [
             0.5555555555555556,
             "#d8576b"
            ],
            [
             0.6666666666666666,
             "#ed7953"
            ],
            [
             0.7777777777777778,
             "#fb9f3a"
            ],
            [
             0.8888888888888888,
             "#fdca26"
            ],
            [
             1,
             "#f0f921"
            ]
           ],
           "sequentialminus": [
            [
             0,
             "#0d0887"
            ],
            [
             0.1111111111111111,
             "#46039f"
            ],
            [
             0.2222222222222222,
             "#7201a8"
            ],
            [
             0.3333333333333333,
             "#9c179e"
            ],
            [
             0.4444444444444444,
             "#bd3786"
            ],
            [
             0.5555555555555556,
             "#d8576b"
            ],
            [
             0.6666666666666666,
             "#ed7953"
            ],
            [
             0.7777777777777778,
             "#fb9f3a"
            ],
            [
             0.8888888888888888,
             "#fdca26"
            ],
            [
             1,
             "#f0f921"
            ]
           ]
          },
          "colorway": [
           "#636efa",
           "#EF553B",
           "#00cc96",
           "#ab63fa",
           "#FFA15A",
           "#19d3f3",
           "#FF6692",
           "#B6E880",
           "#FF97FF",
           "#FECB52"
          ],
          "font": {
           "color": "#2a3f5f"
          },
          "geo": {
           "bgcolor": "white",
           "lakecolor": "white",
           "landcolor": "#E5ECF6",
           "showlakes": true,
           "showland": true,
           "subunitcolor": "white"
          },
          "hoverlabel": {
           "align": "left"
          },
          "hovermode": "closest",
          "mapbox": {
           "style": "light"
          },
          "paper_bgcolor": "white",
          "plot_bgcolor": "#E5ECF6",
          "polar": {
           "angularaxis": {
            "gridcolor": "white",
            "linecolor": "white",
            "ticks": ""
           },
           "bgcolor": "#E5ECF6",
           "radialaxis": {
            "gridcolor": "white",
            "linecolor": "white",
            "ticks": ""
           }
          },
          "scene": {
           "xaxis": {
            "backgroundcolor": "#E5ECF6",
            "gridcolor": "white",
            "gridwidth": 2,
            "linecolor": "white",
            "showbackground": true,
            "ticks": "",
            "zerolinecolor": "white"
           },
           "yaxis": {
            "backgroundcolor": "#E5ECF6",
            "gridcolor": "white",
            "gridwidth": 2,
            "linecolor": "white",
            "showbackground": true,
            "ticks": "",
            "zerolinecolor": "white"
           },
           "zaxis": {
            "backgroundcolor": "#E5ECF6",
            "gridcolor": "white",
            "gridwidth": 2,
            "linecolor": "white",
            "showbackground": true,
            "ticks": "",
            "zerolinecolor": "white"
           }
          },
          "shapedefaults": {
           "line": {
            "color": "#2a3f5f"
           }
          },
          "ternary": {
           "aaxis": {
            "gridcolor": "white",
            "linecolor": "white",
            "ticks": ""
           },
           "baxis": {
            "gridcolor": "white",
            "linecolor": "white",
            "ticks": ""
           },
           "bgcolor": "#E5ECF6",
           "caxis": {
            "gridcolor": "white",
            "linecolor": "white",
            "ticks": ""
           }
          },
          "title": {
           "x": 0.05
          },
          "xaxis": {
           "automargin": true,
           "gridcolor": "white",
           "linecolor": "white",
           "ticks": "",
           "zerolinecolor": "white",
           "zerolinewidth": 2
          },
          "yaxis": {
           "automargin": true,
           "gridcolor": "white",
           "linecolor": "white",
           "ticks": "",
           "zerolinecolor": "white",
           "zerolinewidth": 2
          }
         }
        }
       }
      },
      "text/html": [
       "<div>\n",
       "        \n",
       "        \n",
       "            <div id=\"dd9359f6-ed4a-4b35-a1b1-98e99fb9b9ee\" class=\"plotly-graph-div\" style=\"height:525px; width:100%;\"></div>\n",
       "            <script type=\"text/javascript\">\n",
       "                require([\"plotly\"], function(Plotly) {\n",
       "                    window.PLOTLYENV=window.PLOTLYENV || {};\n",
       "                    \n",
       "                if (document.getElementById(\"dd9359f6-ed4a-4b35-a1b1-98e99fb9b9ee\")) {\n",
       "                    Plotly.newPlot(\n",
       "                        'dd9359f6-ed4a-4b35-a1b1-98e99fb9b9ee',\n",
       "                        [{\"line\": {\"shape\": \"spline\"}, \"name\": \"pred revenue\", \"type\": \"scatter\", \"x\": [\"2019-06-11T00:00:00\", \"2019-06-13T00:00:00\", \"2019-06-14T00:00:00\", \"2019-06-17T00:00:00\", \"2019-06-18T00:00:00\", \"2019-06-19T00:00:00\", \"2019-06-20T00:00:00\", \"2019-06-21T00:00:00\", \"2019-06-24T00:00:00\", \"2019-06-25T00:00:00\", \"2019-06-26T00:00:00\", \"2019-06-27T00:00:00\", \"2019-06-28T00:00:00\", \"2019-07-01T00:00:00\", \"2019-07-02T00:00:00\", \"2019-07-03T00:00:00\", \"2019-07-04T00:00:00\", \"2019-07-05T00:00:00\", \"2019-07-08T00:00:00\", \"2019-07-08T00:00:00\", \"2019-07-09T00:00:00\", \"2019-07-10T00:00:00\", \"2019-07-11T00:00:00\", \"2019-07-12T00:00:00\", \"2019-07-13T00:00:00\", \"2019-07-14T00:00:00\"], \"y\": [1, 3, 3, 4, 4, 7, 2, 5, 1, 2, 5, 4, 4, 2, 3, 1, 2, 2, 3, 2, 3, 3, 3, 3, 1, 1]}, {\"line\": {\"shape\": \"spline\"}, \"name\": \"real revenue\", \"type\": \"scatter\", \"x\": [\"2019-06-11T00:00:00\", \"2019-06-13T00:00:00\", \"2019-06-14T00:00:00\", \"2019-06-17T00:00:00\", \"2019-06-18T00:00:00\", \"2019-06-19T00:00:00\", \"2019-06-20T00:00:00\", \"2019-06-21T00:00:00\", \"2019-06-24T00:00:00\", \"2019-06-25T00:00:00\", \"2019-06-26T00:00:00\", \"2019-06-27T00:00:00\", \"2019-06-28T00:00:00\", \"2019-07-01T00:00:00\", \"2019-07-02T00:00:00\", \"2019-07-03T00:00:00\", \"2019-07-04T00:00:00\", \"2019-07-05T00:00:00\"], \"y\": [1, 3, 3, 4, 4, 7, 2, 5, 1, 2, 5, 4, 4, 2, 3, 1, 2, 2]}],\n",
       "                        {\"template\": {\"data\": {\"bar\": [{\"error_x\": {\"color\": \"#2a3f5f\"}, \"error_y\": {\"color\": \"#2a3f5f\"}, \"marker\": {\"line\": {\"color\": \"#E5ECF6\", \"width\": 0.5}}, \"type\": \"bar\"}], \"barpolar\": [{\"marker\": {\"line\": {\"color\": \"#E5ECF6\", \"width\": 0.5}}, \"type\": \"barpolar\"}], \"carpet\": [{\"aaxis\": {\"endlinecolor\": \"#2a3f5f\", \"gridcolor\": \"white\", \"linecolor\": \"white\", \"minorgridcolor\": \"white\", \"startlinecolor\": \"#2a3f5f\"}, \"baxis\": {\"endlinecolor\": \"#2a3f5f\", \"gridcolor\": \"white\", \"linecolor\": \"white\", \"minorgridcolor\": \"white\", \"startlinecolor\": \"#2a3f5f\"}, \"type\": \"carpet\"}], \"choropleth\": [{\"colorbar\": {\"outlinewidth\": 0, \"ticks\": \"\"}, \"type\": \"choropleth\"}], \"contour\": [{\"colorbar\": {\"outlinewidth\": 0, \"ticks\": \"\"}, \"colorscale\": [[0.0, \"#0d0887\"], [0.1111111111111111, \"#46039f\"], [0.2222222222222222, \"#7201a8\"], [0.3333333333333333, \"#9c179e\"], [0.4444444444444444, \"#bd3786\"], [0.5555555555555556, \"#d8576b\"], [0.6666666666666666, \"#ed7953\"], [0.7777777777777778, \"#fb9f3a\"], [0.8888888888888888, \"#fdca26\"], [1.0, \"#f0f921\"]], \"type\": \"contour\"}], \"contourcarpet\": [{\"colorbar\": {\"outlinewidth\": 0, \"ticks\": \"\"}, \"type\": \"contourcarpet\"}], \"heatmap\": [{\"colorbar\": {\"outlinewidth\": 0, \"ticks\": \"\"}, \"colorscale\": [[0.0, \"#0d0887\"], [0.1111111111111111, \"#46039f\"], [0.2222222222222222, \"#7201a8\"], [0.3333333333333333, \"#9c179e\"], [0.4444444444444444, \"#bd3786\"], [0.5555555555555556, \"#d8576b\"], [0.6666666666666666, \"#ed7953\"], [0.7777777777777778, \"#fb9f3a\"], [0.8888888888888888, \"#fdca26\"], [1.0, \"#f0f921\"]], \"type\": \"heatmap\"}], \"heatmapgl\": [{\"colorbar\": {\"outlinewidth\": 0, \"ticks\": \"\"}, \"colorscale\": [[0.0, \"#0d0887\"], [0.1111111111111111, \"#46039f\"], [0.2222222222222222, \"#7201a8\"], [0.3333333333333333, \"#9c179e\"], [0.4444444444444444, \"#bd3786\"], [0.5555555555555556, \"#d8576b\"], [0.6666666666666666, \"#ed7953\"], [0.7777777777777778, \"#fb9f3a\"], [0.8888888888888888, \"#fdca26\"], [1.0, \"#f0f921\"]], \"type\": \"heatmapgl\"}], \"histogram\": [{\"marker\": {\"colorbar\": {\"outlinewidth\": 0, \"ticks\": \"\"}}, \"type\": \"histogram\"}], \"histogram2d\": [{\"colorbar\": {\"outlinewidth\": 0, \"ticks\": \"\"}, \"colorscale\": [[0.0, \"#0d0887\"], [0.1111111111111111, \"#46039f\"], [0.2222222222222222, \"#7201a8\"], [0.3333333333333333, \"#9c179e\"], [0.4444444444444444, \"#bd3786\"], [0.5555555555555556, \"#d8576b\"], [0.6666666666666666, \"#ed7953\"], [0.7777777777777778, \"#fb9f3a\"], [0.8888888888888888, \"#fdca26\"], [1.0, \"#f0f921\"]], \"type\": \"histogram2d\"}], \"histogram2dcontour\": [{\"colorbar\": {\"outlinewidth\": 0, \"ticks\": \"\"}, \"colorscale\": [[0.0, \"#0d0887\"], [0.1111111111111111, \"#46039f\"], [0.2222222222222222, \"#7201a8\"], [0.3333333333333333, \"#9c179e\"], [0.4444444444444444, \"#bd3786\"], [0.5555555555555556, \"#d8576b\"], [0.6666666666666666, \"#ed7953\"], [0.7777777777777778, \"#fb9f3a\"], [0.8888888888888888, \"#fdca26\"], [1.0, \"#f0f921\"]], \"type\": \"histogram2dcontour\"}], \"mesh3d\": [{\"colorbar\": {\"outlinewidth\": 0, \"ticks\": \"\"}, \"type\": \"mesh3d\"}], \"parcoords\": [{\"line\": {\"colorbar\": {\"outlinewidth\": 0, \"ticks\": \"\"}}, \"type\": \"parcoords\"}], \"scatter\": [{\"marker\": {\"colorbar\": {\"outlinewidth\": 0, \"ticks\": \"\"}}, \"type\": \"scatter\"}], \"scatter3d\": [{\"line\": {\"colorbar\": {\"outlinewidth\": 0, \"ticks\": \"\"}}, \"marker\": {\"colorbar\": {\"outlinewidth\": 0, \"ticks\": \"\"}}, \"type\": \"scatter3d\"}], \"scattercarpet\": [{\"marker\": {\"colorbar\": {\"outlinewidth\": 0, \"ticks\": \"\"}}, \"type\": \"scattercarpet\"}], \"scattergeo\": [{\"marker\": {\"colorbar\": {\"outlinewidth\": 0, \"ticks\": \"\"}}, \"type\": \"scattergeo\"}], \"scattergl\": [{\"marker\": {\"colorbar\": {\"outlinewidth\": 0, \"ticks\": \"\"}}, \"type\": \"scattergl\"}], \"scattermapbox\": [{\"marker\": {\"colorbar\": {\"outlinewidth\": 0, \"ticks\": \"\"}}, \"type\": \"scattermapbox\"}], \"scatterpolar\": [{\"marker\": {\"colorbar\": {\"outlinewidth\": 0, \"ticks\": \"\"}}, \"type\": \"scatterpolar\"}], \"scatterpolargl\": [{\"marker\": {\"colorbar\": {\"outlinewidth\": 0, \"ticks\": \"\"}}, \"type\": \"scatterpolargl\"}], \"scatterternary\": [{\"marker\": {\"colorbar\": {\"outlinewidth\": 0, \"ticks\": \"\"}}, \"type\": \"scatterternary\"}], \"surface\": [{\"colorbar\": {\"outlinewidth\": 0, \"ticks\": \"\"}, \"colorscale\": [[0.0, \"#0d0887\"], [0.1111111111111111, \"#46039f\"], [0.2222222222222222, \"#7201a8\"], [0.3333333333333333, \"#9c179e\"], [0.4444444444444444, \"#bd3786\"], [0.5555555555555556, \"#d8576b\"], [0.6666666666666666, \"#ed7953\"], [0.7777777777777778, \"#fb9f3a\"], [0.8888888888888888, \"#fdca26\"], [1.0, \"#f0f921\"]], \"type\": \"surface\"}], \"table\": [{\"cells\": {\"fill\": {\"color\": \"#EBF0F8\"}, \"line\": {\"color\": \"white\"}}, \"header\": {\"fill\": {\"color\": \"#C8D4E3\"}, \"line\": {\"color\": \"white\"}}, \"type\": \"table\"}]}, \"layout\": {\"annotationdefaults\": {\"arrowcolor\": \"#2a3f5f\", \"arrowhead\": 0, \"arrowwidth\": 1}, \"colorscale\": {\"diverging\": [[0, \"#8e0152\"], [0.1, \"#c51b7d\"], [0.2, \"#de77ae\"], [0.3, \"#f1b6da\"], [0.4, \"#fde0ef\"], [0.5, \"#f7f7f7\"], [0.6, \"#e6f5d0\"], [0.7, \"#b8e186\"], [0.8, \"#7fbc41\"], [0.9, \"#4d9221\"], [1, \"#276419\"]], \"sequential\": [[0.0, \"#0d0887\"], [0.1111111111111111, \"#46039f\"], [0.2222222222222222, \"#7201a8\"], [0.3333333333333333, \"#9c179e\"], [0.4444444444444444, \"#bd3786\"], [0.5555555555555556, \"#d8576b\"], [0.6666666666666666, \"#ed7953\"], [0.7777777777777778, \"#fb9f3a\"], [0.8888888888888888, \"#fdca26\"], [1.0, \"#f0f921\"]], \"sequentialminus\": [[0.0, \"#0d0887\"], [0.1111111111111111, \"#46039f\"], [0.2222222222222222, \"#7201a8\"], [0.3333333333333333, \"#9c179e\"], [0.4444444444444444, \"#bd3786\"], [0.5555555555555556, \"#d8576b\"], [0.6666666666666666, \"#ed7953\"], [0.7777777777777778, \"#fb9f3a\"], [0.8888888888888888, \"#fdca26\"], [1.0, \"#f0f921\"]]}, \"colorway\": [\"#636efa\", \"#EF553B\", \"#00cc96\", \"#ab63fa\", \"#FFA15A\", \"#19d3f3\", \"#FF6692\", \"#B6E880\", \"#FF97FF\", \"#FECB52\"], \"font\": {\"color\": \"#2a3f5f\"}, \"geo\": {\"bgcolor\": \"white\", \"lakecolor\": \"white\", \"landcolor\": \"#E5ECF6\", \"showlakes\": true, \"showland\": true, \"subunitcolor\": \"white\"}, \"hoverlabel\": {\"align\": \"left\"}, \"hovermode\": \"closest\", \"mapbox\": {\"style\": \"light\"}, \"paper_bgcolor\": \"white\", \"plot_bgcolor\": \"#E5ECF6\", \"polar\": {\"angularaxis\": {\"gridcolor\": \"white\", \"linecolor\": \"white\", \"ticks\": \"\"}, \"bgcolor\": \"#E5ECF6\", \"radialaxis\": {\"gridcolor\": \"white\", \"linecolor\": \"white\", \"ticks\": \"\"}}, \"scene\": {\"xaxis\": {\"backgroundcolor\": \"#E5ECF6\", \"gridcolor\": \"white\", \"gridwidth\": 2, \"linecolor\": \"white\", \"showbackground\": true, \"ticks\": \"\", \"zerolinecolor\": \"white\"}, \"yaxis\": {\"backgroundcolor\": \"#E5ECF6\", \"gridcolor\": \"white\", \"gridwidth\": 2, \"linecolor\": \"white\", \"showbackground\": true, \"ticks\": \"\", \"zerolinecolor\": \"white\"}, \"zaxis\": {\"backgroundcolor\": \"#E5ECF6\", \"gridcolor\": \"white\", \"gridwidth\": 2, \"linecolor\": \"white\", \"showbackground\": true, \"ticks\": \"\", \"zerolinecolor\": \"white\"}}, \"shapedefaults\": {\"line\": {\"color\": \"#2a3f5f\"}}, \"ternary\": {\"aaxis\": {\"gridcolor\": \"white\", \"linecolor\": \"white\", \"ticks\": \"\"}, \"baxis\": {\"gridcolor\": \"white\", \"linecolor\": \"white\", \"ticks\": \"\"}, \"bgcolor\": \"#E5ECF6\", \"caxis\": {\"gridcolor\": \"white\", \"linecolor\": \"white\", \"ticks\": \"\"}}, \"title\": {\"x\": 0.05}, \"xaxis\": {\"automargin\": true, \"gridcolor\": \"white\", \"linecolor\": \"white\", \"ticks\": \"\", \"zerolinecolor\": \"white\", \"zerolinewidth\": 2}, \"yaxis\": {\"automargin\": true, \"gridcolor\": \"white\", \"linecolor\": \"white\", \"ticks\": \"\", \"zerolinecolor\": \"white\", \"zerolinewidth\": 2}}}},\n",
       "                        {\"responsive\": true}\n",
       "                    ).then(function(){\n",
       "                            \n",
       "var gd = document.getElementById('dd9359f6-ed4a-4b35-a1b1-98e99fb9b9ee');\n",
       "var x = new MutationObserver(function (mutations, observer) {{\n",
       "        var display = window.getComputedStyle(gd).display;\n",
       "        if (!display || display === 'none') {{\n",
       "            console.log([gd, 'removed!']);\n",
       "            Plotly.purge(gd);\n",
       "            observer.disconnect();\n",
       "        }}\n",
       "}});\n",
       "\n",
       "// Listen for the removal of the full notebook cells\n",
       "var notebookContainer = gd.closest('#notebook-container');\n",
       "if (notebookContainer) {{\n",
       "    x.observe(notebookContainer, {childList: true});\n",
       "}}\n",
       "\n",
       "// Listen for the clearing of the current output cell\n",
       "var outputEl = gd.closest('.output');\n",
       "if (outputEl) {{\n",
       "    x.observe(outputEl, {childList: true});\n",
       "}}\n",
       "\n",
       "                        })\n",
       "                };\n",
       "                });\n",
       "            </script>\n",
       "        </div>"
      ]
     },
     "metadata": {},
     "output_type": "display_data"
    }
   ],
   "source": [
    "id_place = 163\n",
    "id_good = 374\n",
    "\n",
    "\n",
    "pred_date = str(datetime.datetime.strptime(max_date, \"%Y-%m-%d\") - datetime.timedelta(days=14))[:10]\n",
    "\n",
    "df_plot = pay_aggr_df[(pay_aggr_df['date'] > pred_date)][(pay_aggr_df.id_place == id_place)\n",
    "                 &(pay_aggr_df.id_good == id_good)][:]\n",
    "\n",
    "\n",
    "    \n",
    "\n",
    "iplot([{\"x\": df_plot['date'], \"y\": df_plot['count'] \n",
    "        , \"name\" :\"pred revenue\" , \"line_shape\":'spline'}\n",
    "       ,{\"x\": df_plot[df_plot['date'] < max_date]['date'], \"y\": df_plot[df_plot['date'] < max_date]['count'] \n",
    "        , \"name\" :\"real revenue\" , \"line_shape\":'spline'}\n",
    "      ])\n",
    "\n",
    "\n"
   ]
  },
  {
   "cell_type": "code",
   "execution_count": null,
   "metadata": {},
   "outputs": [],
   "source": []
  },
  {
   "cell_type": "code",
   "execution_count": null,
   "metadata": {},
   "outputs": [],
   "source": []
  },
  {
   "cell_type": "code",
   "execution_count": null,
   "metadata": {},
   "outputs": [],
   "source": []
  },
  {
   "cell_type": "code",
   "execution_count": null,
   "metadata": {},
   "outputs": [],
   "source": []
  },
  {
   "cell_type": "code",
   "execution_count": null,
   "metadata": {},
   "outputs": [],
   "source": []
  },
  {
   "cell_type": "code",
   "execution_count": null,
   "metadata": {},
   "outputs": [],
   "source": []
  }
 ],
 "metadata": {
  "kernelspec": {
   "display_name": "Python 3",
   "language": "python",
   "name": "python3"
  },
  "language_info": {
   "codemirror_mode": {
    "name": "ipython",
    "version": 3
   },
   "file_extension": ".py",
   "mimetype": "text/x-python",
   "name": "python",
   "nbconvert_exporter": "python",
   "pygments_lexer": "ipython3",
   "version": "3.7.3"
  }
 },
 "nbformat": 4,
 "nbformat_minor": 2
}
