{
 "cells": [
  {
   "cell_type": "markdown",
   "metadata": {},
   "source": [
    "# Задача оценки индивиудальных эффектов от воздействия"
   ]
  },
  {
   "cell_type": "markdown",
   "metadata": {},
   "source": [
    "## Загрузка данных\n",
    "\n",
    "Мы будем работать с данным с соревнования \"[MineThatData E-Mail Analytics And Data Mining Challenge](https://blog.minethatdata.com/2008/03/minethatdata-e-mail-analytics-and-data.html)\", 2008 год.\n",
    "\n",
    "Прежде всего нужно скачать данные."
   ]
  },
  {
   "cell_type": "code",
   "execution_count": 1,
   "metadata": {},
   "outputs": [],
   "source": [
    "import pandas as pd\n",
    "import numpy as np"
   ]
  },
  {
   "cell_type": "code",
   "execution_count": 2,
   "metadata": {},
   "outputs": [],
   "source": [
    "# Только для красоты, в реальной жизни Warnings могут помочь найти ошибку в коде\n",
    "import warnings\n",
    "warnings.filterwarnings('ignore')"
   ]
  },
  {
   "cell_type": "code",
   "execution_count": 3,
   "metadata": {},
   "outputs": [],
   "source": [
    "db = pd.read_csv(\"http://www.minethatdata.com/Kevin_Hillstrom_MineThatData_E-MailAnalytics_DataMiningChallenge_2008.03.20.csv\")"
   ]
  },
  {
   "cell_type": "code",
   "execution_count": 4,
   "metadata": {},
   "outputs": [
    {
     "name": "stdout",
     "output_type": "stream",
     "text": [
      "   recency history_segment  history  mens  womens   zip_code  newbie channel  \\\n",
      "0       10  2) $100 - $200   142.44     1       0  Surburban       0   Phone   \n",
      "1        6  3) $200 - $350   329.08     1       1      Rural       1     Web   \n",
      "2        7  2) $100 - $200   180.65     0       1  Surburban       1     Web   \n",
      "3        9  5) $500 - $750   675.83     1       0      Rural       1     Web   \n",
      "4        2    1) $0 - $100    45.34     1       0      Urban       0     Web   \n",
      "\n",
      "         segment  visit  conversion  spend  \n",
      "0  Womens E-Mail      0           0    0.0  \n",
      "1      No E-Mail      0           0    0.0  \n",
      "2  Womens E-Mail      0           0    0.0  \n",
      "3    Mens E-Mail      0           0    0.0  \n",
      "4  Womens E-Mail      0           0    0.0  \n",
      "<class 'pandas.core.frame.DataFrame'>\n",
      "RangeIndex: 64000 entries, 0 to 63999\n",
      "Data columns (total 12 columns):\n",
      "recency            64000 non-null int64\n",
      "history_segment    64000 non-null object\n",
      "history            64000 non-null float64\n",
      "mens               64000 non-null int64\n",
      "womens             64000 non-null int64\n",
      "zip_code           64000 non-null object\n",
      "newbie             64000 non-null int64\n",
      "channel            64000 non-null object\n",
      "segment            64000 non-null object\n",
      "visit              64000 non-null int64\n",
      "conversion         64000 non-null int64\n",
      "spend              64000 non-null float64\n",
      "dtypes: float64(2), int64(6), object(4)\n",
      "memory usage: 5.9+ MB\n",
      "None\n",
      "            recency       history          mens        womens        newbie  \\\n",
      "count  64000.000000  64000.000000  64000.000000  64000.000000  64000.000000   \n",
      "mean       5.763734    242.085656      0.551031      0.549719      0.502250   \n",
      "std        3.507592    256.158608      0.497393      0.497526      0.499999   \n",
      "min        1.000000     29.990000      0.000000      0.000000      0.000000   \n",
      "25%        2.000000     64.660000      0.000000      0.000000      0.000000   \n",
      "50%        6.000000    158.110000      1.000000      1.000000      1.000000   \n",
      "75%        9.000000    325.657500      1.000000      1.000000      1.000000   \n",
      "max       12.000000   3345.930000      1.000000      1.000000      1.000000   \n",
      "\n",
      "              visit    conversion         spend  \n",
      "count  64000.000000  64000.000000  64000.000000  \n",
      "mean       0.146781      0.009031      1.050908  \n",
      "std        0.353890      0.094604     15.036448  \n",
      "min        0.000000      0.000000      0.000000  \n",
      "25%        0.000000      0.000000      0.000000  \n",
      "50%        0.000000      0.000000      0.000000  \n",
      "75%        0.000000      0.000000      0.000000  \n",
      "max        1.000000      1.000000    499.000000  \n"
     ]
    }
   ],
   "source": [
    "print(db.head())\n",
    "print(db.info())\n",
    "print(db.describe())"
   ]
  },
  {
   "cell_type": "code",
   "execution_count": 5,
   "metadata": {},
   "outputs": [
    {
     "name": "stdout",
     "output_type": "stream",
     "text": [
      "<class 'pandas.core.frame.DataFrame'>\n",
      "RangeIndex: 64000 entries, 0 to 63999\n",
      "Data columns (total 12 columns):\n",
      "recency            64000 non-null int64\n",
      "history_segment    64000 non-null category\n",
      "history            64000 non-null float64\n",
      "mens               64000 non-null int64\n",
      "womens             64000 non-null int64\n",
      "zip_code           64000 non-null category\n",
      "newbie             64000 non-null int64\n",
      "channel            64000 non-null category\n",
      "segment            64000 non-null category\n",
      "visit              64000 non-null int64\n",
      "conversion         64000 non-null int64\n",
      "spend              64000 non-null float64\n",
      "dtypes: category(4), float64(2), int64(6)\n",
      "memory usage: 4.2 MB\n"
     ]
    }
   ],
   "source": [
    "db[['history_segment','zip_code','channel','segment']]= \\\n",
    "db[['history_segment','zip_code','channel','segment']].astype('category')\n",
    "\n",
    "db.info()"
   ]
  },
  {
   "cell_type": "markdown",
   "metadata": {},
   "source": [
    "Познакомтесь с выборкой данных. \n",
    "\n",
    "* Какая переменная отвечает за воздействие Trt?\n",
    "* Сколько было воздействий?\n",
    "* Какая(какие) переменный отвечают за переменную отклика Y?\n",
    "* Какие есть независимые переменные X?"
   ]
  },
  {
   "cell_type": "code",
   "execution_count": null,
   "metadata": {},
   "outputs": [],
   "source": [
    "# TODO"
   ]
  },
  {
   "cell_type": "markdown",
   "metadata": {},
   "source": [
    "## Бизнес задача\n",
    "\n",
    "Данные являются данными эксперимента, в котором людям рассылалось письмо с рекламой мужского или женского товара (случайно). Также треть людей не получала таких писем (контрольная группа).\n",
    "\n",
    "В силу того, что подобное воздействие скорее приведёт человека в магазин и в меньшей степени увеличит его средний чек, переменной отклика являются бинарные переменные наличие визита, либо конверсии. В рамках данного семинара, будем рассматривать переменную визита в качестве переменной отклика.\n",
    "\n",
    "Также будем рассматривать только контрольную группу и людей получивших рекламу женского товара в качестве тестовой группы"
   ]
  },
  {
   "cell_type": "code",
   "execution_count": 6,
   "metadata": {},
   "outputs": [
    {
     "name": "stdout",
     "output_type": "stream",
     "text": [
      "(42693, 12)\n",
      "Womens E-Mail    21387\n",
      "No E-Mail        21306\n",
      "Mens E-Mail          0\n",
      "Name: segment, dtype: int64\n"
     ]
    }
   ],
   "source": [
    "work_db=db.loc[(db.segment == \"Womens E-Mail\") | (db.segment == \"No E-Mail\")]\n",
    "print(work_db.shape)\n",
    "print(pd.value_counts(work_db.segment))"
   ]
  },
  {
   "cell_type": "markdown",
   "metadata": {},
   "source": [
    "## Проверка качества модели\n",
    "\n",
    "Предположим что у нас есть две модели, каждая из которых сделал своё предсказание. Как понять  какая модель лучше?\n",
    "\n",
    "Сначала предсказания:"
   ]
  },
  {
   "cell_type": "code",
   "execution_count": 7,
   "metadata": {},
   "outputs": [],
   "source": [
    "deltaVisit1 = pd.Series(np.random.random_sample(work_db.shape[0]) * 2 - 1)\n",
    "deltaVisit2 = pd.Series(np.random.random_sample(work_db.shape[0]) * 2 - 1)"
   ]
  },
  {
   "cell_type": "markdown",
   "metadata": {},
   "source": [
    "В данном случае будем считать, что мы можем отправить только 10000 сообщений. Нам необходимо понять, кому из 40000 клиентов мы будем отправлять сообщения.\n",
    "\n",
    "Для этого воспользуемся каждой моделью и отберём лучшие с точки зрения модели предсказания:"
   ]
  },
  {
   "cell_type": "code",
   "execution_count": 8,
   "metadata": {},
   "outputs": [],
   "source": [
    "model1_top_10percent_quality = deltaVisit1.sort_values(ascending=False)[10000]\n",
    "model2_top_10percent_quality = deltaVisit2.sort_values(ascending=False)[10000]\n"
   ]
  },
  {
   "cell_type": "markdown",
   "metadata": {},
   "source": [
    "Для оценки качества предсказаний нам потребуется только та часть данных, которая касается Y и Trt"
   ]
  },
  {
   "cell_type": "code",
   "execution_count": 9,
   "metadata": {},
   "outputs": [],
   "source": [
    "yTrtDB = work_db[[\"segment\",\"visit\"]]"
   ]
  },
  {
   "cell_type": "markdown",
   "metadata": {},
   "source": [
    "Выберем только лучшие с точки зрения каждой модели наблюдения."
   ]
  },
  {
   "cell_type": "code",
   "execution_count": 10,
   "metadata": {},
   "outputs": [],
   "source": [
    "model1_db = yTrtDB.loc[deltaVisit1.values >= model1_top_10percent_quality]\n",
    "model2_db = yTrtDB.loc[deltaVisit2.values >= model2_top_10percent_quality]"
   ]
  },
  {
   "cell_type": "markdown",
   "metadata": {},
   "source": [
    "Теперь нужно определиться как мерить качество. В маркетинге обычно интересует общий эффект, от воздействия. Действительно, даже если мы увеличиваем вероятность прихода на 0.001%, а воздействие бесплатное, то это потенциально может принести деньги в компанию. Поэтому зададим функцию качества как общий эффект от воздействия."
   ]
  },
  {
   "cell_type": "code",
   "execution_count": 11,
   "metadata": {},
   "outputs": [],
   "source": [
    "def TotalTreatmentEffect(y,trt):\n",
    "    return (y[trt == 1].mean() - y[trt==0].mean() )*len(y)"
   ]
  },
  {
   "cell_type": "code",
   "execution_count": 12,
   "metadata": {},
   "outputs": [
    {
     "name": "stdout",
     "output_type": "stream",
     "text": [
      "0.15552069033143753\n",
      "0.10956521739130434\n",
      "10274\n",
      "472.1465289869284\n"
     ]
    }
   ],
   "source": [
    "y=model1_db.visit\n",
    "trt=model1_db.segment==\"Womens E-Mail\"\n",
    "\n",
    "print(y[trt==1].mean())\n",
    "print(y[trt==0].mean())\n",
    "print(len(y))\n",
    "\n",
    "print( TotalTreatmentEffect(y,trt))"
   ]
  },
  {
   "cell_type": "markdown",
   "metadata": {},
   "source": [
    "Вторая модель:"
   ]
  },
  {
   "cell_type": "code",
   "execution_count": 13,
   "metadata": {},
   "outputs": [
    {
     "name": "stdout",
     "output_type": "stream",
     "text": [
      "967.5086661801993\n"
     ]
    }
   ],
   "source": [
    "print( TotalTreatmentEffect(model2_db.visit,model2_db.segment==\"Womens E-Mail\"))"
   ]
  },
  {
   "cell_type": "markdown",
   "metadata": {},
   "source": [
    "А если сразу всем людям отправлять сообщение?"
   ]
  },
  {
   "cell_type": "code",
   "execution_count": 14,
   "metadata": {},
   "outputs": [
    {
     "name": "stdout",
     "output_type": "stream",
     "text": [
      "1931.1370195210532\n"
     ]
    }
   ],
   "source": [
    "print( TotalTreatmentEffect(yTrtDB.visit,yTrtDB.segment==\"Womens E-Mail\"))"
   ]
  },
  {
   "cell_type": "markdown",
   "metadata": {},
   "source": [
    "Вариативность предсказания очень большая. Чтобы её оценить нужна cross-валидация. Об этом позже."
   ]
  },
  {
   "cell_type": "markdown",
   "metadata": {},
   "source": [
    "## Метод двух моделей\n",
    "\n",
    "Метод двух моделей заключается в разделении обучающей выборки на две части в соответсвии с переменной Trt. В этом случае будут обучены две модели. Разница предсказаний этих моделей и есть предсказание эффекта от воздействия. Сами модели могут строится любым алгоритмом машинного обучения.\n",
    "\n",
    "Для начала нужно определить функцию, которая будет обучать модель."
   ]
  },
  {
   "cell_type": "code",
   "execution_count": 15,
   "metadata": {},
   "outputs": [],
   "source": [
    "def TrainTwoModels(X, y, trt, getModelFunc):\n",
    "    m1 = None # TODO\n",
    "    m0 = None # TODO\n",
    "    return {'M1': m1, 'M0': m0}"
   ]
  },
  {
   "cell_type": "markdown",
   "metadata": {},
   "source": [
    "И теперь обучаем модель. Для этого сначала создаем функцию, которая возвращает объект логистической регрессии"
   ]
  },
  {
   "cell_type": "code",
   "execution_count": 16,
   "metadata": {},
   "outputs": [],
   "source": [
    "from sklearn.linear_model import LogisticRegression\n",
    "\n",
    "def getLogisticRegressionModel():\n",
    " return LogisticRegression(random_state=0,solver=\"lbfgs\")\n"
   ]
  },
  {
   "cell_type": "code",
   "execution_count": 17,
   "metadata": {},
   "outputs": [],
   "source": [
    "twoLogisticModels = TrainTwoModels(\\\n",
    "    pd.get_dummies(work_db.drop(columns=[\"segment\",\"visit\",\"conversion\",\"spend\"])), \\\n",
    "    work_db.visit, work_db.segment==\"Womens E-Mail\",getLogisticRegressionModel)"
   ]
  },
  {
   "cell_type": "markdown",
   "metadata": {},
   "source": [
    "Теперь определим функцию предсказания с помощью двух моделей"
   ]
  },
  {
   "cell_type": "code",
   "execution_count": 18,
   "metadata": {},
   "outputs": [],
   "source": [
    "def PredictByTwoModels(model, X):\n",
    "    return None # TODO"
   ]
  },
  {
   "cell_type": "markdown",
   "metadata": {},
   "source": [
    "И само предсказание"
   ]
  },
  {
   "cell_type": "code",
   "execution_count": 19,
   "metadata": {},
   "outputs": [
    {
     "data": {
      "text/plain": [
       "array([-0.08319907, -0.05222644, -0.0438424 , -0.03691383, -0.03145958])"
      ]
     },
     "execution_count": 19,
     "metadata": {},
     "output_type": "execute_result"
    }
   ],
   "source": [
    "deltaYTwoModels = PredictByTwoModels(twoLogisticModels, pd.get_dummies(work_db.drop(columns=[\"segment\",\"visit\",\"conversion\",\"spend\"])))\n",
    "np.percentile(deltaYTwoModels,q=[0,0.25,0.5,0.75,1])"
   ]
  },
  {
   "cell_type": "markdown",
   "metadata": {},
   "source": [
    "## Сведение к задаче классификации\n",
    "\n",
    "В данном подразделе мы изменим переменную Y так, чтобы можно было решать обычную задачу классификации.\n",
    "\n",
    "Определим специальную функцию обучения:"
   ]
  },
  {
   "cell_type": "code",
   "execution_count": 20,
   "metadata": {},
   "outputs": [],
   "source": [
    "def TrainTaskReduction(X,y,trt,getModelFunc):\n",
    "    z = None # TODO\n",
    "    weights = None # TODO\n",
    "    return getModelFunc().fit(X, z, sample_weight=weights)"
   ]
  },
  {
   "cell_type": "markdown",
   "metadata": {},
   "source": [
    "Обучаем логистическую регрессию"
   ]
  },
  {
   "cell_type": "code",
   "execution_count": 21,
   "metadata": {},
   "outputs": [],
   "source": [
    "taskReductionModel = TrainTaskReduction(\\\n",
    "    pd.get_dummies(work_db.drop(columns=[\"segment\",\"visit\",\"conversion\",\"spend\"])), \\\n",
    "    work_db.visit, work_db.segment==\"Womens E-Mail\",getLogisticRegressionModel)"
   ]
  },
  {
   "cell_type": "markdown",
   "metadata": {},
   "source": [
    "Предсказание в этом случае делается через стандартную функцию с обратным преобразованием в вероятность. Обратите внимание, что предсказания распределены похожим образом на метод двух моделей."
   ]
  },
  {
   "cell_type": "code",
   "execution_count": 22,
   "metadata": {},
   "outputs": [],
   "source": [
    "def PredictTaskReduction(model,X):\n",
    "    return None # TODO"
   ]
  },
  {
   "cell_type": "code",
   "execution_count": 23,
   "metadata": {},
   "outputs": [
    {
     "data": {
      "text/plain": [
       "array([-0.04235853, -0.03775481, -0.03375118, -0.03090379, -0.02898568])"
      ]
     },
     "execution_count": 23,
     "metadata": {},
     "output_type": "execute_result"
    }
   ],
   "source": [
    "deltaYTaskReduction = PredictTaskReduction(taskReductionModel,\\\n",
    "    pd.get_dummies(work_db.drop(columns=[\"segment\",\"visit\",\"conversion\",\"spend\"])))\n",
    "np.percentile(deltaYTaskReduction,q=[0,0.25,0.5,0.75,1])"
   ]
  },
  {
   "cell_type": "markdown",
   "metadata": {},
   "source": [
    "## Сравнение моделей\n",
    "\n",
    "В данном раздели мы сравним какая из описанных выше моделей более надёжна на этих данных. Сама задача оценки эффекта от воздействия намного более склонна к переобучению, чем классические задачи классификации и регресси.\n",
    "\n",
    "Поэтому многократная cross-валидация крайне желательна. Вариант k-fold cross-валидация здесь не применима. Поэтому будем многократно бить случайно на обучающую и тестовую выборки, обучать модели и сравнивать качество.\n",
    "\n",
    "Напомним, что качество мы будем считать как максимальный общий эффект от воздействия достигнутый на выборке размера 10000."
   ]
  },
  {
   "cell_type": "code",
   "execution_count": 24,
   "metadata": {},
   "outputs": [],
   "source": [
    "def TotalTreatmentEffect(y,trt):\n",
    "    return (y[trt == 1].mean() - y[trt==0].mean() )*len(y)"
   ]
  },
  {
   "cell_type": "markdown",
   "metadata": {},
   "source": [
    "Ниже определены параметры, которые будут использоваться в нашей cross-валидации."
   ]
  },
  {
   "cell_type": "code",
   "execution_count": 25,
   "metadata": {},
   "outputs": [],
   "source": [
    "cv_Num=20 # Количество итераций (случайных сплитов на train-test)\n",
    "cv_prop = 0.5 # Пропорция всех наблюдений, попадающих в обучающую выборку\n",
    "cv_n_select = 5000 # Скольким клиентам можем отправить СМС из тестовой выборке\n",
    "\n",
    "# Это для удобства доступа к независимым переменным, переменной отклика и переменной воздействия.\n",
    "X_all = pd.get_dummies(work_db.drop(columns=[\"segment\",\"visit\",\"conversion\",\"spend\"]))\n",
    "Y_all = work_db.visit\n",
    "Trt_all = work_db.segment==\"Womens E-Mail\"\n",
    "\n",
    "# И общее количество наблюдений\n",
    "n = X_all.shape[0]"
   ]
  },
  {
   "cell_type": "code",
   "execution_count": 26,
   "metadata": {},
   "outputs": [],
   "source": [
    "# В таблице result должны быть две колонки и cv_Num строк.\n",
    "# Каждая колонка соответсвует одному из тестируемых методов.\n",
    "# Каждая строка соответсвует одной итерации разбиения выборки данных на train-test\n",
    "result = pd.DataFrame(None, columns=[\"Q_2m\",\"Q_Reduct\"])\n",
    "\n",
    "# Напишите функцию cross-валидации, которая заполняет таблицу result\n",
    "# TODO"
   ]
  },
  {
   "cell_type": "code",
   "execution_count": 28,
   "metadata": {},
   "outputs": [
    {
     "data": {
      "text/plain": [
       "<matplotlib.axes._subplots.AxesSubplot at 0x7f272996b828>"
      ]
     },
     "execution_count": 28,
     "metadata": {},
     "output_type": "execute_result"
    },
    {
     "data": {
      "image/png": "[encoded data removed]",
      "text/plain": [
       "<Figure size 432x288 with 1 Axes>"
      ]
     },
     "metadata": {
      "needs_background": "light"
     },
     "output_type": "display_data"
    }
   ],
   "source": [
    "result.boxplot()"
   ]
  }
 ],
 "metadata": {
  "kernelspec": {
   "display_name": "Python 3",
   "language": "python",
   "name": "python3"
  },
  "language_info": {
   "codemirror_mode": {
    "name": "ipython",
    "version": 3
   },
   "file_extension": ".py",
   "mimetype": "text/x-python",
   "name": "python",
   "nbconvert_exporter": "python",
   "pygments_lexer": "ipython3",
   "version": "3.7.3"
  }
 },
 "nbformat": 4,
 "nbformat_minor": 2
}
