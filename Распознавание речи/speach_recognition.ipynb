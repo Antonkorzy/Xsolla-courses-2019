{
 "cells": [
  {
   "cell_type": "code",
   "execution_count": 2,
   "metadata": {},
   "outputs": [],
   "source": [
    "# pip install SpeechRecognition\n",
    "# brew install portaudio\n",
    "# pip install --global-option='build_ext' --global-option='-I/usr/local/include' --global-option='-L/usr/local/lib' pyaudio\n",
    "\n",
    "\n",
    "import speech_recognition as sr"
   ]
  },
  {
   "cell_type": "code",
   "execution_count": 7,
   "metadata": {},
   "outputs": [],
   "source": [
    "r = sr.Recognizer()"
   ]
  },
  {
   "cell_type": "code",
   "execution_count": 14,
   "metadata": {},
   "outputs": [
    {
     "name": "stdout",
     "output_type": "stream",
     "text": [
      "say something\n",
      "time over\n",
      "english\n",
      "text:Young Subaru coupon Vistaprint\n",
      "russian\n",
      "text:Я говорю по-русски по-английски по-немецки по хинди\n",
      "hindi\n",
      "text:यज्ञ वीडियो पर उसके पुलिस के पंचायत के वकील\n",
      "Germany\n",
      "text:ja du würdest berufsgruppenliste Boni märzke hingibt\n",
      "Mongolian\n",
      "text:Young Subaru coupon Vistaprint\n"
     ]
    }
   ],
   "source": [
    "with sr.Microphone() as source:\n",
    "    print('say something')\n",
    "    audio = r.listen(source)\n",
    "    print('time over')\n",
    "    \n",
    "    \n",
    "#https://gist.github.com/msikma/8912e62ed866778ff8cd   \n",
    "\n",
    "print('english')\n",
    "print('text:{0}'.format(r.recognize_google(audio , language = 'en-US')))\n",
    "print('russian')\n",
    "print('text:{0}'.format(r.recognize_google(audio , language = 'ru-RU')))\n",
    "print('hindi')\n",
    "print('text:{0}'.format(r.recognize_google(audio , language = 'hi-IN')))\n",
    "print('Germany')\n",
    "print('text:{0}'.format(r.recognize_google(audio , language = 'de-DE')))\n",
    "print('Mongolian')\n",
    "print('text:{0}'.format(r.recognize_google(audio , language = 'mn-MN')))\n",
    "\n",
    "    \n"
   ]
  },
  {
   "cell_type": "code",
   "execution_count": null,
   "metadata": {},
   "outputs": [],
   "source": []
  }
 ],
 "metadata": {
  "kernelspec": {
   "display_name": "Python 3",
   "language": "python",
   "name": "python3"
  },
  "language_info": {
   "codemirror_mode": {
    "name": "ipython",
    "version": 3
   },
   "file_extension": ".py",
   "mimetype": "text/x-python",
   "name": "python",
   "nbconvert_exporter": "python",
   "pygments_lexer": "ipython3",
   "version": "3.7.3"
  }
 },
 "nbformat": 4,
 "nbformat_minor": 2
}
